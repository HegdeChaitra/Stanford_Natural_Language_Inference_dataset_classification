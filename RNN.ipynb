{
 "cells": [
  {
   "cell_type": "code",
   "execution_count": 1,
   "metadata": {},
   "outputs": [],
   "source": [
    "# First lets improve libraries that we are going to be used in this lab session\n",
    "import numpy as np\n",
    "import torch\n",
    "import torch.nn as nn\n",
    "import torch.nn.functional as F\n",
    "from torch.utils.data import Dataset\n",
    "from collections import Counter\n",
    "import pickle as pkl\n",
    "import random\n",
    "import pdb\n",
    "random.seed(134)\n",
    "import pandas as pd\n",
    "import matplotlib.pyplot as plt\n",
    "\n",
    "PAD_IDX = 0\n",
    "UNK_IDX = 1\n",
    "BATCH_SIZE = 32"
   ]
  },
  {
   "cell_type": "code",
   "execution_count": 36,
   "metadata": {},
   "outputs": [],
   "source": [
    "def count_parameters(model):\n",
    "    return sum(p.numel() for p in model.parameters() if p.requires_grad)"
   ]
  },
  {
   "cell_type": "code",
   "execution_count": 2,
   "metadata": {},
   "outputs": [],
   "source": [
    "from collections import Counter\n",
    "\n",
    "# max_vocab_size = 25000\n",
    "PAD_IDX = 0\n",
    "UNK_IDX = 1\n",
    "\n",
    "def build_vocab(all_tokens):\n",
    "    token_counter = Counter(all_tokens)\n",
    "#     print(token_counter)\n",
    "    vocab = token_counter.keys()\n",
    "    id2token = list(vocab)\n",
    "    token2id = dict(zip(vocab, range(2,2+len(vocab)))) \n",
    "    id2token = ['<pad>', '<unk>'] + id2token\n",
    "    token2id['<pad>'] = PAD_IDX \n",
    "    token2id['<unk>'] = UNK_IDX\n",
    "    return token2id, id2token\n",
    "\n",
    "def read_data(fine_name):\n",
    "    df = pd.read_csv(fine_name,sep='\\t')\n",
    "    return df"
   ]
  },
  {
   "cell_type": "code",
   "execution_count": 3,
   "metadata": {},
   "outputs": [],
   "source": [
    "df_train = read_data(\"snli_train.tsv\")\n",
    "df_val = read_data(\"snli_val.tsv\")"
   ]
  },
  {
   "cell_type": "code",
   "execution_count": 4,
   "metadata": {},
   "outputs": [
    {
     "data": {
      "text/html": [
       "<div>\n",
       "<style scoped>\n",
       "    .dataframe tbody tr th:only-of-type {\n",
       "        vertical-align: middle;\n",
       "    }\n",
       "\n",
       "    .dataframe tbody tr th {\n",
       "        vertical-align: top;\n",
       "    }\n",
       "\n",
       "    .dataframe thead th {\n",
       "        text-align: right;\n",
       "    }\n",
       "</style>\n",
       "<table border=\"1\" class=\"dataframe\">\n",
       "  <thead>\n",
       "    <tr style=\"text-align: right;\">\n",
       "      <th></th>\n",
       "      <th>sentence1</th>\n",
       "      <th>sentence2</th>\n",
       "      <th>label</th>\n",
       "    </tr>\n",
       "  </thead>\n",
       "  <tbody>\n",
       "    <tr>\n",
       "      <th>0</th>\n",
       "      <td>A young girl in a pink shirt sitting on a dock...</td>\n",
       "      <td>A young girl watching the sunset over the water .</td>\n",
       "      <td>neutral</td>\n",
       "    </tr>\n",
       "    <tr>\n",
       "      <th>1</th>\n",
       "      <td>A woman is smiling while the man next to her i...</td>\n",
       "      <td>Two people are next to each other .</td>\n",
       "      <td>entailment</td>\n",
       "    </tr>\n",
       "    <tr>\n",
       "      <th>2</th>\n",
       "      <td>Across the river , you can see a large building .</td>\n",
       "      <td>The large building is full of apartments and t...</td>\n",
       "      <td>neutral</td>\n",
       "    </tr>\n",
       "    <tr>\n",
       "      <th>3</th>\n",
       "      <td>a man in white shorts and a black shirt is par...</td>\n",
       "      <td>A man is riding a jetski on the ocean .</td>\n",
       "      <td>contradiction</td>\n",
       "    </tr>\n",
       "    <tr>\n",
       "      <th>4</th>\n",
       "      <td>Four black dogs run together on bright green g...</td>\n",
       "      <td>Four dogs are preparing to be launched into sp...</td>\n",
       "      <td>contradiction</td>\n",
       "    </tr>\n",
       "  </tbody>\n",
       "</table>\n",
       "</div>"
      ],
      "text/plain": [
       "                                           sentence1  \\\n",
       "0  A young girl in a pink shirt sitting on a dock...   \n",
       "1  A woman is smiling while the man next to her i...   \n",
       "2  Across the river , you can see a large building .   \n",
       "3  a man in white shorts and a black shirt is par...   \n",
       "4  Four black dogs run together on bright green g...   \n",
       "\n",
       "                                           sentence2          label  \n",
       "0  A young girl watching the sunset over the water .        neutral  \n",
       "1                Two people are next to each other .     entailment  \n",
       "2  The large building is full of apartments and t...        neutral  \n",
       "3            A man is riding a jetski on the ocean .  contradiction  \n",
       "4  Four dogs are preparing to be launched into sp...  contradiction  "
      ]
     },
     "execution_count": 4,
     "metadata": {},
     "output_type": "execute_result"
    }
   ],
   "source": [
    "df_train.head()"
   ]
  },
  {
   "cell_type": "code",
   "execution_count": 5,
   "metadata": {},
   "outputs": [],
   "source": [
    "def tokenize(df):\n",
    "    df['sentence1'] = df['sentence1'].apply(lambda x: [a.lower() for a in x.split(' ')])\n",
    "    df['sentence2'] = df['sentence2'].apply(lambda x : [a.lower() for a in x.split(' ')])\n",
    "    \n",
    "    return df"
   ]
  },
  {
   "cell_type": "code",
   "execution_count": 6,
   "metadata": {},
   "outputs": [],
   "source": [
    "df_train = tokenize(df_train)\n",
    "df_val = tokenize(df_val)"
   ]
  },
  {
   "cell_type": "code",
   "execution_count": 7,
   "metadata": {},
   "outputs": [
    {
     "data": {
      "text/html": [
       "<div>\n",
       "<style scoped>\n",
       "    .dataframe tbody tr th:only-of-type {\n",
       "        vertical-align: middle;\n",
       "    }\n",
       "\n",
       "    .dataframe tbody tr th {\n",
       "        vertical-align: top;\n",
       "    }\n",
       "\n",
       "    .dataframe thead th {\n",
       "        text-align: right;\n",
       "    }\n",
       "</style>\n",
       "<table border=\"1\" class=\"dataframe\">\n",
       "  <thead>\n",
       "    <tr style=\"text-align: right;\">\n",
       "      <th></th>\n",
       "      <th>sentence1</th>\n",
       "      <th>sentence2</th>\n",
       "      <th>label</th>\n",
       "    </tr>\n",
       "  </thead>\n",
       "  <tbody>\n",
       "    <tr>\n",
       "      <th>0</th>\n",
       "      <td>[a, young, girl, in, a, pink, shirt, sitting, ...</td>\n",
       "      <td>[a, young, girl, watching, the, sunset, over, ...</td>\n",
       "      <td>neutral</td>\n",
       "    </tr>\n",
       "    <tr>\n",
       "      <th>1</th>\n",
       "      <td>[a, woman, is, smiling, while, the, man, next,...</td>\n",
       "      <td>[two, people, are, next, to, each, other, .]</td>\n",
       "      <td>entailment</td>\n",
       "    </tr>\n",
       "    <tr>\n",
       "      <th>2</th>\n",
       "      <td>[across, the, river, ,, you, can, see, a, larg...</td>\n",
       "      <td>[the, large, building, is, full, of, apartment...</td>\n",
       "      <td>neutral</td>\n",
       "    </tr>\n",
       "    <tr>\n",
       "      <th>3</th>\n",
       "      <td>[a, man, in, white, shorts, and, a, black, shi...</td>\n",
       "      <td>[a, man, is, riding, a, jetski, on, the, ocean...</td>\n",
       "      <td>contradiction</td>\n",
       "    </tr>\n",
       "    <tr>\n",
       "      <th>4</th>\n",
       "      <td>[four, black, dogs, run, together, on, bright,...</td>\n",
       "      <td>[four, dogs, are, preparing, to, be, launched,...</td>\n",
       "      <td>contradiction</td>\n",
       "    </tr>\n",
       "  </tbody>\n",
       "</table>\n",
       "</div>"
      ],
      "text/plain": [
       "                                           sentence1  \\\n",
       "0  [a, young, girl, in, a, pink, shirt, sitting, ...   \n",
       "1  [a, woman, is, smiling, while, the, man, next,...   \n",
       "2  [across, the, river, ,, you, can, see, a, larg...   \n",
       "3  [a, man, in, white, shorts, and, a, black, shi...   \n",
       "4  [four, black, dogs, run, together, on, bright,...   \n",
       "\n",
       "                                           sentence2          label  \n",
       "0  [a, young, girl, watching, the, sunset, over, ...        neutral  \n",
       "1       [two, people, are, next, to, each, other, .]     entailment  \n",
       "2  [the, large, building, is, full, of, apartment...        neutral  \n",
       "3  [a, man, is, riding, a, jetski, on, the, ocean...  contradiction  \n",
       "4  [four, dogs, are, preparing, to, be, launched,...  contradiction  "
      ]
     },
     "execution_count": 7,
     "metadata": {},
     "output_type": "execute_result"
    }
   ],
   "source": [
    "df_train.head()"
   ]
  },
  {
   "cell_type": "code",
   "execution_count": 8,
   "metadata": {},
   "outputs": [],
   "source": [
    "words_to_load = 100000\n",
    "\n",
    "import numpy as np\n",
    "\n",
    "with open('wiki-news-300d-1M.vec') as f:\n",
    "    loaded_embeddings = np.zeros((words_to_load+2, 300))\n",
    "    words = {}\n",
    "    idx2words = {}\n",
    "    ordered_words = ['<pad>','<unk>']\n",
    "    i = 2\n",
    "    for line in f:\n",
    "        if i-2 >= words_to_load: \n",
    "            break\n",
    "        s = line.split()\n",
    "        loaded_embeddings[i, :] = np.asarray(s[1:])\n",
    "        words[s[0]] = i\n",
    "        idx2words[i] = s[0]\n",
    "        ordered_words.append(s[0])\n",
    "        i = i+1"
   ]
  },
  {
   "cell_type": "code",
   "execution_count": 9,
   "metadata": {},
   "outputs": [
    {
     "data": {
      "text/plain": [
       "100001"
      ]
     },
     "execution_count": 9,
     "metadata": {},
     "output_type": "execute_result"
    }
   ],
   "source": [
    "max(words.values())"
   ]
  },
  {
   "cell_type": "code",
   "execution_count": 10,
   "metadata": {},
   "outputs": [],
   "source": [
    "words['<pad>'] = 0\n",
    "words['<unk>'] = 1"
   ]
  },
  {
   "cell_type": "code",
   "execution_count": 11,
   "metadata": {},
   "outputs": [],
   "source": [
    "idx2words[0] = \"<pad>\"\n",
    "idx2words[1] = \"<unk>\""
   ]
  },
  {
   "cell_type": "code",
   "execution_count": 12,
   "metadata": {},
   "outputs": [],
   "source": [
    "# ordered_words.append(\"<pad>\")\n",
    "# ordered_words.append(\"<unk>\")"
   ]
  },
  {
   "cell_type": "code",
   "execution_count": 13,
   "metadata": {},
   "outputs": [],
   "source": [
    "# words\n",
    "def apply_idz(x):\n",
    "    temp = []\n",
    "    for a in x:\n",
    "        if a in ordered_words:\n",
    "            temp.append(words[a])\n",
    "        else:\n",
    "            temp.append(1)\n",
    "    return temp"
   ]
  },
  {
   "cell_type": "code",
   "execution_count": 14,
   "metadata": {},
   "outputs": [],
   "source": [
    "def idize(df):\n",
    "    df['sentence1_idz'] = df[\"sentence1\"].apply(apply_idz)\n",
    "    df['sentence2_idz'] = df[\"sentence2\"].apply(apply_idz)\n",
    "    return df"
   ]
  },
  {
   "cell_type": "code",
   "execution_count": null,
   "metadata": {},
   "outputs": [],
   "source": []
  },
  {
   "cell_type": "code",
   "execution_count": 15,
   "metadata": {},
   "outputs": [],
   "source": [
    "train_train = idize(df_train)"
   ]
  },
  {
   "cell_type": "code",
   "execution_count": 16,
   "metadata": {},
   "outputs": [],
   "source": [
    "val_val = idize(df_val)"
   ]
  },
  {
   "cell_type": "code",
   "execution_count": 17,
   "metadata": {},
   "outputs": [],
   "source": [
    "unk_vec = np.random.normal(size=300)\n",
    "pad_vec = np.random.normal(size=300)"
   ]
  },
  {
   "cell_type": "code",
   "execution_count": 18,
   "metadata": {},
   "outputs": [
    {
     "data": {
      "text/plain": [
       "(100002, 300)"
      ]
     },
     "execution_count": 18,
     "metadata": {},
     "output_type": "execute_result"
    }
   ],
   "source": [
    "loaded_embeddings.shape"
   ]
  },
  {
   "cell_type": "code",
   "execution_count": 19,
   "metadata": {},
   "outputs": [],
   "source": [
    "loaded_embeddings[0,:] = pad_vec\n",
    "# np.insert(loaded_embeddings,0,pad_vec,axis=0)\n",
    "loaded_embeddings[1,:] = unk_vec\n",
    "# np.insert(loaded_embeddings,1,unk_vec,axis=0)"
   ]
  },
  {
   "cell_type": "code",
   "execution_count": null,
   "metadata": {},
   "outputs": [],
   "source": []
  },
  {
   "cell_type": "code",
   "execution_count": 20,
   "metadata": {},
   "outputs": [
    {
     "data": {
      "text/plain": [
       "(100002, 300)"
      ]
     },
     "execution_count": 20,
     "metadata": {},
     "output_type": "execute_result"
    }
   ],
   "source": [
    "loaded_embeddings.shape"
   ]
  },
  {
   "cell_type": "code",
   "execution_count": 21,
   "metadata": {},
   "outputs": [
    {
     "data": {
      "text/html": [
       "<div>\n",
       "<style scoped>\n",
       "    .dataframe tbody tr th:only-of-type {\n",
       "        vertical-align: middle;\n",
       "    }\n",
       "\n",
       "    .dataframe tbody tr th {\n",
       "        vertical-align: top;\n",
       "    }\n",
       "\n",
       "    .dataframe thead th {\n",
       "        text-align: right;\n",
       "    }\n",
       "</style>\n",
       "<table border=\"1\" class=\"dataframe\">\n",
       "  <thead>\n",
       "    <tr style=\"text-align: right;\">\n",
       "      <th></th>\n",
       "      <th>sentence1</th>\n",
       "      <th>sentence2</th>\n",
       "      <th>label</th>\n",
       "      <th>sentence1_idz</th>\n",
       "      <th>sentence2_idz</th>\n",
       "    </tr>\n",
       "  </thead>\n",
       "  <tbody>\n",
       "    <tr>\n",
       "      <th>0</th>\n",
       "      <td>[a, young, girl, in, a, pink, shirt, sitting, ...</td>\n",
       "      <td>[a, young, girl, watching, the, sunset, over, ...</td>\n",
       "      <td>neutral</td>\n",
       "      <td>[10, 803, 1831, 9, 10, 6266, 7168, 4389, 18, 1...</td>\n",
       "      <td>[10, 803, 1831, 2256, 4, 13986, 95, 4, 359, 5]</td>\n",
       "    </tr>\n",
       "    <tr>\n",
       "      <th>1</th>\n",
       "      <td>[a, woman, is, smiling, while, the, man, next,...</td>\n",
       "      <td>[two, people, are, next, to, each, other, .]</td>\n",
       "      <td>entailment</td>\n",
       "      <td>[10, 995, 16, 9767, 132, 4, 348, 425, 8, 87, 1...</td>\n",
       "      <td>[108, 68, 35, 425, 8, 205, 72, 5]</td>\n",
       "    </tr>\n",
       "    <tr>\n",
       "      <th>2</th>\n",
       "      <td>[across, the, river, ,, you, can, see, a, larg...</td>\n",
       "      <td>[the, large, building, is, full, of, apartment...</td>\n",
       "      <td>neutral</td>\n",
       "      <td>[805, 4, 1939, 3, 33, 85, 139, 10, 543, 403, 5]</td>\n",
       "      <td>[4, 543, 403, 16, 491, 7, 8418, 6, 8810]</td>\n",
       "    </tr>\n",
       "    <tr>\n",
       "      <th>3</th>\n",
       "      <td>[a, man, in, white, shorts, and, a, black, shi...</td>\n",
       "      <td>[a, man, is, riding, a, jetski, on, the, ocean...</td>\n",
       "      <td>contradiction</td>\n",
       "      <td>[10, 348, 9, 910, 11908, 6, 10, 885, 7168, 16,...</td>\n",
       "      <td>[10, 348, 16, 5212, 10, 1, 18, 4, 5657, 5]</td>\n",
       "    </tr>\n",
       "    <tr>\n",
       "      <th>4</th>\n",
       "      <td>[four, black, dogs, run, together, on, bright,...</td>\n",
       "      <td>[four, dogs, are, preparing, to, be, launched,...</td>\n",
       "      <td>contradiction</td>\n",
       "      <td>[310, 885, 3136, 442, 550, 18, 4809, 1827, 547...</td>\n",
       "      <td>[310, 3136, 35, 4722, 8, 41, 2194, 91, 596, 5]</td>\n",
       "    </tr>\n",
       "  </tbody>\n",
       "</table>\n",
       "</div>"
      ],
      "text/plain": [
       "                                           sentence1  \\\n",
       "0  [a, young, girl, in, a, pink, shirt, sitting, ...   \n",
       "1  [a, woman, is, smiling, while, the, man, next,...   \n",
       "2  [across, the, river, ,, you, can, see, a, larg...   \n",
       "3  [a, man, in, white, shorts, and, a, black, shi...   \n",
       "4  [four, black, dogs, run, together, on, bright,...   \n",
       "\n",
       "                                           sentence2          label  \\\n",
       "0  [a, young, girl, watching, the, sunset, over, ...        neutral   \n",
       "1       [two, people, are, next, to, each, other, .]     entailment   \n",
       "2  [the, large, building, is, full, of, apartment...        neutral   \n",
       "3  [a, man, is, riding, a, jetski, on, the, ocean...  contradiction   \n",
       "4  [four, dogs, are, preparing, to, be, launched,...  contradiction   \n",
       "\n",
       "                                       sentence1_idz  \\\n",
       "0  [10, 803, 1831, 9, 10, 6266, 7168, 4389, 18, 1...   \n",
       "1  [10, 995, 16, 9767, 132, 4, 348, 425, 8, 87, 1...   \n",
       "2    [805, 4, 1939, 3, 33, 85, 139, 10, 543, 403, 5]   \n",
       "3  [10, 348, 9, 910, 11908, 6, 10, 885, 7168, 16,...   \n",
       "4  [310, 885, 3136, 442, 550, 18, 4809, 1827, 547...   \n",
       "\n",
       "                                    sentence2_idz  \n",
       "0  [10, 803, 1831, 2256, 4, 13986, 95, 4, 359, 5]  \n",
       "1               [108, 68, 35, 425, 8, 205, 72, 5]  \n",
       "2        [4, 543, 403, 16, 491, 7, 8418, 6, 8810]  \n",
       "3      [10, 348, 16, 5212, 10, 1, 18, 4, 5657, 5]  \n",
       "4  [310, 3136, 35, 4722, 8, 41, 2194, 91, 596, 5]  "
      ]
     },
     "execution_count": 21,
     "metadata": {},
     "output_type": "execute_result"
    }
   ],
   "source": [
    "train_train.head()"
   ]
  },
  {
   "cell_type": "code",
   "execution_count": 22,
   "metadata": {},
   "outputs": [],
   "source": [
    "def encode_target(train_train):\n",
    "    train_train['label'][train_train['label']=='neutral']=0\n",
    "    train_train['label'][train_train['label']=='entailment']=1\n",
    "    train_train['label'][train_train['label']=='contradiction']=2\n",
    "    return train_train"
   ]
  },
  {
   "cell_type": "code",
   "execution_count": 23,
   "metadata": {},
   "outputs": [],
   "source": [
    "train_train = encode_target(train_train)\n",
    "val_val = encode_target(val_val)"
   ]
  },
  {
   "cell_type": "code",
   "execution_count": 24,
   "metadata": {},
   "outputs": [
    {
     "data": {
      "text/html": [
       "<div>\n",
       "<style scoped>\n",
       "    .dataframe tbody tr th:only-of-type {\n",
       "        vertical-align: middle;\n",
       "    }\n",
       "\n",
       "    .dataframe tbody tr th {\n",
       "        vertical-align: top;\n",
       "    }\n",
       "\n",
       "    .dataframe thead th {\n",
       "        text-align: right;\n",
       "    }\n",
       "</style>\n",
       "<table border=\"1\" class=\"dataframe\">\n",
       "  <thead>\n",
       "    <tr style=\"text-align: right;\">\n",
       "      <th></th>\n",
       "      <th>sentence1</th>\n",
       "      <th>sentence2</th>\n",
       "      <th>label</th>\n",
       "      <th>sentence1_idz</th>\n",
       "      <th>sentence2_idz</th>\n",
       "    </tr>\n",
       "  </thead>\n",
       "  <tbody>\n",
       "    <tr>\n",
       "      <th>0</th>\n",
       "      <td>[a, young, girl, in, a, pink, shirt, sitting, ...</td>\n",
       "      <td>[a, young, girl, watching, the, sunset, over, ...</td>\n",
       "      <td>0</td>\n",
       "      <td>[10, 803, 1831, 9, 10, 6266, 7168, 4389, 18, 1...</td>\n",
       "      <td>[10, 803, 1831, 2256, 4, 13986, 95, 4, 359, 5]</td>\n",
       "    </tr>\n",
       "    <tr>\n",
       "      <th>1</th>\n",
       "      <td>[a, woman, is, smiling, while, the, man, next,...</td>\n",
       "      <td>[two, people, are, next, to, each, other, .]</td>\n",
       "      <td>1</td>\n",
       "      <td>[10, 995, 16, 9767, 132, 4, 348, 425, 8, 87, 1...</td>\n",
       "      <td>[108, 68, 35, 425, 8, 205, 72, 5]</td>\n",
       "    </tr>\n",
       "    <tr>\n",
       "      <th>2</th>\n",
       "      <td>[across, the, river, ,, you, can, see, a, larg...</td>\n",
       "      <td>[the, large, building, is, full, of, apartment...</td>\n",
       "      <td>0</td>\n",
       "      <td>[805, 4, 1939, 3, 33, 85, 139, 10, 543, 403, 5]</td>\n",
       "      <td>[4, 543, 403, 16, 491, 7, 8418, 6, 8810]</td>\n",
       "    </tr>\n",
       "    <tr>\n",
       "      <th>3</th>\n",
       "      <td>[a, man, in, white, shorts, and, a, black, shi...</td>\n",
       "      <td>[a, man, is, riding, a, jetski, on, the, ocean...</td>\n",
       "      <td>2</td>\n",
       "      <td>[10, 348, 9, 910, 11908, 6, 10, 885, 7168, 16,...</td>\n",
       "      <td>[10, 348, 16, 5212, 10, 1, 18, 4, 5657, 5]</td>\n",
       "    </tr>\n",
       "    <tr>\n",
       "      <th>4</th>\n",
       "      <td>[four, black, dogs, run, together, on, bright,...</td>\n",
       "      <td>[four, dogs, are, preparing, to, be, launched,...</td>\n",
       "      <td>2</td>\n",
       "      <td>[310, 885, 3136, 442, 550, 18, 4809, 1827, 547...</td>\n",
       "      <td>[310, 3136, 35, 4722, 8, 41, 2194, 91, 596, 5]</td>\n",
       "    </tr>\n",
       "  </tbody>\n",
       "</table>\n",
       "</div>"
      ],
      "text/plain": [
       "                                           sentence1  \\\n",
       "0  [a, young, girl, in, a, pink, shirt, sitting, ...   \n",
       "1  [a, woman, is, smiling, while, the, man, next,...   \n",
       "2  [across, the, river, ,, you, can, see, a, larg...   \n",
       "3  [a, man, in, white, shorts, and, a, black, shi...   \n",
       "4  [four, black, dogs, run, together, on, bright,...   \n",
       "\n",
       "                                           sentence2 label  \\\n",
       "0  [a, young, girl, watching, the, sunset, over, ...     0   \n",
       "1       [two, people, are, next, to, each, other, .]     1   \n",
       "2  [the, large, building, is, full, of, apartment...     0   \n",
       "3  [a, man, is, riding, a, jetski, on, the, ocean...     2   \n",
       "4  [four, dogs, are, preparing, to, be, launched,...     2   \n",
       "\n",
       "                                       sentence1_idz  \\\n",
       "0  [10, 803, 1831, 9, 10, 6266, 7168, 4389, 18, 1...   \n",
       "1  [10, 995, 16, 9767, 132, 4, 348, 425, 8, 87, 1...   \n",
       "2    [805, 4, 1939, 3, 33, 85, 139, 10, 543, 403, 5]   \n",
       "3  [10, 348, 9, 910, 11908, 6, 10, 885, 7168, 16,...   \n",
       "4  [310, 885, 3136, 442, 550, 18, 4809, 1827, 547...   \n",
       "\n",
       "                                    sentence2_idz  \n",
       "0  [10, 803, 1831, 2256, 4, 13986, 95, 4, 359, 5]  \n",
       "1               [108, 68, 35, 425, 8, 205, 72, 5]  \n",
       "2        [4, 543, 403, 16, 491, 7, 8418, 6, 8810]  \n",
       "3      [10, 348, 16, 5212, 10, 1, 18, 4, 5657, 5]  \n",
       "4  [310, 3136, 35, 4722, 8, 41, 2194, 91, 596, 5]  "
      ]
     },
     "execution_count": 24,
     "metadata": {},
     "output_type": "execute_result"
    }
   ],
   "source": [
    "train_train.head()"
   ]
  },
  {
   "cell_type": "code",
   "execution_count": 25,
   "metadata": {},
   "outputs": [],
   "source": [
    "class SnliDataset(Dataset):\n",
    "    def __init__(self, df):\n",
    "        self.df = df\n",
    "        \n",
    "    def __len__(self):\n",
    "        return len(self.df)\n",
    "\n",
    "    def __getitem__(self, idx):\n",
    "        s1 = self.df.iloc[idx]['sentence1_idz']\n",
    "        s2 = self.df.iloc[idx]['sentence2_idz']\n",
    "        tar = self.df.iloc[idx]['label']\n",
    "        len1 = len(s1)\n",
    "        len2 = len(s2)\n",
    "        return [s1,len1,s2,len2,tar]"
   ]
  },
  {
   "cell_type": "code",
   "execution_count": 26,
   "metadata": {},
   "outputs": [],
   "source": [
    "def max_len(x):\n",
    "    return len(x)\n",
    "    "
   ]
  },
  {
   "cell_type": "code",
   "execution_count": 27,
   "metadata": {},
   "outputs": [],
   "source": [
    "l1 = train_train['sentence1_idz'].apply(max_len)\n",
    "l2 = train_train['sentence2_idz'].apply(max_len)\n",
    "# MAX_LEN = max(l1)\n",
    "MAX_LEN = 25"
   ]
  },
  {
   "cell_type": "code",
   "execution_count": 28,
   "metadata": {},
   "outputs": [],
   "source": [
    "def vocab_collate_func(batch):\n",
    "    data_list_s1 = []\n",
    "    data_list_s2 = []\n",
    "    label_list = []\n",
    "    length_list_s1 = []\n",
    "    length_list_s2 = []\n",
    "\n",
    "    for datum in batch:\n",
    "        label_list.append(datum[4])\n",
    "        length_list_s1.append(datum[1])\n",
    "        length_list_s2.append(datum[3])\n",
    "    # padding\n",
    "    for datum in batch:\n",
    "        if datum[1]>MAX_LEN:\n",
    "            padded_vec_s1 = np.array(datum[0])[:MAX_LEN]\n",
    "        else:\n",
    "            padded_vec_s1 = np.pad(np.array(datum[0]),\n",
    "                                pad_width=((0,MAX_LEN - datum[1])),\n",
    "                                mode=\"constant\", constant_values=0)\n",
    "        if datum[3]>MAX_LEN:\n",
    "            padded_vec_s2 = np.array(datum[2])[:MAX_LEN]\n",
    "        else:\n",
    "            padded_vec_s2 = np.pad(np.array(datum[2]),\n",
    "                                pad_width=((0,MAX_LEN - datum[3])),\n",
    "                                mode=\"constant\", constant_values=0)\n",
    "        data_list_s1.append(padded_vec_s1)\n",
    "        data_list_s2.append(padded_vec_s2)\n",
    "        \n",
    "    return [torch.from_numpy(np.array(data_list_s1)), torch.LongTensor(length_list_s1), torch.from_numpy(np.array(data_list_s2)), torch.LongTensor(length_list_s2), torch.LongTensor(label_list)]"
   ]
  },
  {
   "cell_type": "code",
   "execution_count": 29,
   "metadata": {},
   "outputs": [],
   "source": [
    "train_dataset = SnliDataset(train_train)\n",
    "train_loader = torch.utils.data.DataLoader(dataset=train_dataset,\n",
    "                                           batch_size=BATCH_SIZE,\n",
    "                                           collate_fn=vocab_collate_func,\n",
    "                                           shuffle=True)\n",
    "\n",
    "val_dataset = SnliDataset(val_val)\n",
    "val_loader = torch.utils.data.DataLoader(dataset=val_dataset,\n",
    "                                           batch_size=BATCH_SIZE,\n",
    "                                           collate_fn=vocab_collate_func,\n",
    "                                           shuffle=True)\n",
    "\n"
   ]
  },
  {
   "cell_type": "code",
   "execution_count": 30,
   "metadata": {},
   "outputs": [],
   "source": [
    "# a = next(iter(train_loader))"
   ]
  },
  {
   "cell_type": "code",
   "execution_count": 31,
   "metadata": {},
   "outputs": [],
   "source": [
    "class RNN(nn.Module):\n",
    "    def __init__(self, emb_size, hidden_size, num_layers, num_classes, vocab_size):\n",
    "        super(RNN, self).__init__()\n",
    "\n",
    "        self.num_layers, self.hidden_size = num_layers, hidden_size\n",
    "        self.embedding = nn.Embedding(vocab_size, emb_size, padding_idx=PAD_IDX)\n",
    "        self.embedding.from_pretrained(torch.from_numpy(loaded_embeddings).cuda(), freeze = True)\n",
    "\n",
    "\n",
    "        \n",
    "        self.rnn = nn.GRU(emb_size, hidden_size, num_layers, batch_first = True)\n",
    "        self.linear1 = nn.Linear(2*hidden_size, 500)\n",
    "        self.linear2 = nn.Linear(500,num_classes)\n",
    "\n",
    "    def init_hidden(self, batch_size):\n",
    "        hidden = torch.randn(self.num_layers, batch_size, self.hidden_size)\n",
    "        return hidden.cuda()\n",
    "\n",
    "    def forward(self, data_s1, length1, data_s2, length2):  \n",
    "        batch_size = data_s1.size(0)\n",
    "        self.hidden1 = self.init_hidden(batch_size)\n",
    "        self.hidden2 = self.init_hidden(batch_size)\n",
    "\n",
    "        embed1 = self.embedding(data_s1)\n",
    "        embed2 = self.embedding(data_s2)\n",
    "        \n",
    "#         print(embed1.size())\n",
    "        rnn_out1_, hidden1 = self.rnn(embed1, self.hidden1)\n",
    "        rnn_out2_, hidden2 = self.rnn(embed2, self.hidden2)\n",
    "#         print(self.hidden1.size())\n",
    "\n",
    "        rnn_out1 = torch.sum(hidden1, dim=0)\n",
    "        rnn_out2 = torch.sum(hidden2, dim=0)\n",
    "#         print(rnn_out1.size())\n",
    "        combined_out = torch.cat([rnn_out1, rnn_out2], dim=1)\n",
    "#         print(combined_out.size())\n",
    "        logits = F.relu(self.linear1(combined_out))\n",
    "        res = self.linear2(logits)\n",
    "        \n",
    "        return res\n",
    "\n"
   ]
  },
  {
   "cell_type": "code",
   "execution_count": 32,
   "metadata": {},
   "outputs": [],
   "source": [
    "dataloaders = [train_loader, val_loader]"
   ]
  },
  {
   "cell_type": "code",
   "execution_count": 33,
   "metadata": {},
   "outputs": [],
   "source": [
    "def training(model,criterion, optimizer, name, num_epochs):\n",
    "    best_loss = np.inf\n",
    "    best_acc = 0\n",
    "    loss_hist = {'train':[],'validate':[]}\n",
    "    acc_hist = {'train':[],'validate':[]}\n",
    "    for i in range(num_epochs):\n",
    "        for enu,phase in enumerate(['train', 'validate']):\n",
    "            running_loss = 0\n",
    "            running_total = 0\n",
    "            correct = 0\n",
    "            total = 0\n",
    "            if phase == 'train':\n",
    "                model.train(True)\n",
    "            else:\n",
    "                model.train(False)\n",
    "            for (data1, length1, data2, length2, labels) in dataloaders[enu]:\n",
    "#                 data_batch1, length_batch1, data_batch2, len_batch2, label_batch = data1, length1, data2, length2, labels\n",
    "                data_batch1, len_batch1, data_batch2, len_batch2, label_batch = data1.cuda(), length1.cuda(), data2.cuda(), length2.cuda(), labels.cuda()\n",
    "\n",
    "\n",
    "                optimizer.zero_grad()\n",
    "                outputs = model(data_batch1, len_batch1, data_batch2, len_batch2)\n",
    "                loss = criterion(outputs, label_batch)\n",
    "                if phase=='train':\n",
    "                    loss.backward()\n",
    "                    optimizer.step()\n",
    "                N = labels.size(0)\n",
    "                \n",
    "                outputs = F.softmax(outputs, dim=1)\n",
    "                predicted = outputs.max(1, keepdim=True)[1]\n",
    "#                 print(type(predicted))\n",
    "                total += labels.size(0)\n",
    "                correct += predicted.eq(label_batch.view_as(predicted)).sum().item()\n",
    "                running_loss += loss.data[0] * N\n",
    "                running_total += N\n",
    "            epoch_loss = running_loss/running_total\n",
    "            loss_hist[phase].append(epoch_loss.item())\n",
    "            accuracy = 100 * correct / total\n",
    "            acc_hist[phase].append(accuracy)\n",
    "            print('Epoch: {}, Phase: {}, epoch loss: {:.4f}, accuracy: {:.4f}'\\\n",
    "                      .format(i,phase,epoch_loss, accuracy))\n",
    "        if phase == 'validate' and best_acc < accuracy:\n",
    "            best_loss = epoch_loss\n",
    "            best_acc = accuracy\n",
    "            torch.save(model,name)\n",
    "    print('Best val dice loss: {:4f}, Best Accuracy: {:4f}'.format(best_loss,best_acc))\n",
    "    return model, loss_hist, acc_hist"
   ]
  },
  {
   "cell_type": "markdown",
   "metadata": {},
   "source": [
    "# FeatureMap = 100, Hidden layer = 1"
   ]
  },
  {
   "cell_type": "code",
   "execution_count": 38,
   "metadata": {},
   "outputs": [
    {
     "name": "stderr",
     "output_type": "stream",
     "text": [
      "/home/cvh255/pyenv/py3.6.3/lib/python3.6/site-packages/ipykernel_launcher.py:34: UserWarning: invalid index of a 0-dim tensor. This will be an error in PyTorch 0.5. Use tensor.item() to convert a 0-dim tensor to a Python number\n"
     ]
    },
    {
     "name": "stdout",
     "output_type": "stream",
     "text": [
      "Epoch: 0, Phase: train, epoch loss: 0.9955, accuracy: 48.7570\n",
      "Epoch: 0, Phase: validate, epoch loss: 0.8950, accuracy: 58.7000\n"
     ]
    },
    {
     "name": "stderr",
     "output_type": "stream",
     "text": [
      "/home/cvh255/pyenv/py3.6.3/lib/python3.6/site-packages/torch/serialization.py:241: UserWarning: Couldn't retrieve source code for container of type RNN. It won't be checked for correctness upon loading.\n",
      "  \"type \" + obj.__name__ + \". It won't be checked \"\n"
     ]
    },
    {
     "name": "stdout",
     "output_type": "stream",
     "text": [
      "Epoch: 1, Phase: train, epoch loss: 0.8337, accuracy: 62.4160\n",
      "Epoch: 1, Phase: validate, epoch loss: 0.8604, accuracy: 61.9000\n",
      "Epoch: 2, Phase: train, epoch loss: 0.7606, accuracy: 66.6530\n",
      "Epoch: 2, Phase: validate, epoch loss: 0.8581, accuracy: 60.7000\n",
      "Epoch: 3, Phase: train, epoch loss: 0.7058, accuracy: 69.6550\n",
      "Epoch: 3, Phase: validate, epoch loss: 0.8716, accuracy: 61.2000\n",
      "Epoch: 4, Phase: train, epoch loss: 0.6546, accuracy: 72.3270\n",
      "Epoch: 4, Phase: validate, epoch loss: 0.8688, accuracy: 62.5000\n",
      "Epoch: 5, Phase: train, epoch loss: 0.6028, accuracy: 74.9290\n",
      "Epoch: 5, Phase: validate, epoch loss: 0.9325, accuracy: 59.7000\n",
      "Epoch: 6, Phase: train, epoch loss: 0.5509, accuracy: 77.4990\n",
      "Epoch: 6, Phase: validate, epoch loss: 1.0005, accuracy: 59.9000\n",
      "Epoch: 7, Phase: train, epoch loss: 0.5029, accuracy: 79.8420\n",
      "Epoch: 7, Phase: validate, epoch loss: 1.0014, accuracy: 60.9000\n",
      "Epoch: 8, Phase: train, epoch loss: 0.4562, accuracy: 81.9200\n",
      "Epoch: 8, Phase: validate, epoch loss: 1.1384, accuracy: 60.3000\n",
      "Epoch: 9, Phase: train, epoch loss: 0.4145, accuracy: 83.7770\n",
      "Epoch: 9, Phase: validate, epoch loss: 1.2384, accuracy: 59.9000\n",
      "Best val dice loss: 0.868819, Best Accuracy: 62.500000\n"
     ]
    }
   ],
   "source": [
    "model = RNN(300,100,1,3,words_to_load+2).cuda()\n",
    "criterion = torch.nn.CrossEntropyLoss()  \n",
    "optimizer = torch.optim.Adam(model.parameters(), lr = 0.0005)\n",
    "\n",
    "m_save, loss_hists,acc_hist = training(model,criterion,optimizer,\"model_rnn16\",10)"
   ]
  },
  {
   "cell_type": "code",
   "execution_count": 40,
   "metadata": {},
   "outputs": [
    {
     "data": {
      "text/plain": [
       "30223203"
      ]
     },
     "execution_count": 40,
     "metadata": {},
     "output_type": "execute_result"
    }
   ],
   "source": [
    "count_parameters(model)"
   ]
  },
  {
   "cell_type": "code",
   "execution_count": 39,
   "metadata": {},
   "outputs": [
    {
     "data": {
      "image/png": "[encoded data removed]",
      "text/plain": [
       "<matplotlib.figure.Figure at 0x2ac2fceca240>"
      ]
     },
     "metadata": {},
     "output_type": "display_data"
    },
    {
     "data": {
      "image/png": "[encoded data removed]",
      "text/plain": [
       "<matplotlib.figure.Figure at 0x2ac2fcf48240>"
      ]
     },
     "metadata": {},
     "output_type": "display_data"
    }
   ],
   "source": [
    "plt.plot(loss_hists['train'],label=\"train loss\")\n",
    "plt.plot(loss_hists['validate'],label=\"val loss\")\n",
    "plt.legend()\n",
    "plt.show()\n",
    "\n",
    "plt.plot(acc_hist['train'],label=\"train acc\")\n",
    "plt.plot(acc_hist['validate'],label=\"val acc\")\n",
    "plt.legend()\n",
    "plt.show()"
   ]
  },
  {
   "cell_type": "markdown",
   "metadata": {},
   "source": [
    "# FeatureMap = 700, Hidden layer = 1"
   ]
  },
  {
   "cell_type": "code",
   "execution_count": 35,
   "metadata": {
    "scrolled": true
   },
   "outputs": [
    {
     "name": "stderr",
     "output_type": "stream",
     "text": [
      "/home/cvh255/pyenv/py3.6.3/lib/python3.6/site-packages/ipykernel_launcher.py:34: UserWarning: invalid index of a 0-dim tensor. This will be an error in PyTorch 0.5. Use tensor.item() to convert a 0-dim tensor to a Python number\n"
     ]
    },
    {
     "name": "stdout",
     "output_type": "stream",
     "text": [
      "Epoch: 0, Phase: train, epoch loss: 0.9361, accuracy: 54.1190\n",
      "Epoch: 0, Phase: validate, epoch loss: 0.8473, accuracy: 61.6000\n"
     ]
    },
    {
     "name": "stderr",
     "output_type": "stream",
     "text": [
      "/home/cvh255/pyenv/py3.6.3/lib/python3.6/site-packages/torch/serialization.py:241: UserWarning: Couldn't retrieve source code for container of type RNN. It won't be checked for correctness upon loading.\n",
      "  \"type \" + obj.__name__ + \". It won't be checked \"\n"
     ]
    },
    {
     "name": "stdout",
     "output_type": "stream",
     "text": [
      "Epoch: 1, Phase: train, epoch loss: 0.7840, accuracy: 65.1020\n",
      "Epoch: 1, Phase: validate, epoch loss: 0.8235, accuracy: 64.0000\n",
      "Epoch: 2, Phase: train, epoch loss: 0.6905, accuracy: 70.4690\n",
      "Epoch: 2, Phase: validate, epoch loss: 0.8118, accuracy: 65.1000\n",
      "Epoch: 3, Phase: train, epoch loss: 0.5929, accuracy: 75.2750\n",
      "Epoch: 3, Phase: validate, epoch loss: 0.8690, accuracy: 66.5000\n",
      "Epoch: 4, Phase: train, epoch loss: 0.4845, accuracy: 80.5190\n",
      "Epoch: 4, Phase: validate, epoch loss: 0.9580, accuracy: 65.9000\n",
      "Epoch: 5, Phase: train, epoch loss: 0.3776, accuracy: 85.2700\n",
      "Epoch: 5, Phase: validate, epoch loss: 1.1297, accuracy: 63.8000\n",
      "Epoch: 6, Phase: train, epoch loss: 0.2942, accuracy: 88.6190\n",
      "Epoch: 6, Phase: validate, epoch loss: 1.3246, accuracy: 65.3000\n",
      "Epoch: 7, Phase: train, epoch loss: 0.2381, accuracy: 90.9760\n",
      "Epoch: 7, Phase: validate, epoch loss: 1.4687, accuracy: 63.7000\n",
      "Epoch: 8, Phase: train, epoch loss: 0.1963, accuracy: 92.6380\n",
      "Epoch: 8, Phase: validate, epoch loss: 1.6062, accuracy: 63.9000\n",
      "Epoch: 9, Phase: train, epoch loss: 0.1735, accuracy: 93.5370\n",
      "Epoch: 9, Phase: validate, epoch loss: 1.7384, accuracy: 64.1000\n",
      "Epoch: 10, Phase: train, epoch loss: 0.1536, accuracy: 94.2760\n",
      "Epoch: 10, Phase: validate, epoch loss: 1.7143, accuracy: 64.6000\n",
      "Epoch: 11, Phase: train, epoch loss: 0.1398, accuracy: 94.8670\n",
      "Epoch: 11, Phase: validate, epoch loss: 1.7937, accuracy: 63.1000\n",
      "Epoch: 12, Phase: train, epoch loss: 0.1299, accuracy: 95.2460\n",
      "Epoch: 12, Phase: validate, epoch loss: 1.8606, accuracy: 63.0000\n",
      "Epoch: 13, Phase: train, epoch loss: 0.1217, accuracy: 95.5600\n",
      "Epoch: 13, Phase: validate, epoch loss: 1.9025, accuracy: 62.8000\n",
      "Epoch: 14, Phase: train, epoch loss: 0.1205, accuracy: 95.5730\n",
      "Epoch: 14, Phase: validate, epoch loss: 2.0118, accuracy: 62.1000\n",
      "Best val dice loss: 0.869021, Best Accuracy: 66.500000\n"
     ]
    }
   ],
   "source": [
    "model = RNN(300,700,1,3,words_to_load+2).cuda()\n",
    "criterion = torch.nn.CrossEntropyLoss()  \n",
    "optimizer = torch.optim.Adam(model.parameters(), lr = 0.0005)\n",
    "\n",
    "m_save, loss_hists,acc_hist = training(model,criterion,optimizer,\"model_rnn15\",15)"
   ]
  },
  {
   "cell_type": "code",
   "execution_count": 46,
   "metadata": {},
   "outputs": [
    {
     "data": {
      "text/plain": [
       "32806803"
      ]
     },
     "execution_count": 46,
     "metadata": {},
     "output_type": "execute_result"
    }
   ],
   "source": [
    "count_parameters(torch.load(\"model_rnn15\"))"
   ]
  },
  {
   "cell_type": "code",
   "execution_count": 37,
   "metadata": {
    "scrolled": false
   },
   "outputs": [
    {
     "data": {
      "image/png": "[encoded data removed]",
      "text/plain": [
       "<matplotlib.figure.Figure at 0x2ac2fce06160>"
      ]
     },
     "metadata": {},
     "output_type": "display_data"
    },
    {
     "data": {
      "image/png": "[encoded data removed]",
      "text/plain": [
       "<matplotlib.figure.Figure at 0x2ac2fd4b79b0>"
      ]
     },
     "metadata": {},
     "output_type": "display_data"
    }
   ],
   "source": [
    "plt.plot(loss_hists['train'],label=\"train loss\")\n",
    "plt.plot(loss_hists['validate'],label=\"val loss\")\n",
    "plt.legend()\n",
    "plt.show()\n",
    "\n",
    "plt.plot(acc_hist['train'],label=\"train acc\")\n",
    "plt.plot(acc_hist['validate'],label=\"val acc\")\n",
    "plt.legend()\n",
    "plt.show()"
   ]
  },
  {
   "cell_type": "markdown",
   "metadata": {},
   "source": [
    "# FeatureMap = 500, Hidden layer = 1"
   ]
  },
  {
   "cell_type": "code",
   "execution_count": 34,
   "metadata": {
    "scrolled": true
   },
   "outputs": [
    {
     "name": "stderr",
     "output_type": "stream",
     "text": [
      "/home/cvh255/pyenv/py3.6.3/lib/python3.6/site-packages/ipykernel_launcher.py:34: UserWarning: invalid index of a 0-dim tensor. This will be an error in PyTorch 0.5. Use tensor.item() to convert a 0-dim tensor to a Python number\n"
     ]
    },
    {
     "name": "stdout",
     "output_type": "stream",
     "text": [
      "Epoch: 0, Phase: train, epoch loss: 0.9465, accuracy: 53.2870\n",
      "Epoch: 0, Phase: validate, epoch loss: 0.8525, accuracy: 61.6000\n"
     ]
    },
    {
     "name": "stderr",
     "output_type": "stream",
     "text": [
      "/home/cvh255/pyenv/py3.6.3/lib/python3.6/site-packages/torch/serialization.py:241: UserWarning: Couldn't retrieve source code for container of type RNN. It won't be checked for correctness upon loading.\n",
      "  \"type \" + obj.__name__ + \". It won't be checked \"\n"
     ]
    },
    {
     "name": "stdout",
     "output_type": "stream",
     "text": [
      "Epoch: 1, Phase: train, epoch loss: 0.7934, accuracy: 64.6200\n",
      "Epoch: 1, Phase: validate, epoch loss: 0.7948, accuracy: 66.5000\n",
      "Epoch: 2, Phase: train, epoch loss: 0.7011, accuracy: 69.9250\n",
      "Epoch: 2, Phase: validate, epoch loss: 0.7831, accuracy: 68.2000\n",
      "Epoch: 3, Phase: train, epoch loss: 0.6069, accuracy: 74.7210\n",
      "Epoch: 3, Phase: validate, epoch loss: 0.8387, accuracy: 66.0000\n",
      "Epoch: 4, Phase: train, epoch loss: 0.5042, accuracy: 79.6950\n",
      "Epoch: 4, Phase: validate, epoch loss: 0.9307, accuracy: 65.6000\n",
      "Epoch: 5, Phase: train, epoch loss: 0.4041, accuracy: 84.1430\n",
      "Epoch: 5, Phase: validate, epoch loss: 1.0676, accuracy: 66.4000\n",
      "Epoch: 6, Phase: train, epoch loss: 0.3193, accuracy: 87.7290\n",
      "Epoch: 6, Phase: validate, epoch loss: 1.2537, accuracy: 65.1000\n",
      "Epoch: 7, Phase: train, epoch loss: 0.2527, accuracy: 90.3320\n",
      "Epoch: 7, Phase: validate, epoch loss: 1.4955, accuracy: 63.1000\n",
      "Epoch: 8, Phase: train, epoch loss: 0.2110, accuracy: 91.9950\n",
      "Epoch: 8, Phase: validate, epoch loss: 1.5851, accuracy: 63.9000\n",
      "Epoch: 9, Phase: train, epoch loss: 0.1771, accuracy: 93.4710\n",
      "Epoch: 9, Phase: validate, epoch loss: 1.7681, accuracy: 64.5000\n",
      "Epoch: 10, Phase: train, epoch loss: 0.1526, accuracy: 94.3960\n",
      "Epoch: 10, Phase: validate, epoch loss: 1.9345, accuracy: 63.0000\n",
      "Epoch: 11, Phase: train, epoch loss: 0.1402, accuracy: 94.9080\n",
      "Epoch: 11, Phase: validate, epoch loss: 1.9139, accuracy: 63.8000\n",
      "Epoch: 12, Phase: train, epoch loss: 0.1258, accuracy: 95.4530\n",
      "Epoch: 12, Phase: validate, epoch loss: 2.0343, accuracy: 63.0000\n",
      "Epoch: 13, Phase: train, epoch loss: 0.1146, accuracy: 95.8940\n",
      "Epoch: 13, Phase: validate, epoch loss: 2.0467, accuracy: 63.8000\n",
      "Epoch: 14, Phase: train, epoch loss: 0.1065, accuracy: 96.1580\n",
      "Epoch: 14, Phase: validate, epoch loss: 2.0722, accuracy: 64.3000\n",
      "Best val dice loss: 0.783132, Best Accuracy: 68.200000\n"
     ]
    }
   ],
   "source": [
    "model = RNN(300,500,1,3,words_to_load+2).cuda()\n",
    "criterion = torch.nn.CrossEntropyLoss()  \n",
    "optimizer = torch.optim.Adam(model.parameters(), lr = 0.0005)\n",
    "\n",
    "m_save, loss_hists,acc_hist = training(model,criterion,optimizer,\"model_rnn1\",15)"
   ]
  },
  {
   "cell_type": "code",
   "execution_count": 47,
   "metadata": {},
   "outputs": [
    {
     "data": {
      "text/plain": [
       "31705603"
      ]
     },
     "execution_count": 47,
     "metadata": {},
     "output_type": "execute_result"
    }
   ],
   "source": [
    "count_parameters(torch.load(\"model_rnn1\"))"
   ]
  },
  {
   "cell_type": "code",
   "execution_count": 35,
   "metadata": {
    "scrolled": false
   },
   "outputs": [
    {
     "data": {
      "image/png": "[encoded data removed]",
      "text/plain": [
       "<matplotlib.figure.Figure at 0x2adfcd992b70>"
      ]
     },
     "metadata": {},
     "output_type": "display_data"
    },
    {
     "data": {
      "image/png": "[encoded data removed]",
      "text/plain": [
       "<matplotlib.figure.Figure at 0x2adfcdfee208>"
      ]
     },
     "metadata": {},
     "output_type": "display_data"
    }
   ],
   "source": [
    "plt.plot(loss_hists['train'],label=\"train loss\")\n",
    "plt.plot(loss_hists['validate'],label=\"val loss\")\n",
    "plt.legend()\n",
    "plt.show()\n",
    "\n",
    "plt.plot(acc_hist['train'],label=\"train acc\")\n",
    "plt.plot(acc_hist['validate'],label=\"val acc\")\n",
    "plt.legend()\n",
    "plt.show()"
   ]
  },
  {
   "cell_type": "markdown",
   "metadata": {},
   "source": [
    "# FeatureMap = 200, Hidden layer = 1"
   ]
  },
  {
   "cell_type": "code",
   "execution_count": 37,
   "metadata": {
    "scrolled": true
   },
   "outputs": [
    {
     "name": "stderr",
     "output_type": "stream",
     "text": [
      "/home/cvh255/pyenv/py3.6.3/lib/python3.6/site-packages/ipykernel_launcher.py:34: UserWarning: invalid index of a 0-dim tensor. This will be an error in PyTorch 0.5. Use tensor.item() to convert a 0-dim tensor to a Python number\n"
     ]
    },
    {
     "name": "stdout",
     "output_type": "stream",
     "text": [
      "Epoch: 0, Phase: train, epoch loss: 0.9489, accuracy: 53.4740\n",
      "Epoch: 0, Phase: validate, epoch loss: 0.8738, accuracy: 60.9000\n"
     ]
    },
    {
     "name": "stderr",
     "output_type": "stream",
     "text": [
      "/home/cvh255/pyenv/py3.6.3/lib/python3.6/site-packages/torch/serialization.py:241: UserWarning: Couldn't retrieve source code for container of type RNN. It won't be checked for correctness upon loading.\n",
      "  \"type \" + obj.__name__ + \". It won't be checked \"\n"
     ]
    },
    {
     "name": "stdout",
     "output_type": "stream",
     "text": [
      "Epoch: 2, Phase: train, epoch loss: 0.7264, accuracy: 68.2950\n",
      "Epoch: 2, Phase: validate, epoch loss: 0.8314, accuracy: 62.8000\n",
      "Epoch: 3, Phase: train, epoch loss: 0.6533, accuracy: 72.4710\n",
      "Epoch: 3, Phase: validate, epoch loss: 0.8757, accuracy: 64.5000\n",
      "Epoch: 4, Phase: train, epoch loss: 0.5788, accuracy: 76.1880\n",
      "Epoch: 4, Phase: validate, epoch loss: 0.8698, accuracy: 65.6000\n",
      "Epoch: 5, Phase: train, epoch loss: 0.5010, accuracy: 79.8920\n",
      "Epoch: 5, Phase: validate, epoch loss: 0.9600, accuracy: 64.8000\n",
      "Epoch: 6, Phase: train, epoch loss: 0.4264, accuracy: 83.1120\n",
      "Epoch: 6, Phase: validate, epoch loss: 1.1090, accuracy: 64.0000\n",
      "Epoch: 7, Phase: train, epoch loss: 0.3567, accuracy: 86.1960\n",
      "Epoch: 7, Phase: validate, epoch loss: 1.2335, accuracy: 63.9000\n",
      "Epoch: 8, Phase: train, epoch loss: 0.3002, accuracy: 88.5450\n",
      "Epoch: 8, Phase: validate, epoch loss: 1.4393, accuracy: 62.5000\n",
      "Epoch: 9, Phase: train, epoch loss: 0.2520, accuracy: 90.5050\n",
      "Epoch: 9, Phase: validate, epoch loss: 1.5555, accuracy: 63.1000\n",
      "Best val dice loss: 0.869766, Best Accuracy: 65.600000\n"
     ]
    }
   ],
   "source": [
    "model = RNN(300,200,1,3,words_to_load+2).cuda()\n",
    "criterion = torch.nn.CrossEntropyLoss()  \n",
    "optimizer = torch.optim.Adam(model.parameters(), lr = 0.0005)\n",
    "\n",
    "m_save, loss_hists,acc_hist = training(model,criterion,optimizer,\"model_rnn2\",10)"
   ]
  },
  {
   "cell_type": "code",
   "execution_count": 50,
   "metadata": {},
   "outputs": [
    {
     "data": {
      "text/plain": [
       "30503803"
      ]
     },
     "execution_count": 50,
     "metadata": {},
     "output_type": "execute_result"
    }
   ],
   "source": [
    "count_parameters(torch.load(\"model_rnn2\"))"
   ]
  },
  {
   "cell_type": "code",
   "execution_count": 38,
   "metadata": {
    "scrolled": false
   },
   "outputs": [
    {
     "data": {
      "image/png": "[encoded data removed]",
      "text/plain": [
       "<matplotlib.figure.Figure at 0x2adfcd8b89b0>"
      ]
     },
     "metadata": {},
     "output_type": "display_data"
    },
    {
     "data": {
      "image/png": "[encoded data removed]",
      "text/plain": [
       "<matplotlib.figure.Figure at 0x2adfcecdf3c8>"
      ]
     },
     "metadata": {},
     "output_type": "display_data"
    }
   ],
   "source": [
    "plt.plot(loss_hists['train'],label=\"train loss\")\n",
    "plt.plot(loss_hists['validate'],label=\"val loss\")\n",
    "plt.legend()\n",
    "plt.show()\n",
    "\n",
    "plt.plot(acc_hist['train'],label=\"train acc\")\n",
    "plt.plot(acc_hist['validate'],label=\"val acc\")\n",
    "plt.legend()\n",
    "plt.show()"
   ]
  },
  {
   "cell_type": "markdown",
   "metadata": {},
   "source": [
    "# FeatureMap = 500, Hidden layer = 2"
   ]
  },
  {
   "cell_type": "code",
   "execution_count": 39,
   "metadata": {
    "scrolled": true
   },
   "outputs": [
    {
     "name": "stderr",
     "output_type": "stream",
     "text": [
      "/home/cvh255/pyenv/py3.6.3/lib/python3.6/site-packages/ipykernel_launcher.py:34: UserWarning: invalid index of a 0-dim tensor. This will be an error in PyTorch 0.5. Use tensor.item() to convert a 0-dim tensor to a Python number\n"
     ]
    },
    {
     "name": "stdout",
     "output_type": "stream",
     "text": [
      "Epoch: 0, Phase: train, epoch loss: 0.9365, accuracy: 53.8670\n",
      "Epoch: 0, Phase: validate, epoch loss: 0.8707, accuracy: 61.2000\n"
     ]
    },
    {
     "name": "stderr",
     "output_type": "stream",
     "text": [
      "/home/cvh255/pyenv/py3.6.3/lib/python3.6/site-packages/torch/serialization.py:241: UserWarning: Couldn't retrieve source code for container of type RNN. It won't be checked for correctness upon loading.\n",
      "  \"type \" + obj.__name__ + \". It won't be checked \"\n"
     ]
    },
    {
     "name": "stdout",
     "output_type": "stream",
     "text": [
      "Epoch: 1, Phase: train, epoch loss: 0.7829, accuracy: 65.4890\n",
      "Epoch: 1, Phase: validate, epoch loss: 0.8139, accuracy: 63.6000\n",
      "Epoch: 2, Phase: train, epoch loss: 0.6929, accuracy: 70.5290\n",
      "Epoch: 2, Phase: validate, epoch loss: 0.7964, accuracy: 64.7000\n",
      "Epoch: 3, Phase: train, epoch loss: 0.6009, accuracy: 75.2150\n",
      "Epoch: 3, Phase: validate, epoch loss: 0.8415, accuracy: 64.7000\n",
      "Epoch: 4, Phase: train, epoch loss: 0.4995, accuracy: 79.9490\n",
      "Epoch: 4, Phase: validate, epoch loss: 0.9145, accuracy: 65.6000\n",
      "Epoch: 5, Phase: train, epoch loss: 0.3995, accuracy: 84.3660\n",
      "Epoch: 5, Phase: validate, epoch loss: 1.0625, accuracy: 62.8000\n",
      "Epoch: 6, Phase: train, epoch loss: 0.3172, accuracy: 87.7090\n",
      "Epoch: 6, Phase: validate, epoch loss: 1.1930, accuracy: 65.0000\n",
      "Epoch: 7, Phase: train, epoch loss: 0.2519, accuracy: 90.4810\n",
      "Epoch: 7, Phase: validate, epoch loss: 1.3783, accuracy: 63.8000\n",
      "Epoch: 9, Phase: train, epoch loss: 0.1783, accuracy: 93.4170\n",
      "Epoch: 9, Phase: validate, epoch loss: 1.6242, accuracy: 61.9000\n",
      "Best val dice loss: 0.914457, Best Accuracy: 65.600000\n"
     ]
    }
   ],
   "source": [
    "model = RNN(300,500,2,3,words_to_load+2).cuda()\n",
    "criterion = torch.nn.CrossEntropyLoss()  \n",
    "optimizer = torch.optim.Adam(model.parameters(), lr = 0.0005)\n",
    "\n",
    "m_save, loss_hists,acc_hist = training(model,criterion,optimizer,\"model_rnn3\",10)"
   ]
  },
  {
   "cell_type": "code",
   "execution_count": 51,
   "metadata": {},
   "outputs": [
    {
     "data": {
      "text/plain": [
       "33208603"
      ]
     },
     "execution_count": 51,
     "metadata": {},
     "output_type": "execute_result"
    }
   ],
   "source": [
    "count_parameters(torch.load(\"model_rnn3\"))"
   ]
  },
  {
   "cell_type": "code",
   "execution_count": 40,
   "metadata": {
    "scrolled": false
   },
   "outputs": [
    {
     "data": {
      "image/png": "[encoded data removed]",
      "text/plain": [
       "<matplotlib.figure.Figure at 0x2adfcefb02b0>"
      ]
     },
     "metadata": {},
     "output_type": "display_data"
    },
    {
     "data": {
      "image/png": "[encoded data removed]",
      "text/plain": [
       "<matplotlib.figure.Figure at 0x2adfcecec278>"
      ]
     },
     "metadata": {},
     "output_type": "display_data"
    }
   ],
   "source": [
    "plt.plot(loss_hists['train'],label=\"train loss\")\n",
    "plt.plot(loss_hists['validate'],label=\"val loss\")\n",
    "plt.legend()\n",
    "plt.show()\n",
    "\n",
    "plt.plot(acc_hist['train'],label=\"train acc\")\n",
    "plt.plot(acc_hist['validate'],label=\"val acc\")\n",
    "plt.legend()\n",
    "plt.show()"
   ]
  },
  {
   "cell_type": "markdown",
   "metadata": {},
   "source": [
    "# FeatureMap = 500, Hidden layer = 2, weight_decay = 0.00001"
   ]
  },
  {
   "cell_type": "code",
   "execution_count": 41,
   "metadata": {
    "scrolled": true
   },
   "outputs": [
    {
     "name": "stderr",
     "output_type": "stream",
     "text": [
      "/home/cvh255/pyenv/py3.6.3/lib/python3.6/site-packages/ipykernel_launcher.py:34: UserWarning: invalid index of a 0-dim tensor. This will be an error in PyTorch 0.5. Use tensor.item() to convert a 0-dim tensor to a Python number\n"
     ]
    },
    {
     "name": "stdout",
     "output_type": "stream",
     "text": [
      "Epoch: 0, Phase: train, epoch loss: 0.9472, accuracy: 53.5510\n",
      "Epoch: 0, Phase: validate, epoch loss: 0.8425, accuracy: 60.8000\n"
     ]
    },
    {
     "name": "stderr",
     "output_type": "stream",
     "text": [
      "/home/cvh255/pyenv/py3.6.3/lib/python3.6/site-packages/torch/serialization.py:241: UserWarning: Couldn't retrieve source code for container of type RNN. It won't be checked for correctness upon loading.\n",
      "  \"type \" + obj.__name__ + \". It won't be checked \"\n"
     ]
    },
    {
     "name": "stdout",
     "output_type": "stream",
     "text": [
      "Epoch: 1, Phase: train, epoch loss: 0.7899, accuracy: 65.1430\n",
      "Epoch: 1, Phase: validate, epoch loss: 0.8092, accuracy: 63.0000\n",
      "Epoch: 2, Phase: train, epoch loss: 0.7157, accuracy: 69.3510\n",
      "Epoch: 2, Phase: validate, epoch loss: 0.7842, accuracy: 65.8000\n",
      "Epoch: 3, Phase: train, epoch loss: 0.6498, accuracy: 72.7590\n",
      "Epoch: 3, Phase: validate, epoch loss: 0.7628, accuracy: 68.3000\n",
      "Epoch: 4, Phase: train, epoch loss: 0.5815, accuracy: 76.2150\n",
      "Epoch: 4, Phase: validate, epoch loss: 0.7757, accuracy: 68.1000\n",
      "Epoch: 5, Phase: train, epoch loss: 0.5113, accuracy: 79.5020\n",
      "Epoch: 5, Phase: validate, epoch loss: 0.8034, accuracy: 68.2000\n",
      "Epoch: 6, Phase: train, epoch loss: 0.4384, accuracy: 82.7200\n",
      "Epoch: 6, Phase: validate, epoch loss: 0.8599, accuracy: 66.6000\n",
      "Epoch: 7, Phase: train, epoch loss: 0.3686, accuracy: 85.7230\n",
      "Epoch: 7, Phase: validate, epoch loss: 1.0215, accuracy: 66.0000\n",
      "Epoch: 8, Phase: train, epoch loss: 0.3029, accuracy: 88.3530\n",
      "Epoch: 8, Phase: validate, epoch loss: 1.1904, accuracy: 65.0000\n",
      "Epoch: 9, Phase: train, epoch loss: 0.2530, accuracy: 90.4500\n",
      "Epoch: 9, Phase: validate, epoch loss: 1.1835, accuracy: 66.0000\n",
      "Best val dice loss: 0.762765, Best Accuracy: 68.300000\n"
     ]
    }
   ],
   "source": [
    "model = RNN(300,500,2,3,words_to_load+2).cuda()\n",
    "criterion = torch.nn.CrossEntropyLoss()  \n",
    "optimizer = torch.optim.Adam(model.parameters(), lr = 0.0005,weight_decay=0.00001)\n",
    "\n",
    "m_save, loss_hists,acc_hist = training(model,criterion,optimizer,\"model_rnn4\",10)"
   ]
  },
  {
   "cell_type": "code",
   "execution_count": 52,
   "metadata": {},
   "outputs": [
    {
     "data": {
      "text/plain": [
       "33208603"
      ]
     },
     "execution_count": 52,
     "metadata": {},
     "output_type": "execute_result"
    }
   ],
   "source": [
    "count_parameters(torch.load(\"model_rnn4\"))"
   ]
  },
  {
   "cell_type": "code",
   "execution_count": 42,
   "metadata": {
    "scrolled": false
   },
   "outputs": [
    {
     "data": {
      "image/png": "[encoded data removed]",
      "text/plain": [
       "<matplotlib.figure.Figure at 0x2adfcf066b00>"
      ]
     },
     "metadata": {},
     "output_type": "display_data"
    },
    {
     "data": {
      "image/png": "[encoded data removed]",
      "text/plain": [
       "<matplotlib.figure.Figure at 0x2adfcee9f0f0>"
      ]
     },
     "metadata": {},
     "output_type": "display_data"
    }
   ],
   "source": [
    "plt.plot(loss_hists['train'],label=\"train loss\")\n",
    "plt.plot(loss_hists['validate'],label=\"val loss\")\n",
    "plt.legend()\n",
    "plt.show()\n",
    "\n",
    "plt.plot(acc_hist['train'],label=\"train acc\")\n",
    "plt.plot(acc_hist['validate'],label=\"val acc\")\n",
    "plt.legend()\n",
    "plt.show()"
   ]
  },
  {
   "cell_type": "markdown",
   "metadata": {},
   "source": [
    "# FeatureMap = 500, Hidden layer = 2, weight_decay = 0.0001"
   ]
  },
  {
   "cell_type": "code",
   "execution_count": 43,
   "metadata": {
    "scrolled": true
   },
   "outputs": [
    {
     "name": "stderr",
     "output_type": "stream",
     "text": [
      "/home/cvh255/pyenv/py3.6.3/lib/python3.6/site-packages/ipykernel_launcher.py:34: UserWarning: invalid index of a 0-dim tensor. This will be an error in PyTorch 0.5. Use tensor.item() to convert a 0-dim tensor to a Python number\n"
     ]
    },
    {
     "name": "stdout",
     "output_type": "stream",
     "text": [
      "Epoch: 0, Phase: train, epoch loss: 0.9774, accuracy: 51.1160\n",
      "Epoch: 0, Phase: validate, epoch loss: 0.9002, accuracy: 60.6000\n"
     ]
    },
    {
     "name": "stderr",
     "output_type": "stream",
     "text": [
      "/home/cvh255/pyenv/py3.6.3/lib/python3.6/site-packages/torch/serialization.py:241: UserWarning: Couldn't retrieve source code for container of type RNN. It won't be checked for correctness upon loading.\n",
      "  \"type \" + obj.__name__ + \". It won't be checked \"\n"
     ]
    },
    {
     "name": "stdout",
     "output_type": "stream",
     "text": [
      "Epoch: 1, Phase: train, epoch loss: 0.8394, accuracy: 61.9100\n",
      "Epoch: 1, Phase: validate, epoch loss: 0.8350, accuracy: 64.4000\n",
      "Epoch: 2, Phase: train, epoch loss: 0.7977, accuracy: 64.2840\n",
      "Epoch: 2, Phase: validate, epoch loss: 0.7999, accuracy: 63.8000\n",
      "Epoch: 3, Phase: train, epoch loss: 0.7688, accuracy: 66.3090\n",
      "Epoch: 3, Phase: validate, epoch loss: 0.8072, accuracy: 64.6000\n",
      "Epoch: 5, Phase: train, epoch loss: 0.7207, accuracy: 69.1110\n",
      "Epoch: 5, Phase: validate, epoch loss: 0.7825, accuracy: 65.6000\n",
      "Epoch: 6, Phase: train, epoch loss: 0.7043, accuracy: 69.9900\n",
      "Epoch: 6, Phase: validate, epoch loss: 0.7699, accuracy: 67.8000\n",
      "Epoch: 7, Phase: train, epoch loss: 0.6879, accuracy: 70.9700\n",
      "Epoch: 7, Phase: validate, epoch loss: 0.8019, accuracy: 66.8000\n",
      "Epoch: 8, Phase: train, epoch loss: 0.6746, accuracy: 71.6870\n",
      "Epoch: 8, Phase: validate, epoch loss: 0.7776, accuracy: 66.5000\n",
      "Epoch: 9, Phase: train, epoch loss: 0.6585, accuracy: 72.5830\n",
      "Epoch: 9, Phase: validate, epoch loss: 0.7531, accuracy: 66.5000\n",
      "Best val dice loss: 0.769874, Best Accuracy: 67.800000\n"
     ]
    }
   ],
   "source": [
    "model = RNN(300,500,2,3,words_to_load+2).cuda()\n",
    "criterion = torch.nn.CrossEntropyLoss()  \n",
    "optimizer = torch.optim.Adam(model.parameters(), lr = 0.0005,weight_decay=0.0001)\n",
    "\n",
    "m_save, loss_hists,acc_hist = training(model,criterion,optimizer,\"model_rnn5\",10)"
   ]
  },
  {
   "cell_type": "code",
   "execution_count": 44,
   "metadata": {
    "scrolled": false
   },
   "outputs": [
    {
     "data": {
      "image/png": "[encoded data removed]",
      "text/plain": [
       "<matplotlib.figure.Figure at 0x2adfcf2edb70>"
      ]
     },
     "metadata": {},
     "output_type": "display_data"
    },
    {
     "data": {
      "image/png": "[encoded data removed]",
      "text/plain": [
       "<matplotlib.figure.Figure at 0x2adfcf4ca400>"
      ]
     },
     "metadata": {},
     "output_type": "display_data"
    }
   ],
   "source": [
    "plt.plot(loss_hists['train'],label=\"train loss\")\n",
    "plt.plot(loss_hists['validate'],label=\"val loss\")\n",
    "plt.legend()\n",
    "plt.show()\n",
    "\n",
    "plt.plot(acc_hist['train'],label=\"train acc\")\n",
    "plt.plot(acc_hist['validate'],label=\"val acc\")\n",
    "plt.legend()\n",
    "plt.show()"
   ]
  },
  {
   "cell_type": "markdown",
   "metadata": {},
   "source": [
    "# FeatureMap = 500, Hidden layer = 1, weight_decay = 0.00001"
   ]
  },
  {
   "cell_type": "code",
   "execution_count": 45,
   "metadata": {
    "scrolled": true
   },
   "outputs": [
    {
     "name": "stderr",
     "output_type": "stream",
     "text": [
      "/home/cvh255/pyenv/py3.6.3/lib/python3.6/site-packages/ipykernel_launcher.py:34: UserWarning: invalid index of a 0-dim tensor. This will be an error in PyTorch 0.5. Use tensor.item() to convert a 0-dim tensor to a Python number\n"
     ]
    },
    {
     "name": "stdout",
     "output_type": "stream",
     "text": [
      "Epoch: 0, Phase: train, epoch loss: 0.9442, accuracy: 53.5030\n",
      "Epoch: 0, Phase: validate, epoch loss: 0.8623, accuracy: 61.4000\n"
     ]
    },
    {
     "name": "stderr",
     "output_type": "stream",
     "text": [
      "/home/cvh255/pyenv/py3.6.3/lib/python3.6/site-packages/torch/serialization.py:241: UserWarning: Couldn't retrieve source code for container of type RNN. It won't be checked for correctness upon loading.\n",
      "  \"type \" + obj.__name__ + \". It won't be checked \"\n"
     ]
    },
    {
     "name": "stdout",
     "output_type": "stream",
     "text": [
      "Epoch: 1, Phase: train, epoch loss: 0.7914, accuracy: 64.8130\n",
      "Epoch: 1, Phase: validate, epoch loss: 0.8124, accuracy: 64.2000\n",
      "Epoch: 2, Phase: train, epoch loss: 0.7196, accuracy: 68.8450\n",
      "Epoch: 2, Phase: validate, epoch loss: 0.7810, accuracy: 64.7000\n",
      "Epoch: 3, Phase: train, epoch loss: 0.6594, accuracy: 72.2450\n",
      "Epoch: 3, Phase: validate, epoch loss: 0.7810, accuracy: 66.9000\n",
      "Epoch: 4, Phase: train, epoch loss: 0.5931, accuracy: 75.5970\n",
      "Epoch: 4, Phase: validate, epoch loss: 0.8030, accuracy: 67.4000\n",
      "Epoch: 5, Phase: train, epoch loss: 0.5223, accuracy: 79.0640\n",
      "Epoch: 5, Phase: validate, epoch loss: 0.8646, accuracy: 67.4000\n",
      "Epoch: 6, Phase: train, epoch loss: 0.4424, accuracy: 82.4850\n",
      "Epoch: 6, Phase: validate, epoch loss: 0.9371, accuracy: 66.0000\n",
      "Epoch: 7, Phase: train, epoch loss: 0.3643, accuracy: 85.9670\n",
      "Epoch: 7, Phase: validate, epoch loss: 1.0820, accuracy: 66.5000\n",
      "Epoch: 8, Phase: train, epoch loss: 0.2974, accuracy: 88.7290\n",
      "Epoch: 8, Phase: validate, epoch loss: 1.2021, accuracy: 66.2000\n",
      "Epoch: 9, Phase: train, epoch loss: 0.2428, accuracy: 90.9130\n",
      "Epoch: 9, Phase: validate, epoch loss: 1.3667, accuracy: 63.5000\n",
      "Best val dice loss: 0.802952, Best Accuracy: 67.400000\n"
     ]
    }
   ],
   "source": [
    "model = RNN(300,500,1,3,words_to_load+2).cuda()\n",
    "criterion = torch.nn.CrossEntropyLoss()  \n",
    "optimizer = torch.optim.Adam(model.parameters(), lr = 0.0005,weight_decay=0.00001)\n",
    "\n",
    "m_save, loss_hists,acc_hist = training(model,criterion,optimizer,\"model_rnn6\",10)"
   ]
  },
  {
   "cell_type": "code",
   "execution_count": 46,
   "metadata": {
    "scrolled": false
   },
   "outputs": [
    {
     "data": {
      "image/png": "[encoded data removed]",
      "text/plain": [
       "<matplotlib.figure.Figure at 0x2adfcf543e80>"
      ]
     },
     "metadata": {},
     "output_type": "display_data"
    },
    {
     "data": {
      "image/png": "[encoded data removed]",
      "text/plain": [
       "<matplotlib.figure.Figure at 0x2adfcf0add68>"
      ]
     },
     "metadata": {},
     "output_type": "display_data"
    }
   ],
   "source": [
    "plt.plot(loss_hists['train'],label=\"train loss\")\n",
    "plt.plot(loss_hists['validate'],label=\"val loss\")\n",
    "plt.legend()\n",
    "plt.show()\n",
    "\n",
    "plt.plot(acc_hist['train'],label=\"train acc\")\n",
    "plt.plot(acc_hist['validate'],label=\"val acc\")\n",
    "plt.legend()\n",
    "plt.show()"
   ]
  },
  {
   "cell_type": "code",
   "execution_count": 42,
   "metadata": {},
   "outputs": [],
   "source": [
    "class RNN_dp(nn.Module):\n",
    "    def __init__(self, emb_size, hidden_size, num_layers, num_classes, vocab_size,p_p):\n",
    "        super(RNN_dp, self).__init__()\n",
    "\n",
    "        self.num_layers, self.hidden_size = num_layers, hidden_size\n",
    "        self.embedding = nn.Embedding(vocab_size, emb_size, padding_idx=PAD_IDX)\n",
    "#         self.embedding.weight.data.copy_(torch.from_numpy(loaded_embeddings))\n",
    "#         self.embedding.weight.requires_grad = False\n",
    "        self.embedding.from_pretrained(torch.from_numpy(loaded_embeddings).cuda(), freeze = True)\n",
    "        self.drop = nn.Dropout(p=p_p)\n",
    "\n",
    "\n",
    "        \n",
    "        self.rnn = nn.GRU(emb_size, hidden_size, num_layers, batch_first = True)\n",
    "        self.linear1 = nn.Linear(2*hidden_size, 500)\n",
    "        self.linear2 = nn.Linear(500,num_classes)\n",
    "\n",
    "    def init_hidden(self, batch_size):\n",
    "        hidden = torch.randn(self.num_layers, batch_size, self.hidden_size)\n",
    "        return hidden.cuda()\n",
    "\n",
    "    def forward(self, data_s1, length1, data_s2, length2):  \n",
    "        batch_size = data_s1.size(0)\n",
    "        self.hidden1 = self.init_hidden(batch_size)\n",
    "        self.hidden2 = self.init_hidden(batch_size)\n",
    "\n",
    "        embed1 = self.embedding(data_s1)\n",
    "        embed2 = self.embedding(data_s2)\n",
    "        \n",
    "#         print(embed1.size())\n",
    "        rnn_out1_, hidden1 = self.rnn(embed1, self.hidden1)\n",
    "        rnn_out2_, hidden2 = self.rnn(embed2, self.hidden2)\n",
    "#         print(self.hidden1.size())\n",
    "\n",
    "        rnn_out1 = torch.sum(hidden1, dim=0)\n",
    "        rnn_out2 = torch.sum(hidden2, dim=0)\n",
    "#         print(rnn_out1.size())\n",
    "        combined_out = torch.cat([rnn_out1, rnn_out2], dim=1)\n",
    "#         print(combined_out.size())\n",
    "        logits = F.relu(self.linear1(combined_out))\n",
    "        res = self.linear2(self.drop(logits))\n",
    "        \n",
    "        return res\n",
    "\n",
    "\n"
   ]
  },
  {
   "cell_type": "markdown",
   "metadata": {},
   "source": [
    "# FeatureMap = 500, Hidden layer = 2, drop_out = 0.5"
   ]
  },
  {
   "cell_type": "code",
   "execution_count": 99,
   "metadata": {
    "scrolled": true
   },
   "outputs": [
    {
     "name": "stderr",
     "output_type": "stream",
     "text": [
      "/home/cvh255/pyenv/py3.6.3/lib/python3.6/site-packages/ipykernel_launcher.py:34: UserWarning: invalid index of a 0-dim tensor. This will be an error in PyTorch 0.5. Use tensor.item() to convert a 0-dim tensor to a Python number\n"
     ]
    },
    {
     "name": "stdout",
     "output_type": "stream",
     "text": [
      "Epoch: 0, Phase: train, epoch loss: 0.9452, accuracy: 54.0530\n",
      "Epoch: 0, Phase: validate, epoch loss: 0.8438, accuracy: 60.7000\n"
     ]
    },
    {
     "name": "stderr",
     "output_type": "stream",
     "text": [
      "/home/cvh255/pyenv/py3.6.3/lib/python3.6/site-packages/torch/serialization.py:241: UserWarning: Couldn't retrieve source code for container of type RNN_dp. It won't be checked for correctness upon loading.\n",
      "  \"type \" + obj.__name__ + \". It won't be checked \"\n"
     ]
    },
    {
     "name": "stdout",
     "output_type": "stream",
     "text": [
      "Epoch: 1, Phase: train, epoch loss: 0.8003, accuracy: 64.6870\n",
      "Epoch: 1, Phase: validate, epoch loss: 0.8051, accuracy: 63.6000\n",
      "Epoch: 2, Phase: train, epoch loss: 0.7189, accuracy: 69.1830\n",
      "Epoch: 2, Phase: validate, epoch loss: 0.7801, accuracy: 65.4000\n",
      "Epoch: 3, Phase: train, epoch loss: 0.6375, accuracy: 73.3940\n",
      "Epoch: 3, Phase: validate, epoch loss: 0.8118, accuracy: 66.0000\n",
      "Epoch: 4, Phase: train, epoch loss: 0.5480, accuracy: 77.8100\n",
      "Epoch: 4, Phase: validate, epoch loss: 0.8602, accuracy: 65.8000\n",
      "Epoch: 5, Phase: train, epoch loss: 0.4607, accuracy: 81.7090\n",
      "Epoch: 5, Phase: validate, epoch loss: 0.9747, accuracy: 65.9000\n",
      "Epoch: 6, Phase: train, epoch loss: 0.3810, accuracy: 85.0530\n",
      "Epoch: 6, Phase: validate, epoch loss: 1.1774, accuracy: 64.2000\n",
      "Epoch: 7, Phase: train, epoch loss: 0.3211, accuracy: 87.5490\n",
      "Epoch: 7, Phase: validate, epoch loss: 1.3271, accuracy: 65.2000\n",
      "Epoch: 8, Phase: train, epoch loss: 0.2775, accuracy: 89.2930\n",
      "Epoch: 8, Phase: validate, epoch loss: 1.3867, accuracy: 64.2000\n",
      "Epoch: 9, Phase: train, epoch loss: 0.2456, accuracy: 90.6650\n",
      "Epoch: 9, Phase: validate, epoch loss: 1.4237, accuracy: 65.0000\n",
      "Best val dice loss: 0.811822, Best Accuracy: 66.000000\n"
     ]
    }
   ],
   "source": [
    "model = RNN_dp(300,500,2,3,words_to_load+2,0.5).cuda()\n",
    "criterion = torch.nn.CrossEntropyLoss()  \n",
    "optimizer = torch.optim.Adam(model.parameters(), lr = 0.0005)\n",
    "\n",
    "m_save, loss_hists,acc_hist = training(model,criterion,optimizer,\"model_rnn7\",10)"
   ]
  },
  {
   "cell_type": "code",
   "execution_count": 100,
   "metadata": {},
   "outputs": [
    {
     "data": {
      "image/png": "[encoded data removed]",
      "text/plain": [
       "<matplotlib.figure.Figure at 0x2adfcf578518>"
      ]
     },
     "metadata": {},
     "output_type": "display_data"
    },
    {
     "data": {
      "image/png": "[encoded data removed]",
      "text/plain": [
       "<matplotlib.figure.Figure at 0x2adfd4757438>"
      ]
     },
     "metadata": {},
     "output_type": "display_data"
    }
   ],
   "source": [
    "plt.plot(loss_hists['train'],label=\"train loss\")\n",
    "plt.plot(loss_hists['validate'],label=\"val loss\")\n",
    "plt.legend()\n",
    "plt.show()\n",
    "\n",
    "plt.plot(acc_hist['train'],label=\"train acc\")\n",
    "plt.plot(acc_hist['validate'],label=\"val acc\")\n",
    "plt.legend()\n",
    "plt.show()"
   ]
  },
  {
   "cell_type": "markdown",
   "metadata": {},
   "source": [
    "# FeatureMap = 500, Hidden layer = 2, drop_out = 0.8"
   ]
  },
  {
   "cell_type": "code",
   "execution_count": 54,
   "metadata": {
    "scrolled": true
   },
   "outputs": [
    {
     "name": "stderr",
     "output_type": "stream",
     "text": [
      "/home/cvh255/pyenv/py3.6.3/lib/python3.6/site-packages/ipykernel_launcher.py:34: UserWarning: invalid index of a 0-dim tensor. This will be an error in PyTorch 0.5. Use tensor.item() to convert a 0-dim tensor to a Python number\n"
     ]
    },
    {
     "name": "stdout",
     "output_type": "stream",
     "text": [
      "Epoch: 0, Phase: train, epoch loss: 0.9671, accuracy: 52.3970\n",
      "Epoch: 0, Phase: validate, epoch loss: 0.8757, accuracy: 58.8000\n"
     ]
    },
    {
     "name": "stderr",
     "output_type": "stream",
     "text": [
      "/home/cvh255/pyenv/py3.6.3/lib/python3.6/site-packages/torch/serialization.py:241: UserWarning: Couldn't retrieve source code for container of type RNN_dp. It won't be checked for correctness upon loading.\n",
      "  \"type \" + obj.__name__ + \". It won't be checked \"\n"
     ]
    },
    {
     "name": "stdout",
     "output_type": "stream",
     "text": [
      "Epoch: 1, Phase: train, epoch loss: 0.8264, accuracy: 63.2370\n",
      "Epoch: 1, Phase: validate, epoch loss: 0.8177, accuracy: 62.4000\n",
      "Epoch: 2, Phase: train, epoch loss: 0.7571, accuracy: 67.2610\n",
      "Epoch: 2, Phase: validate, epoch loss: 0.8126, accuracy: 63.2000\n",
      "Epoch: 3, Phase: train, epoch loss: 0.6866, accuracy: 70.8300\n",
      "Epoch: 3, Phase: validate, epoch loss: 0.8383, accuracy: 64.7000\n",
      "Epoch: 4, Phase: train, epoch loss: 0.6101, accuracy: 74.6100\n",
      "Epoch: 4, Phase: validate, epoch loss: 0.8607, accuracy: 66.4000\n",
      "Epoch: 5, Phase: train, epoch loss: 0.5332, accuracy: 78.2650\n",
      "Epoch: 5, Phase: validate, epoch loss: 0.9267, accuracy: 64.4000\n",
      "Epoch: 6, Phase: train, epoch loss: 0.4640, accuracy: 81.3180\n",
      "Epoch: 6, Phase: validate, epoch loss: 1.0835, accuracy: 65.2000\n",
      "Epoch: 7, Phase: train, epoch loss: 0.4010, accuracy: 83.9630\n",
      "Epoch: 7, Phase: validate, epoch loss: 1.1813, accuracy: 64.0000\n",
      "Epoch: 8, Phase: train, epoch loss: 0.3558, accuracy: 86.0240\n",
      "Epoch: 8, Phase: validate, epoch loss: 1.2989, accuracy: 64.8000\n",
      "Epoch: 9, Phase: train, epoch loss: 0.3204, accuracy: 87.6790\n",
      "Epoch: 9, Phase: validate, epoch loss: 1.4802, accuracy: 64.7000\n",
      "Best val dice loss: 0.860651, Best Accuracy: 66.400000\n"
     ]
    }
   ],
   "source": [
    "model = RNN_dp(300,500,2,3,words_to_load+2,0.8).cuda()\n",
    "criterion = torch.nn.CrossEntropyLoss()  \n",
    "optimizer = torch.optim.Adam(model.parameters(), lr = 0.0005)\n",
    "\n",
    "m_save, loss_hists,acc_hist = training(model,criterion,optimizer,\"model_rnn8\",10)"
   ]
  },
  {
   "cell_type": "code",
   "execution_count": 55,
   "metadata": {
    "scrolled": false
   },
   "outputs": [
    {
     "data": {
      "image/png": "[encoded data removed]",
      "text/plain": [
       "<matplotlib.figure.Figure at 0x2adfcf247d30>"
      ]
     },
     "metadata": {},
     "output_type": "display_data"
    },
    {
     "data": {
      "image/png": "[encoded data removed]",
      "text/plain": [
       "<matplotlib.figure.Figure at 0x2adfdb524a90>"
      ]
     },
     "metadata": {},
     "output_type": "display_data"
    }
   ],
   "source": [
    "plt.plot(loss_hists['train'],label=\"train loss\")\n",
    "plt.plot(loss_hists['validate'],label=\"val loss\")\n",
    "plt.legend()\n",
    "plt.show()\n",
    "\n",
    "plt.plot(acc_hist['train'],label=\"train acc\")\n",
    "plt.plot(acc_hist['validate'],label=\"val acc\")\n",
    "plt.legend()\n",
    "plt.show()"
   ]
  },
  {
   "cell_type": "markdown",
   "metadata": {},
   "source": [
    "# FeatureMap = 500, Hidden layer = 2, drop_out = 0.3"
   ]
  },
  {
   "cell_type": "code",
   "execution_count": 56,
   "metadata": {
    "scrolled": true
   },
   "outputs": [
    {
     "name": "stderr",
     "output_type": "stream",
     "text": [
      "/home/cvh255/pyenv/py3.6.3/lib/python3.6/site-packages/ipykernel_launcher.py:34: UserWarning: invalid index of a 0-dim tensor. This will be an error in PyTorch 0.5. Use tensor.item() to convert a 0-dim tensor to a Python number\n"
     ]
    },
    {
     "name": "stdout",
     "output_type": "stream",
     "text": [
      "Epoch: 0, Phase: train, epoch loss: 0.9413, accuracy: 54.4540\n",
      "Epoch: 0, Phase: validate, epoch loss: 0.8723, accuracy: 59.8000\n"
     ]
    },
    {
     "name": "stderr",
     "output_type": "stream",
     "text": [
      "/home/cvh255/pyenv/py3.6.3/lib/python3.6/site-packages/torch/serialization.py:241: UserWarning: Couldn't retrieve source code for container of type RNN_dp. It won't be checked for correctness upon loading.\n",
      "  \"type \" + obj.__name__ + \". It won't be checked \"\n"
     ]
    },
    {
     "name": "stdout",
     "output_type": "stream",
     "text": [
      "Epoch: 1, Phase: train, epoch loss: 0.7960, accuracy: 64.8640\n",
      "Epoch: 1, Phase: validate, epoch loss: 0.8110, accuracy: 64.5000\n",
      "Epoch: 2, Phase: train, epoch loss: 0.7127, accuracy: 69.4300\n",
      "Epoch: 2, Phase: validate, epoch loss: 0.7941, accuracy: 66.1000\n",
      "Epoch: 3, Phase: train, epoch loss: 0.6286, accuracy: 73.7120\n",
      "Epoch: 3, Phase: validate, epoch loss: 0.8707, accuracy: 66.1000\n",
      "Epoch: 4, Phase: train, epoch loss: 0.5351, accuracy: 78.0890\n",
      "Epoch: 4, Phase: validate, epoch loss: 0.9461, accuracy: 65.8000\n",
      "Epoch: 5, Phase: train, epoch loss: 0.4447, accuracy: 82.1790\n",
      "Epoch: 5, Phase: validate, epoch loss: 1.0580, accuracy: 67.3000\n",
      "Epoch: 6, Phase: train, epoch loss: 0.3649, accuracy: 85.6010\n",
      "Epoch: 6, Phase: validate, epoch loss: 1.2317, accuracy: 66.5000\n",
      "Epoch: 7, Phase: train, epoch loss: 0.3042, accuracy: 88.0850\n",
      "Epoch: 7, Phase: validate, epoch loss: 1.4554, accuracy: 62.6000\n",
      "Epoch: 8, Phase: train, epoch loss: 0.2587, accuracy: 89.9330\n",
      "Epoch: 8, Phase: validate, epoch loss: 1.4327, accuracy: 64.6000\n",
      "Epoch: 9, Phase: train, epoch loss: 0.2277, accuracy: 91.2990\n",
      "Epoch: 9, Phase: validate, epoch loss: 1.6653, accuracy: 65.2000\n",
      "Best val dice loss: 1.057990, Best Accuracy: 67.300000\n"
     ]
    }
   ],
   "source": [
    "model = RNN_dp(300,500,2,3,words_to_load+2,0.3).cuda()\n",
    "criterion = torch.nn.CrossEntropyLoss()  \n",
    "optimizer = torch.optim.Adam(model.parameters(), lr = 0.0005)\n",
    "\n",
    "m_save, loss_hists,acc_hist = training(model,criterion,optimizer,\"model_rnn9\",10)"
   ]
  },
  {
   "cell_type": "code",
   "execution_count": 57,
   "metadata": {
    "scrolled": false
   },
   "outputs": [
    {
     "data": {
      "image/png": "[encoded data removed]",
      "text/plain": [
       "<matplotlib.figure.Figure at 0x2adfcf247cc0>"
      ]
     },
     "metadata": {},
     "output_type": "display_data"
    },
    {
     "data": {
      "image/png": "[encoded data removed]",
      "text/plain": [
       "<matplotlib.figure.Figure at 0x2adfcf150ef0>"
      ]
     },
     "metadata": {},
     "output_type": "display_data"
    }
   ],
   "source": [
    "plt.plot(loss_hists['train'],label=\"train loss\")\n",
    "plt.plot(loss_hists['validate'],label=\"val loss\")\n",
    "plt.legend()\n",
    "plt.show()\n",
    "\n",
    "plt.plot(acc_hist['train'],label=\"train acc\")\n",
    "plt.plot(acc_hist['validate'],label=\"val acc\")\n",
    "plt.legend()\n",
    "plt.show()"
   ]
  },
  {
   "cell_type": "markdown",
   "metadata": {},
   "source": [
    "# FeatureMap = 500, Hidden layer = 2, drop_out = 0.2, weight_decay = 0.000001"
   ]
  },
  {
   "cell_type": "code",
   "execution_count": 44,
   "metadata": {},
   "outputs": [
    {
     "name": "stderr",
     "output_type": "stream",
     "text": [
      "/home/cvh255/pyenv/py3.6.3/lib/python3.6/site-packages/ipykernel_launcher.py:34: UserWarning: invalid index of a 0-dim tensor. This will be an error in PyTorch 0.5. Use tensor.item() to convert a 0-dim tensor to a Python number\n"
     ]
    },
    {
     "name": "stdout",
     "output_type": "stream",
     "text": [
      "Epoch: 0, Phase: train, epoch loss: 0.9418, accuracy: 53.7700\n",
      "Epoch: 0, Phase: validate, epoch loss: 0.8505, accuracy: 61.2000\n"
     ]
    },
    {
     "name": "stderr",
     "output_type": "stream",
     "text": [
      "/home/cvh255/pyenv/py3.6.3/lib/python3.6/site-packages/torch/serialization.py:241: UserWarning: Couldn't retrieve source code for container of type RNN_dp. It won't be checked for correctness upon loading.\n",
      "  \"type \" + obj.__name__ + \". It won't be checked \"\n"
     ]
    },
    {
     "name": "stdout",
     "output_type": "stream",
     "text": [
      "Epoch: 1, Phase: train, epoch loss: 0.7883, accuracy: 65.3570\n",
      "Epoch: 1, Phase: validate, epoch loss: 0.8103, accuracy: 64.5000\n",
      "Epoch: 2, Phase: train, epoch loss: 0.7046, accuracy: 69.9830\n",
      "Epoch: 2, Phase: validate, epoch loss: 0.7918, accuracy: 65.9000\n",
      "Epoch: 3, Phase: train, epoch loss: 0.6230, accuracy: 74.0960\n",
      "Epoch: 3, Phase: validate, epoch loss: 0.8149, accuracy: 66.5000\n",
      "Epoch: 4, Phase: train, epoch loss: 0.5363, accuracy: 78.2180\n",
      "Epoch: 4, Phase: validate, epoch loss: 0.9345, accuracy: 65.3000\n",
      "Epoch: 5, Phase: train, epoch loss: 0.4449, accuracy: 82.4760\n",
      "Epoch: 5, Phase: validate, epoch loss: 0.9950, accuracy: 65.6000\n",
      "Epoch: 6, Phase: train, epoch loss: 0.3628, accuracy: 85.8550\n",
      "Epoch: 6, Phase: validate, epoch loss: 1.1698, accuracy: 65.3000\n",
      "Epoch: 7, Phase: train, epoch loss: 0.3023, accuracy: 88.2760\n",
      "Epoch: 7, Phase: validate, epoch loss: 1.3651, accuracy: 64.4000\n",
      "Epoch: 8, Phase: train, epoch loss: 0.2529, accuracy: 90.2080\n",
      "Epoch: 8, Phase: validate, epoch loss: 1.4581, accuracy: 66.2000\n",
      "Epoch: 9, Phase: train, epoch loss: 0.2150, accuracy: 91.9070\n",
      "Epoch: 9, Phase: validate, epoch loss: 1.5976, accuracy: 63.6000\n",
      "Best val dice loss: 0.814889, Best Accuracy: 66.500000\n"
     ]
    }
   ],
   "source": [
    "model = RNN_dp(300,500,2,3,words_to_load+2,0.2).cuda()\n",
    "criterion = torch.nn.CrossEntropyLoss()  \n",
    "optimizer = torch.optim.Adam(model.parameters(), lr = 0.0005,weight_decay=0.000001)\n",
    "\n",
    "m_save, loss_hists,acc_hist = training(model,criterion,optimizer,\"model_rnn17\",10)"
   ]
  },
  {
   "cell_type": "code",
   "execution_count": 45,
   "metadata": {},
   "outputs": [
    {
     "name": "stdout",
     "output_type": "stream",
     "text": [
      "33208603\n"
     ]
    },
    {
     "data": {
      "image/png": "[encoded data removed]",
      "text/plain": [
       "<matplotlib.figure.Figure at 0x2ac2fd3d22e8>"
      ]
     },
     "metadata": {},
     "output_type": "display_data"
    },
    {
     "data": {
      "image/png": "[encoded data removed]",
      "text/plain": [
       "<matplotlib.figure.Figure at 0x2ac2fcf2ac18>"
      ]
     },
     "metadata": {},
     "output_type": "display_data"
    }
   ],
   "source": [
    "print(count_parameters(model))\n",
    "plt.plot(loss_hists['train'],label=\"train loss\")\n",
    "plt.plot(loss_hists['validate'],label=\"val loss\")\n",
    "plt.legend()\n",
    "plt.show()\n",
    "\n",
    "plt.plot(acc_hist['train'],label=\"train acc\")\n",
    "plt.plot(acc_hist['validate'],label=\"val acc\")\n",
    "plt.legend()\n",
    "plt.show()"
   ]
  },
  {
   "cell_type": "code",
   "execution_count": 66,
   "metadata": {},
   "outputs": [],
   "source": [
    "class RNN_learn(nn.Module):\n",
    "    def __init__(self, emb_size, hidden_size, num_layers, num_classes, vocab_size,p_p):\n",
    "        super(RNN_learn, self).__init__()\n",
    "\n",
    "        self.num_layers, self.hidden_size = num_layers, hidden_size\n",
    "        self.embedding = nn.Embedding(vocab_size, emb_size, padding_idx=PAD_IDX)\n",
    "#         self.embedding.weight.data.copy_(torch.from_numpy(loaded_embeddings))\n",
    "#         self.embedding.weight.requires_grad = False\n",
    "        self.embedding.from_pretrained(torch.from_numpy(loaded_embeddings).cuda(), freeze = True)\n",
    "    \n",
    "        \n",
    "#         self.drop = nn.Dropout(p=p_p)\n",
    "\n",
    "\n",
    "        \n",
    "        self.rnn = nn.GRU(emb_size, hidden_size, num_layers, batch_first = True)\n",
    "        self.linear1 = nn.Linear(2*hidden_size, 500)\n",
    "        self.linear2 = nn.Linear(500,num_classes)\n",
    "\n",
    "    def init_hidden(self, batch_size):\n",
    "        hidden = torch.randn(self.num_layers, batch_size, self.hidden_size)\n",
    "        return hidden.cuda()\n",
    "\n",
    "    def forward(self, data_s1, length1, data_s2, length2):  \n",
    "        batch_size = data_s1.size(0)\n",
    "        self.hidden1 = self.init_hidden(batch_size)\n",
    "        self.hidden2 = self.init_hidden(batch_size)\n",
    "\n",
    "        embed1 = self.embedding(data_s1)\n",
    "        m1 = (data_s1 == 1).type(torch.cuda.FloatTensor)\n",
    "        m1 = m1.unsqueeze(2).repeat(1, 1, 300)\n",
    "        embed1 = m1 * embed1 + (1-m1) * embed1.clone().detach()\n",
    "\n",
    "        embed2 = self.embedding(data_s2)\n",
    "        m2 = (data_s2 == 1).type(torch.cuda.FloatTensor)\n",
    "        m2 = m2.unsqueeze(2).repeat(1, 1, 300)\n",
    "        embed2 = m2 * embed2 + (1-m2) * embed2.clone().detach()\n",
    "\n",
    "        \n",
    "#         print(embed1.size())\n",
    "        rnn_out1_, hidden1 = self.rnn(embed1, self.hidden1)\n",
    "        rnn_out2_, hidden2 = self.rnn(embed2, self.hidden2)\n",
    "#         print(self.hidden1.size())\n",
    "\n",
    "        rnn_out1 = torch.sum(hidden1, dim=0)\n",
    "        rnn_out2 = torch.sum(hidden2, dim=0)\n",
    "#         print(rnn_out1.size())\n",
    "        combined_out = torch.cat([rnn_out1, rnn_out2], dim=1)\n",
    "#         print(combined_out.size())\n",
    "        logits = F.relu(self.linear1(combined_out))\n",
    "        res = self.linear2(logits)\n",
    "        \n",
    "        return res\n",
    "\n",
    "\n",
    "\n"
   ]
  },
  {
   "cell_type": "markdown",
   "metadata": {},
   "source": [
    "# Learning 'unk' unknown parameter"
   ]
  },
  {
   "cell_type": "code",
   "execution_count": 68,
   "metadata": {},
   "outputs": [
    {
     "name": "stderr",
     "output_type": "stream",
     "text": [
      "/home/cvh255/pyenv/py3.6.3/lib/python3.6/site-packages/ipykernel_launcher.py:34: UserWarning: invalid index of a 0-dim tensor. This will be an error in PyTorch 0.5. Use tensor.item() to convert a 0-dim tensor to a Python number\n"
     ]
    },
    {
     "name": "stdout",
     "output_type": "stream",
     "text": [
      "Epoch: 0, Phase: train, epoch loss: 0.9570, accuracy: 53.1220\n",
      "Epoch: 0, Phase: validate, epoch loss: 0.8942, accuracy: 58.1000\n"
     ]
    },
    {
     "name": "stderr",
     "output_type": "stream",
     "text": [
      "/home/cvh255/pyenv/py3.6.3/lib/python3.6/site-packages/torch/serialization.py:241: UserWarning: Couldn't retrieve source code for container of type RNN_learn. It won't be checked for correctness upon loading.\n",
      "  \"type \" + obj.__name__ + \". It won't be checked \"\n"
     ]
    },
    {
     "name": "stdout",
     "output_type": "stream",
     "text": [
      "Epoch: 1, Phase: train, epoch loss: 0.8188, accuracy: 63.0680\n",
      "Epoch: 1, Phase: validate, epoch loss: 0.8145, accuracy: 61.6000\n",
      "Epoch: 2, Phase: train, epoch loss: 0.7341, accuracy: 68.0780\n",
      "Epoch: 2, Phase: validate, epoch loss: 0.8081, accuracy: 64.2000\n",
      "Epoch: 3, Phase: train, epoch loss: 0.6478, accuracy: 72.6080\n",
      "Epoch: 3, Phase: validate, epoch loss: 0.8407, accuracy: 63.8000\n",
      "Epoch: 4, Phase: train, epoch loss: 0.5478, accuracy: 77.5940\n",
      "Epoch: 4, Phase: validate, epoch loss: 0.9363, accuracy: 62.3000\n",
      "Epoch: 5, Phase: train, epoch loss: 0.4511, accuracy: 81.9370\n",
      "Epoch: 5, Phase: validate, epoch loss: 0.9907, accuracy: 65.8000\n",
      "Epoch: 6, Phase: train, epoch loss: 0.3632, accuracy: 85.7970\n",
      "Epoch: 6, Phase: validate, epoch loss: 1.1494, accuracy: 62.5000\n",
      "Epoch: 7, Phase: train, epoch loss: 0.2972, accuracy: 88.5230\n",
      "Epoch: 7, Phase: validate, epoch loss: 1.2494, accuracy: 63.3000\n",
      "Epoch: 8, Phase: train, epoch loss: 0.2518, accuracy: 90.3980\n",
      "Epoch: 8, Phase: validate, epoch loss: 1.3323, accuracy: 63.7000\n",
      "Epoch: 9, Phase: train, epoch loss: 0.2184, accuracy: 91.7610\n",
      "Epoch: 9, Phase: validate, epoch loss: 1.5253, accuracy: 63.7000\n",
      "Best val dice loss: 0.990701, Best Accuracy: 65.800000\n"
     ]
    }
   ],
   "source": [
    "model = RNN_learn(300,500,2,3,words_to_load+2,0).cuda()\n",
    "criterion = torch.nn.CrossEntropyLoss()  \n",
    "optimizer = torch.optim.Adam(model.parameters(), lr = 0.0005)\n",
    "\n",
    "m_save, loss_hists,acc_hist = training(model,criterion,optimizer,\"model_rnn10\",10)"
   ]
  },
  {
   "cell_type": "code",
   "execution_count": 69,
   "metadata": {},
   "outputs": [
    {
     "data": {
      "image/png": "[encoded data removed]",
      "text/plain": [
       "<matplotlib.figure.Figure at 0x2adfdb873240>"
      ]
     },
     "metadata": {},
     "output_type": "display_data"
    },
    {
     "data": {
      "image/png": "[encoded data removed]",
      "text/plain": [
       "<matplotlib.figure.Figure at 0x2adfdb1300b8>"
      ]
     },
     "metadata": {},
     "output_type": "display_data"
    }
   ],
   "source": [
    "plt.plot(loss_hists['train'],label=\"train loss\")\n",
    "plt.plot(loss_hists['validate'],label=\"val loss\")\n",
    "plt.legend()\n",
    "plt.show()\n",
    "\n",
    "plt.plot(acc_hist['train'],label=\"train acc\")\n",
    "plt.plot(acc_hist['validate'],label=\"val acc\")\n",
    "plt.legend()\n",
    "plt.show()"
   ]
  },
  {
   "cell_type": "code",
   "execution_count": null,
   "metadata": {},
   "outputs": [],
   "source": []
  }
 ],
 "metadata": {
  "kernelspec": {
   "display_name": "Python 3",
   "language": "python",
   "name": "python3"
  },
  "language_info": {
   "codemirror_mode": {
    "name": "ipython",
    "version": 3
   },
   "file_extension": ".py",
   "mimetype": "text/x-python",
   "name": "python",
   "nbconvert_exporter": "python",
   "pygments_lexer": "ipython3",
   "version": "3.6.3"
  }
 },
 "nbformat": 4,
 "nbformat_minor": 2
}
