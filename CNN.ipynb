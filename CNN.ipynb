{
 "cells": [
  {
   "cell_type": "code",
   "execution_count": 1,
   "metadata": {},
   "outputs": [],
   "source": [
    "# First lets improve libraries that we are going to be used in this lab session\n",
    "import numpy as np\n",
    "import torch\n",
    "import torch.nn as nn\n",
    "import torch.nn.functional as F\n",
    "from torch.utils.data import Dataset\n",
    "from collections import Counter\n",
    "import pickle as pkl\n",
    "import random\n",
    "import pdb\n",
    "random.seed(134)\n",
    "import pandas as pd\n",
    "\n",
    "PAD_IDX = 0\n",
    "UNK_IDX = 1\n",
    "BATCH_SIZE = 32"
   ]
  },
  {
   "cell_type": "code",
   "execution_count": 2,
   "metadata": {},
   "outputs": [],
   "source": [
    "def count_parameters(model):\n",
    "    return sum(p.numel() for p in model.parameters() if p.requires_grad)"
   ]
  },
  {
   "cell_type": "code",
   "execution_count": 3,
   "metadata": {},
   "outputs": [],
   "source": [
    "from collections import Counter\n",
    "\n",
    "# max_vocab_size = 25000\n",
    "PAD_IDX = 0\n",
    "UNK_IDX = 1\n",
    "\n",
    "def build_vocab(all_tokens):\n",
    "    token_counter = Counter(all_tokens)\n",
    "#     print(token_counter)\n",
    "    vocab = token_counter.keys()\n",
    "    id2token = list(vocab)\n",
    "    token2id = dict(zip(vocab, range(2,2+len(vocab)))) \n",
    "    id2token = ['<pad>', '<unk>'] + id2token\n",
    "    token2id['<pad>'] = PAD_IDX \n",
    "    token2id['<unk>'] = UNK_IDX\n",
    "    return token2id, id2token\n",
    "\n",
    "def read_data(fine_name):\n",
    "    df = pd.read_csv(fine_name,sep='\\t')\n",
    "    return df"
   ]
  },
  {
   "cell_type": "code",
   "execution_count": 4,
   "metadata": {},
   "outputs": [],
   "source": [
    "df_train = read_data(\"snli_train.tsv\")\n",
    "df_val = read_data(\"snli_val.tsv\")"
   ]
  },
  {
   "cell_type": "code",
   "execution_count": 5,
   "metadata": {},
   "outputs": [
    {
     "data": {
      "text/html": [
       "<div>\n",
       "<style scoped>\n",
       "    .dataframe tbody tr th:only-of-type {\n",
       "        vertical-align: middle;\n",
       "    }\n",
       "\n",
       "    .dataframe tbody tr th {\n",
       "        vertical-align: top;\n",
       "    }\n",
       "\n",
       "    .dataframe thead th {\n",
       "        text-align: right;\n",
       "    }\n",
       "</style>\n",
       "<table border=\"1\" class=\"dataframe\">\n",
       "  <thead>\n",
       "    <tr style=\"text-align: right;\">\n",
       "      <th></th>\n",
       "      <th>sentence1</th>\n",
       "      <th>sentence2</th>\n",
       "      <th>label</th>\n",
       "    </tr>\n",
       "  </thead>\n",
       "  <tbody>\n",
       "    <tr>\n",
       "      <th>0</th>\n",
       "      <td>A young girl in a pink shirt sitting on a dock...</td>\n",
       "      <td>A young girl watching the sunset over the water .</td>\n",
       "      <td>neutral</td>\n",
       "    </tr>\n",
       "    <tr>\n",
       "      <th>1</th>\n",
       "      <td>A woman is smiling while the man next to her i...</td>\n",
       "      <td>Two people are next to each other .</td>\n",
       "      <td>entailment</td>\n",
       "    </tr>\n",
       "    <tr>\n",
       "      <th>2</th>\n",
       "      <td>Across the river , you can see a large building .</td>\n",
       "      <td>The large building is full of apartments and t...</td>\n",
       "      <td>neutral</td>\n",
       "    </tr>\n",
       "    <tr>\n",
       "      <th>3</th>\n",
       "      <td>a man in white shorts and a black shirt is par...</td>\n",
       "      <td>A man is riding a jetski on the ocean .</td>\n",
       "      <td>contradiction</td>\n",
       "    </tr>\n",
       "    <tr>\n",
       "      <th>4</th>\n",
       "      <td>Four black dogs run together on bright green g...</td>\n",
       "      <td>Four dogs are preparing to be launched into sp...</td>\n",
       "      <td>contradiction</td>\n",
       "    </tr>\n",
       "  </tbody>\n",
       "</table>\n",
       "</div>"
      ],
      "text/plain": [
       "                                           sentence1  \\\n",
       "0  A young girl in a pink shirt sitting on a dock...   \n",
       "1  A woman is smiling while the man next to her i...   \n",
       "2  Across the river , you can see a large building .   \n",
       "3  a man in white shorts and a black shirt is par...   \n",
       "4  Four black dogs run together on bright green g...   \n",
       "\n",
       "                                           sentence2          label  \n",
       "0  A young girl watching the sunset over the water .        neutral  \n",
       "1                Two people are next to each other .     entailment  \n",
       "2  The large building is full of apartments and t...        neutral  \n",
       "3            A man is riding a jetski on the ocean .  contradiction  \n",
       "4  Four dogs are preparing to be launched into sp...  contradiction  "
      ]
     },
     "execution_count": 5,
     "metadata": {},
     "output_type": "execute_result"
    }
   ],
   "source": [
    "df_train.head()"
   ]
  },
  {
   "cell_type": "code",
   "execution_count": 6,
   "metadata": {},
   "outputs": [],
   "source": [
    "def tokenize(df):\n",
    "    df['sentence1'] = df['sentence1'].apply(lambda x: [a.lower() for a in x.split(' ')])\n",
    "    df['sentence2'] = df['sentence2'].apply(lambda x : [a.lower() for a in x.split(' ')])\n",
    "    \n",
    "    return df"
   ]
  },
  {
   "cell_type": "code",
   "execution_count": 7,
   "metadata": {},
   "outputs": [],
   "source": [
    "df_train = tokenize(df_train)\n",
    "df_val = tokenize(df_val)"
   ]
  },
  {
   "cell_type": "code",
   "execution_count": 8,
   "metadata": {},
   "outputs": [
    {
     "data": {
      "text/html": [
       "<div>\n",
       "<style scoped>\n",
       "    .dataframe tbody tr th:only-of-type {\n",
       "        vertical-align: middle;\n",
       "    }\n",
       "\n",
       "    .dataframe tbody tr th {\n",
       "        vertical-align: top;\n",
       "    }\n",
       "\n",
       "    .dataframe thead th {\n",
       "        text-align: right;\n",
       "    }\n",
       "</style>\n",
       "<table border=\"1\" class=\"dataframe\">\n",
       "  <thead>\n",
       "    <tr style=\"text-align: right;\">\n",
       "      <th></th>\n",
       "      <th>sentence1</th>\n",
       "      <th>sentence2</th>\n",
       "      <th>label</th>\n",
       "    </tr>\n",
       "  </thead>\n",
       "  <tbody>\n",
       "    <tr>\n",
       "      <th>0</th>\n",
       "      <td>[a, young, girl, in, a, pink, shirt, sitting, ...</td>\n",
       "      <td>[a, young, girl, watching, the, sunset, over, ...</td>\n",
       "      <td>neutral</td>\n",
       "    </tr>\n",
       "    <tr>\n",
       "      <th>1</th>\n",
       "      <td>[a, woman, is, smiling, while, the, man, next,...</td>\n",
       "      <td>[two, people, are, next, to, each, other, .]</td>\n",
       "      <td>entailment</td>\n",
       "    </tr>\n",
       "    <tr>\n",
       "      <th>2</th>\n",
       "      <td>[across, the, river, ,, you, can, see, a, larg...</td>\n",
       "      <td>[the, large, building, is, full, of, apartment...</td>\n",
       "      <td>neutral</td>\n",
       "    </tr>\n",
       "    <tr>\n",
       "      <th>3</th>\n",
       "      <td>[a, man, in, white, shorts, and, a, black, shi...</td>\n",
       "      <td>[a, man, is, riding, a, jetski, on, the, ocean...</td>\n",
       "      <td>contradiction</td>\n",
       "    </tr>\n",
       "    <tr>\n",
       "      <th>4</th>\n",
       "      <td>[four, black, dogs, run, together, on, bright,...</td>\n",
       "      <td>[four, dogs, are, preparing, to, be, launched,...</td>\n",
       "      <td>contradiction</td>\n",
       "    </tr>\n",
       "  </tbody>\n",
       "</table>\n",
       "</div>"
      ],
      "text/plain": [
       "                                           sentence1  \\\n",
       "0  [a, young, girl, in, a, pink, shirt, sitting, ...   \n",
       "1  [a, woman, is, smiling, while, the, man, next,...   \n",
       "2  [across, the, river, ,, you, can, see, a, larg...   \n",
       "3  [a, man, in, white, shorts, and, a, black, shi...   \n",
       "4  [four, black, dogs, run, together, on, bright,...   \n",
       "\n",
       "                                           sentence2          label  \n",
       "0  [a, young, girl, watching, the, sunset, over, ...        neutral  \n",
       "1       [two, people, are, next, to, each, other, .]     entailment  \n",
       "2  [the, large, building, is, full, of, apartment...        neutral  \n",
       "3  [a, man, is, riding, a, jetski, on, the, ocean...  contradiction  \n",
       "4  [four, dogs, are, preparing, to, be, launched,...  contradiction  "
      ]
     },
     "execution_count": 8,
     "metadata": {},
     "output_type": "execute_result"
    }
   ],
   "source": [
    "df_train.head()"
   ]
  },
  {
   "cell_type": "code",
   "execution_count": 9,
   "metadata": {},
   "outputs": [],
   "source": [
    "words_to_load = 100000\n",
    "\n",
    "import numpy as np\n",
    "\n",
    "with open('wiki-news-300d-1M.vec') as f:\n",
    "    loaded_embeddings = np.zeros((words_to_load+2, 300))\n",
    "    words = {}\n",
    "    idx2words = {}\n",
    "    ordered_words = ['<pad>','<unk>']\n",
    "    i = 2\n",
    "    for line in f:\n",
    "        if i-2 >= words_to_load: \n",
    "            break\n",
    "        s = line.split()\n",
    "        loaded_embeddings[i, :] = np.asarray(s[1:])\n",
    "        words[s[0]] = i\n",
    "        idx2words[i] = s[0]\n",
    "        ordered_words.append(s[0])\n",
    "        i = i+1"
   ]
  },
  {
   "cell_type": "code",
   "execution_count": 10,
   "metadata": {},
   "outputs": [
    {
     "data": {
      "text/plain": [
       "100001"
      ]
     },
     "execution_count": 10,
     "metadata": {},
     "output_type": "execute_result"
    }
   ],
   "source": [
    "max(words.values())"
   ]
  },
  {
   "cell_type": "code",
   "execution_count": 11,
   "metadata": {},
   "outputs": [],
   "source": [
    "words['<pad>'] = 0\n",
    "words['<unk>'] = 1"
   ]
  },
  {
   "cell_type": "code",
   "execution_count": 12,
   "metadata": {},
   "outputs": [],
   "source": [
    "idx2words[0] = \"<pad>\"\n",
    "idx2words[1] = \"<unk>\""
   ]
  },
  {
   "cell_type": "code",
   "execution_count": 13,
   "metadata": {},
   "outputs": [],
   "source": [
    "# ordered_words.append(\"<pad>\")\n",
    "# ordered_words.append(\"<unk>\")"
   ]
  },
  {
   "cell_type": "code",
   "execution_count": 14,
   "metadata": {},
   "outputs": [],
   "source": [
    "# words\n",
    "def apply_idz(x):\n",
    "    temp = []\n",
    "    for a in x:\n",
    "        if a in ordered_words:\n",
    "            temp.append(words[a])\n",
    "        else:\n",
    "            temp.append(1)\n",
    "    return temp"
   ]
  },
  {
   "cell_type": "code",
   "execution_count": 15,
   "metadata": {},
   "outputs": [],
   "source": [
    "def idize(df):\n",
    "    df['sentence1_idz'] = df[\"sentence1\"].apply(apply_idz)\n",
    "    df['sentence2_idz'] = df[\"sentence2\"].apply(apply_idz)\n",
    "    return df"
   ]
  },
  {
   "cell_type": "code",
   "execution_count": null,
   "metadata": {},
   "outputs": [],
   "source": []
  },
  {
   "cell_type": "code",
   "execution_count": 16,
   "metadata": {},
   "outputs": [],
   "source": [
    "train_train = idize(df_train)"
   ]
  },
  {
   "cell_type": "code",
   "execution_count": 17,
   "metadata": {},
   "outputs": [],
   "source": [
    "val_val = idize(df_val)"
   ]
  },
  {
   "cell_type": "code",
   "execution_count": 18,
   "metadata": {},
   "outputs": [],
   "source": [
    "unk_vec = np.random.normal(size=300)\n",
    "pad_vec = np.random.normal(size=300)"
   ]
  },
  {
   "cell_type": "code",
   "execution_count": 19,
   "metadata": {},
   "outputs": [
    {
     "data": {
      "text/plain": [
       "(100002, 300)"
      ]
     },
     "execution_count": 19,
     "metadata": {},
     "output_type": "execute_result"
    }
   ],
   "source": [
    "loaded_embeddings.shape"
   ]
  },
  {
   "cell_type": "code",
   "execution_count": 20,
   "metadata": {},
   "outputs": [],
   "source": [
    "loaded_embeddings[0,:] = pad_vec\n",
    "# np.insert(loaded_embeddings,0,pad_vec,axis=0)\n",
    "loaded_embeddings[1,:] = unk_vec\n",
    "# np.insert(loaded_embeddings,1,unk_vec,axis=0)"
   ]
  },
  {
   "cell_type": "code",
   "execution_count": null,
   "metadata": {},
   "outputs": [],
   "source": []
  },
  {
   "cell_type": "code",
   "execution_count": 21,
   "metadata": {},
   "outputs": [
    {
     "data": {
      "text/plain": [
       "(100002, 300)"
      ]
     },
     "execution_count": 21,
     "metadata": {},
     "output_type": "execute_result"
    }
   ],
   "source": [
    "loaded_embeddings.shape"
   ]
  },
  {
   "cell_type": "code",
   "execution_count": 22,
   "metadata": {},
   "outputs": [
    {
     "data": {
      "text/html": [
       "<div>\n",
       "<style scoped>\n",
       "    .dataframe tbody tr th:only-of-type {\n",
       "        vertical-align: middle;\n",
       "    }\n",
       "\n",
       "    .dataframe tbody tr th {\n",
       "        vertical-align: top;\n",
       "    }\n",
       "\n",
       "    .dataframe thead th {\n",
       "        text-align: right;\n",
       "    }\n",
       "</style>\n",
       "<table border=\"1\" class=\"dataframe\">\n",
       "  <thead>\n",
       "    <tr style=\"text-align: right;\">\n",
       "      <th></th>\n",
       "      <th>sentence1</th>\n",
       "      <th>sentence2</th>\n",
       "      <th>label</th>\n",
       "      <th>sentence1_idz</th>\n",
       "      <th>sentence2_idz</th>\n",
       "    </tr>\n",
       "  </thead>\n",
       "  <tbody>\n",
       "    <tr>\n",
       "      <th>0</th>\n",
       "      <td>[a, young, girl, in, a, pink, shirt, sitting, ...</td>\n",
       "      <td>[a, young, girl, watching, the, sunset, over, ...</td>\n",
       "      <td>neutral</td>\n",
       "      <td>[10, 803, 1831, 9, 10, 6266, 7168, 4389, 18, 1...</td>\n",
       "      <td>[10, 803, 1831, 2256, 4, 13986, 95, 4, 359, 5]</td>\n",
       "    </tr>\n",
       "    <tr>\n",
       "      <th>1</th>\n",
       "      <td>[a, woman, is, smiling, while, the, man, next,...</td>\n",
       "      <td>[two, people, are, next, to, each, other, .]</td>\n",
       "      <td>entailment</td>\n",
       "      <td>[10, 995, 16, 9767, 132, 4, 348, 425, 8, 87, 1...</td>\n",
       "      <td>[108, 68, 35, 425, 8, 205, 72, 5]</td>\n",
       "    </tr>\n",
       "    <tr>\n",
       "      <th>2</th>\n",
       "      <td>[across, the, river, ,, you, can, see, a, larg...</td>\n",
       "      <td>[the, large, building, is, full, of, apartment...</td>\n",
       "      <td>neutral</td>\n",
       "      <td>[805, 4, 1939, 3, 33, 85, 139, 10, 543, 403, 5]</td>\n",
       "      <td>[4, 543, 403, 16, 491, 7, 8418, 6, 8810]</td>\n",
       "    </tr>\n",
       "    <tr>\n",
       "      <th>3</th>\n",
       "      <td>[a, man, in, white, shorts, and, a, black, shi...</td>\n",
       "      <td>[a, man, is, riding, a, jetski, on, the, ocean...</td>\n",
       "      <td>contradiction</td>\n",
       "      <td>[10, 348, 9, 910, 11908, 6, 10, 885, 7168, 16,...</td>\n",
       "      <td>[10, 348, 16, 5212, 10, 1, 18, 4, 5657, 5]</td>\n",
       "    </tr>\n",
       "    <tr>\n",
       "      <th>4</th>\n",
       "      <td>[four, black, dogs, run, together, on, bright,...</td>\n",
       "      <td>[four, dogs, are, preparing, to, be, launched,...</td>\n",
       "      <td>contradiction</td>\n",
       "      <td>[310, 885, 3136, 442, 550, 18, 4809, 1827, 547...</td>\n",
       "      <td>[310, 3136, 35, 4722, 8, 41, 2194, 91, 596, 5]</td>\n",
       "    </tr>\n",
       "  </tbody>\n",
       "</table>\n",
       "</div>"
      ],
      "text/plain": [
       "                                           sentence1  \\\n",
       "0  [a, young, girl, in, a, pink, shirt, sitting, ...   \n",
       "1  [a, woman, is, smiling, while, the, man, next,...   \n",
       "2  [across, the, river, ,, you, can, see, a, larg...   \n",
       "3  [a, man, in, white, shorts, and, a, black, shi...   \n",
       "4  [four, black, dogs, run, together, on, bright,...   \n",
       "\n",
       "                                           sentence2          label  \\\n",
       "0  [a, young, girl, watching, the, sunset, over, ...        neutral   \n",
       "1       [two, people, are, next, to, each, other, .]     entailment   \n",
       "2  [the, large, building, is, full, of, apartment...        neutral   \n",
       "3  [a, man, is, riding, a, jetski, on, the, ocean...  contradiction   \n",
       "4  [four, dogs, are, preparing, to, be, launched,...  contradiction   \n",
       "\n",
       "                                       sentence1_idz  \\\n",
       "0  [10, 803, 1831, 9, 10, 6266, 7168, 4389, 18, 1...   \n",
       "1  [10, 995, 16, 9767, 132, 4, 348, 425, 8, 87, 1...   \n",
       "2    [805, 4, 1939, 3, 33, 85, 139, 10, 543, 403, 5]   \n",
       "3  [10, 348, 9, 910, 11908, 6, 10, 885, 7168, 16,...   \n",
       "4  [310, 885, 3136, 442, 550, 18, 4809, 1827, 547...   \n",
       "\n",
       "                                    sentence2_idz  \n",
       "0  [10, 803, 1831, 2256, 4, 13986, 95, 4, 359, 5]  \n",
       "1               [108, 68, 35, 425, 8, 205, 72, 5]  \n",
       "2        [4, 543, 403, 16, 491, 7, 8418, 6, 8810]  \n",
       "3      [10, 348, 16, 5212, 10, 1, 18, 4, 5657, 5]  \n",
       "4  [310, 3136, 35, 4722, 8, 41, 2194, 91, 596, 5]  "
      ]
     },
     "execution_count": 22,
     "metadata": {},
     "output_type": "execute_result"
    }
   ],
   "source": [
    "train_train.head()"
   ]
  },
  {
   "cell_type": "code",
   "execution_count": 23,
   "metadata": {},
   "outputs": [],
   "source": [
    "def encode_target(train_train):\n",
    "    train_train['label'][train_train['label']=='neutral']=0\n",
    "    train_train['label'][train_train['label']=='entailment']=1\n",
    "    train_train['label'][train_train['label']=='contradiction']=2\n",
    "    return train_train"
   ]
  },
  {
   "cell_type": "code",
   "execution_count": 24,
   "metadata": {},
   "outputs": [],
   "source": [
    "train_train = encode_target(train_train)\n",
    "val_val = encode_target(val_val)"
   ]
  },
  {
   "cell_type": "code",
   "execution_count": 25,
   "metadata": {},
   "outputs": [
    {
     "data": {
      "text/html": [
       "<div>\n",
       "<style scoped>\n",
       "    .dataframe tbody tr th:only-of-type {\n",
       "        vertical-align: middle;\n",
       "    }\n",
       "\n",
       "    .dataframe tbody tr th {\n",
       "        vertical-align: top;\n",
       "    }\n",
       "\n",
       "    .dataframe thead th {\n",
       "        text-align: right;\n",
       "    }\n",
       "</style>\n",
       "<table border=\"1\" class=\"dataframe\">\n",
       "  <thead>\n",
       "    <tr style=\"text-align: right;\">\n",
       "      <th></th>\n",
       "      <th>sentence1</th>\n",
       "      <th>sentence2</th>\n",
       "      <th>label</th>\n",
       "      <th>sentence1_idz</th>\n",
       "      <th>sentence2_idz</th>\n",
       "    </tr>\n",
       "  </thead>\n",
       "  <tbody>\n",
       "    <tr>\n",
       "      <th>0</th>\n",
       "      <td>[a, young, girl, in, a, pink, shirt, sitting, ...</td>\n",
       "      <td>[a, young, girl, watching, the, sunset, over, ...</td>\n",
       "      <td>0</td>\n",
       "      <td>[10, 803, 1831, 9, 10, 6266, 7168, 4389, 18, 1...</td>\n",
       "      <td>[10, 803, 1831, 2256, 4, 13986, 95, 4, 359, 5]</td>\n",
       "    </tr>\n",
       "    <tr>\n",
       "      <th>1</th>\n",
       "      <td>[a, woman, is, smiling, while, the, man, next,...</td>\n",
       "      <td>[two, people, are, next, to, each, other, .]</td>\n",
       "      <td>1</td>\n",
       "      <td>[10, 995, 16, 9767, 132, 4, 348, 425, 8, 87, 1...</td>\n",
       "      <td>[108, 68, 35, 425, 8, 205, 72, 5]</td>\n",
       "    </tr>\n",
       "    <tr>\n",
       "      <th>2</th>\n",
       "      <td>[across, the, river, ,, you, can, see, a, larg...</td>\n",
       "      <td>[the, large, building, is, full, of, apartment...</td>\n",
       "      <td>0</td>\n",
       "      <td>[805, 4, 1939, 3, 33, 85, 139, 10, 543, 403, 5]</td>\n",
       "      <td>[4, 543, 403, 16, 491, 7, 8418, 6, 8810]</td>\n",
       "    </tr>\n",
       "    <tr>\n",
       "      <th>3</th>\n",
       "      <td>[a, man, in, white, shorts, and, a, black, shi...</td>\n",
       "      <td>[a, man, is, riding, a, jetski, on, the, ocean...</td>\n",
       "      <td>2</td>\n",
       "      <td>[10, 348, 9, 910, 11908, 6, 10, 885, 7168, 16,...</td>\n",
       "      <td>[10, 348, 16, 5212, 10, 1, 18, 4, 5657, 5]</td>\n",
       "    </tr>\n",
       "    <tr>\n",
       "      <th>4</th>\n",
       "      <td>[four, black, dogs, run, together, on, bright,...</td>\n",
       "      <td>[four, dogs, are, preparing, to, be, launched,...</td>\n",
       "      <td>2</td>\n",
       "      <td>[310, 885, 3136, 442, 550, 18, 4809, 1827, 547...</td>\n",
       "      <td>[310, 3136, 35, 4722, 8, 41, 2194, 91, 596, 5]</td>\n",
       "    </tr>\n",
       "  </tbody>\n",
       "</table>\n",
       "</div>"
      ],
      "text/plain": [
       "                                           sentence1  \\\n",
       "0  [a, young, girl, in, a, pink, shirt, sitting, ...   \n",
       "1  [a, woman, is, smiling, while, the, man, next,...   \n",
       "2  [across, the, river, ,, you, can, see, a, larg...   \n",
       "3  [a, man, in, white, shorts, and, a, black, shi...   \n",
       "4  [four, black, dogs, run, together, on, bright,...   \n",
       "\n",
       "                                           sentence2 label  \\\n",
       "0  [a, young, girl, watching, the, sunset, over, ...     0   \n",
       "1       [two, people, are, next, to, each, other, .]     1   \n",
       "2  [the, large, building, is, full, of, apartment...     0   \n",
       "3  [a, man, is, riding, a, jetski, on, the, ocean...     2   \n",
       "4  [four, dogs, are, preparing, to, be, launched,...     2   \n",
       "\n",
       "                                       sentence1_idz  \\\n",
       "0  [10, 803, 1831, 9, 10, 6266, 7168, 4389, 18, 1...   \n",
       "1  [10, 995, 16, 9767, 132, 4, 348, 425, 8, 87, 1...   \n",
       "2    [805, 4, 1939, 3, 33, 85, 139, 10, 543, 403, 5]   \n",
       "3  [10, 348, 9, 910, 11908, 6, 10, 885, 7168, 16,...   \n",
       "4  [310, 885, 3136, 442, 550, 18, 4809, 1827, 547...   \n",
       "\n",
       "                                    sentence2_idz  \n",
       "0  [10, 803, 1831, 2256, 4, 13986, 95, 4, 359, 5]  \n",
       "1               [108, 68, 35, 425, 8, 205, 72, 5]  \n",
       "2        [4, 543, 403, 16, 491, 7, 8418, 6, 8810]  \n",
       "3      [10, 348, 16, 5212, 10, 1, 18, 4, 5657, 5]  \n",
       "4  [310, 3136, 35, 4722, 8, 41, 2194, 91, 596, 5]  "
      ]
     },
     "execution_count": 25,
     "metadata": {},
     "output_type": "execute_result"
    }
   ],
   "source": [
    "train_train.head()"
   ]
  },
  {
   "cell_type": "code",
   "execution_count": 26,
   "metadata": {},
   "outputs": [],
   "source": [
    "class SnliDataset(Dataset):\n",
    "    def __init__(self, df):\n",
    "        self.df = df\n",
    "        \n",
    "    def __len__(self):\n",
    "        return len(self.df)\n",
    "\n",
    "    def __getitem__(self, idx):\n",
    "        s1 = self.df.iloc[idx]['sentence1_idz']\n",
    "        s2 = self.df.iloc[idx]['sentence2_idz']\n",
    "        tar = self.df.iloc[idx]['label']\n",
    "        len1 = len(s1)\n",
    "        len2 = len(s2)\n",
    "        return [s1,len1,s2,len2,tar]"
   ]
  },
  {
   "cell_type": "code",
   "execution_count": 27,
   "metadata": {},
   "outputs": [],
   "source": [
    "def max_len(x):\n",
    "    return len(x)\n",
    "    "
   ]
  },
  {
   "cell_type": "code",
   "execution_count": 28,
   "metadata": {},
   "outputs": [],
   "source": [
    "l1 = train_train['sentence1_idz'].apply(max_len)\n",
    "l2 = train_train['sentence2_idz'].apply(max_len)\n",
    "# MAX_LEN = max(l1+l2)\n",
    "MAX_LEN = 25"
   ]
  },
  {
   "cell_type": "code",
   "execution_count": 29,
   "metadata": {},
   "outputs": [],
   "source": [
    "def vocab_collate_func(batch):\n",
    "    data_list_s1 = []\n",
    "    data_list_s2 = []\n",
    "    label_list = []\n",
    "    length_list_s1 = []\n",
    "    length_list_s2 = []\n",
    "\n",
    "    for datum in batch:\n",
    "        label_list.append(datum[4])\n",
    "        length_list_s1.append(datum[1])\n",
    "        length_list_s2.append(datum[3])\n",
    "    # padding\n",
    "    for datum in batch:\n",
    "        if datum[1]>MAX_LEN:\n",
    "            padded_vec_s1 = np.array(datum[0])[:MAX_LEN]\n",
    "        else:\n",
    "            padded_vec_s1 = np.pad(np.array(datum[0]),\n",
    "                                pad_width=((0,MAX_LEN - datum[1])),\n",
    "                                mode=\"constant\", constant_values=0)\n",
    "        if datum[3]>MAX_LEN:\n",
    "            padded_vec_s2 = np.array(datum[2])[:MAX_LEN]\n",
    "        else:\n",
    "            padded_vec_s2 = np.pad(np.array(datum[2]),\n",
    "                                pad_width=((0,MAX_LEN - datum[3])),\n",
    "                                mode=\"constant\", constant_values=0)\n",
    "        data_list_s1.append(padded_vec_s1)\n",
    "        data_list_s2.append(padded_vec_s2)\n",
    "        \n",
    "    return [torch.from_numpy(np.array(data_list_s1)), torch.LongTensor(length_list_s1), torch.from_numpy(np.array(data_list_s2)), torch.LongTensor(length_list_s2), torch.LongTensor(label_list)]"
   ]
  },
  {
   "cell_type": "code",
   "execution_count": 30,
   "metadata": {},
   "outputs": [],
   "source": [
    "train_dataset = SnliDataset(train_train)\n",
    "train_loader = torch.utils.data.DataLoader(dataset=train_dataset,\n",
    "                                           batch_size=BATCH_SIZE,\n",
    "                                           collate_fn=vocab_collate_func,\n",
    "                                           shuffle=True)\n",
    "\n",
    "val_dataset = SnliDataset(val_val)\n",
    "val_loader = torch.utils.data.DataLoader(dataset=val_dataset,\n",
    "                                           batch_size=BATCH_SIZE,\n",
    "                                           collate_fn=vocab_collate_func,\n",
    "                                           shuffle=True)\n",
    "\n"
   ]
  },
  {
   "cell_type": "code",
   "execution_count": 31,
   "metadata": {},
   "outputs": [],
   "source": [
    "a = next(iter(train_loader))"
   ]
  },
  {
   "cell_type": "code",
   "execution_count": 35,
   "metadata": {},
   "outputs": [],
   "source": [
    "class CNN(nn.Module):\n",
    "    def __init__(self, emb_size, num_classes, vocab_size,n_feat,n_channel):\n",
    "        super(CNN, self).__init__()\n",
    "        self.embedding = nn.Embedding(vocab_size, emb_size, padding_idx = PAD_IDX)\n",
    "        self.embedding.from_pretrained(torch.from_numpy(loaded_embeddings), freeze=False)\n",
    "        self.n_channel =n_channel\n",
    "        self.conv1 = nn.Conv2d(1,n_feat,kernel_size=(5,300),stride=(1,1))\n",
    "        self.conv2 = nn.Conv2d(n_feat,self.n_channel,kernel_size=(5,1),stride=(1,1))\n",
    "        \n",
    "        self.max1 = nn.MaxPool2d(kernel_size=(10,1))\n",
    "        self.linear1 = nn.Linear(2*self.n_channel, 500)\n",
    "        self.linear2 = nn.Linear(500,num_classes)\n",
    "        self.dp1 = nn.Dropout(p=0.8)\n",
    "\n",
    "    def forward(self, data_s1, length1, data_s2, length2):\n",
    "\n",
    "        embed1 = torch.unsqueeze(self.embedding(data_s1),dim=1)\n",
    "        embed2 = torch.unsqueeze(self.embedding(data_s2),dim=1)\n",
    "        \n",
    "        out1 = F.relu(self.conv1(embed1))\n",
    "        out2 = F.relu(self.conv1(embed2))\n",
    "        \n",
    "        out1 = F.relu(self.conv2(out1))\n",
    "        out2 = F.relu(self.conv2(out2))\n",
    "\n",
    "#         print(\"out\",out1.size())\n",
    "        mout1 = self.max1(out1)\n",
    "        mout2 = self.max1(out2)\n",
    "#         print(\"mout\",mout1.size())\n",
    "        \n",
    "        sum1 = torch.squeeze(torch.sum(mout1,dim=2))\n",
    "        sum2 = torch.squeeze(torch.sum(mout2,dim=2))\n",
    "#         print(\"sum\",sum1.size())\n",
    "#         combined_out = torch.squeeze(torch.cat([mout1, mout2], dim=1))\n",
    "        combined_out = torch.cat([sum1,sum2],dim=1)\n",
    "#         print(\"comb\",combined_out.size())\n",
    "        \n",
    "        logits = F.relu(self.linear1(combined_out))\n",
    "        res = self.linear2(logits)\n",
    "        \n",
    "        return res\n",
    "\n"
   ]
  },
  {
   "cell_type": "code",
   "execution_count": 36,
   "metadata": {},
   "outputs": [],
   "source": [
    "dataloaders = [train_loader, val_loader]"
   ]
  },
  {
   "cell_type": "code",
   "execution_count": 37,
   "metadata": {},
   "outputs": [],
   "source": [
    "def training(model,criterion, optimizer, name, num_epochs):\n",
    "    mask_l = [True]*100002\n",
    "    mask_l[1]=False\n",
    "    zz = torch.zeros((1,300)).cuda()\n",
    "    best_loss = np.inf\n",
    "    best_acc = 0\n",
    "    loss_hist = {'train':[],'validate':[]}\n",
    "    acc_hist = {'train':[],'validate':[]}\n",
    "    for i in range(num_epochs):\n",
    "        for enu,phase in enumerate(['train', 'validate']):\n",
    "            running_loss = 0\n",
    "            running_total = 0\n",
    "            correct = 0\n",
    "            total = 0\n",
    "            if phase == 'train':\n",
    "                model.train(True)\n",
    "            else:\n",
    "                model.train(False)\n",
    "            for (data1, length1, data2, length2, labels) in dataloaders[enu]:\n",
    "#                 data_batch1, length_batch1, data_batch2, len_batch2, label_batch = data1, length1, data2, length2, labels\n",
    "                data_batch1, len_batch1, data_batch2, len_batch2, label_batch = data1.cuda(), length1.cuda(), data2.cuda(), length2.cuda(), labels.cuda()\n",
    "\n",
    "\n",
    "                optimizer.zero_grad()\n",
    "                outputs = model(data_batch1, len_batch1, data_batch2, len_batch2)\n",
    "                loss = criterion(outputs, label_batch)\n",
    "                if phase=='train':\n",
    "                    loss.backward()\n",
    "#                     model.embedding.weight.grad[mask_l,:] = zz\n",
    "                    optimizer.step()\n",
    "                N = labels.size(0)\n",
    "                \n",
    "                outputs = F.softmax(outputs, dim=1)\n",
    "                predicted = outputs.max(1, keepdim=True)[1]\n",
    "#                 print(type(predicted))\n",
    "                total += labels.size(0)\n",
    "                correct += predicted.eq(label_batch.view_as(predicted)).sum().item()\n",
    "                running_loss += loss.data[0] * N\n",
    "                running_total += N\n",
    "            epoch_loss = running_loss/running_total\n",
    "            loss_hist[phase].append(epoch_loss.item())\n",
    "            accuracy = 100 * correct / total\n",
    "            acc_hist[phase].append(accuracy)\n",
    "            print('Epoch: {}, Phase: {}, epoch loss: {:.4f}, accuracy: {:.4f}'\\\n",
    "                      .format(i,phase,epoch_loss, accuracy))\n",
    "        if phase == 'validate' and best_acc < accuracy:\n",
    "            best_loss = epoch_loss\n",
    "            best_acc = accuracy\n",
    "            torch.save(model,name)\n",
    "    print('Best val dice loss: {:4f}, Best Accuracy: {:4f}'.format(best_loss,best_acc))\n",
    "    return model, loss_hist,acc_hist"
   ]
  },
  {
   "cell_type": "markdown",
   "metadata": {},
   "source": [
    "## kernel=5, feature_maps=500, n_channels2=100"
   ]
  },
  {
   "cell_type": "code",
   "execution_count": 42,
   "metadata": {},
   "outputs": [
    {
     "name": "stdout",
     "output_type": "stream",
     "text": [
      "CNN(\n",
      "  (embedding): Embedding(100002, 300, padding_idx=0)\n",
      "  (conv1): Conv2d(1, 500, kernel_size=(5, 300), stride=(1, 1))\n",
      "  (conv2): Conv2d(500, 100, kernel_size=(5, 1), stride=(1, 1))\n",
      "  (max1): MaxPool2d(kernel_size=(10, 1), stride=(10, 1), padding=0, dilation=1, ceil_mode=False)\n",
      "  (linear1): Linear(in_features=200, out_features=500, bias=True)\n",
      "  (linear2): Linear(in_features=500, out_features=3, bias=True)\n",
      "  (dp1): Dropout(p=0.8)\n",
      ")\n"
     ]
    },
    {
     "name": "stderr",
     "output_type": "stream",
     "text": [
      "/home/cvh255/pyenv/py3.6.3/lib/python3.6/site-packages/ipykernel_launcher.py:38: UserWarning: invalid index of a 0-dim tensor. This will be an error in PyTorch 0.5. Use tensor.item() to convert a 0-dim tensor to a Python number\n"
     ]
    },
    {
     "name": "stdout",
     "output_type": "stream",
     "text": [
      "Epoch: 1, Phase: train, epoch loss: 0.7758, accuracy: 65.7720\n",
      "Epoch: 1, Phase: validate, epoch loss: 0.8397, accuracy: 61.4000\n",
      "Epoch: 2, Phase: train, epoch loss: 0.6853, accuracy: 70.7790\n",
      "Epoch: 2, Phase: validate, epoch loss: 0.8390, accuracy: 63.3000\n",
      "Epoch: 3, Phase: train, epoch loss: 0.5807, accuracy: 75.8770\n",
      "Epoch: 3, Phase: validate, epoch loss: 0.8614, accuracy: 63.2000\n",
      "Epoch: 4, Phase: train, epoch loss: 0.4606, accuracy: 81.6670\n",
      "Epoch: 4, Phase: validate, epoch loss: 0.9784, accuracy: 62.7000\n",
      "Epoch: 5, Phase: train, epoch loss: 0.3491, accuracy: 86.5630\n",
      "Epoch: 5, Phase: validate, epoch loss: 1.1837, accuracy: 64.1000\n",
      "Epoch: 6, Phase: train, epoch loss: 0.2654, accuracy: 89.9990\n",
      "Epoch: 6, Phase: validate, epoch loss: 1.4579, accuracy: 63.1000\n",
      "Epoch: 7, Phase: train, epoch loss: 0.2043, accuracy: 92.4580\n",
      "Epoch: 7, Phase: validate, epoch loss: 1.6670, accuracy: 63.0000\n",
      "Epoch: 8, Phase: train, epoch loss: 0.1672, accuracy: 93.8100\n",
      "Epoch: 8, Phase: validate, epoch loss: 1.7834, accuracy: 62.2000\n",
      "Epoch: 9, Phase: train, epoch loss: 0.1385, accuracy: 94.9820\n",
      "Epoch: 9, Phase: validate, epoch loss: 1.9521, accuracy: 61.9000\n",
      "Best val dice loss: 1.183676, Best Accuracy: 64.100000\n"
     ]
    }
   ],
   "source": [
    "model = CNN(300, 3, words_to_load+2,500,100).cuda()\n",
    "criterion = torch.nn.CrossEntropyLoss()  \n",
    "optimizer = torch.optim.Adam(model.parameters(), lr = 0.0005)\n",
    "print(model)\n",
    "\n",
    "m_save, loss_hists,acc_hist = training(model,criterion,optimizer,\"model_cnn1\",10)"
   ]
  },
  {
   "cell_type": "code",
   "execution_count": 43,
   "metadata": {},
   "outputs": [
    {
     "name": "stdout",
     "output_type": "stream",
     "text": [
      "31103203\n"
     ]
    },
    {
     "data": {
      "image/png": "[encoded data removed]",
      "text/plain": [
       "<matplotlib.figure.Figure at 0x2b9de51b6a58>"
      ]
     },
     "metadata": {},
     "output_type": "display_data"
    },
    {
     "data": {
      "image/png": "[encoded data removed]",
      "text/plain": [
       "<matplotlib.figure.Figure at 0x2b9de566beb8>"
      ]
     },
     "metadata": {},
     "output_type": "display_data"
    }
   ],
   "source": [
    "import matplotlib.pyplot as plt\n",
    "%matplotlib inline\n",
    "print(count_parameters(model))\n",
    "plt.plot(loss_hists['train'],label=\"train loss\")\n",
    "plt.plot(loss_hists['validate'],label=\"val loss\")\n",
    "plt.legend()\n",
    "plt.show()\n",
    "\n",
    "plt.plot(acc_hist['train'],label=\"train acc\")\n",
    "plt.plot(acc_hist['validate'],label=\"val acc\")\n",
    "plt.legend()\n",
    "plt.show()"
   ]
  },
  {
   "cell_type": "markdown",
   "metadata": {},
   "source": [
    "## kernel=5, feature_maps=300, n_channels2=100"
   ]
  },
  {
   "cell_type": "code",
   "execution_count": 44,
   "metadata": {},
   "outputs": [
    {
     "name": "stdout",
     "output_type": "stream",
     "text": [
      "CNN(\n",
      "  (embedding): Embedding(100002, 300, padding_idx=0)\n",
      "  (conv1): Conv2d(1, 300, kernel_size=(5, 300), stride=(1, 1))\n",
      "  (conv2): Conv2d(300, 100, kernel_size=(5, 1), stride=(1, 1))\n",
      "  (max1): MaxPool2d(kernel_size=(10, 1), stride=(10, 1), padding=0, dilation=1, ceil_mode=False)\n",
      "  (linear1): Linear(in_features=200, out_features=500, bias=True)\n",
      "  (linear2): Linear(in_features=500, out_features=3, bias=True)\n",
      "  (dp1): Dropout(p=0.8)\n",
      ")\n"
     ]
    },
    {
     "name": "stderr",
     "output_type": "stream",
     "text": [
      "/home/cvh255/pyenv/py3.6.3/lib/python3.6/site-packages/ipykernel_launcher.py:38: UserWarning: invalid index of a 0-dim tensor. This will be an error in PyTorch 0.5. Use tensor.item() to convert a 0-dim tensor to a Python number\n"
     ]
    },
    {
     "name": "stdout",
     "output_type": "stream",
     "text": [
      "Epoch: 0, Phase: train, epoch loss: 0.9000, accuracy: 57.6840\n",
      "Epoch: 0, Phase: validate, epoch loss: 0.8591, accuracy: 59.2000\n"
     ]
    },
    {
     "name": "stderr",
     "output_type": "stream",
     "text": [
      "/home/cvh255/pyenv/py3.6.3/lib/python3.6/site-packages/torch/serialization.py:241: UserWarning: Couldn't retrieve source code for container of type CNN. It won't be checked for correctness upon loading.\n",
      "  \"type \" + obj.__name__ + \". It won't be checked \"\n"
     ]
    },
    {
     "name": "stdout",
     "output_type": "stream",
     "text": [
      "Epoch: 1, Phase: train, epoch loss: 0.7762, accuracy: 65.7780\n",
      "Epoch: 1, Phase: validate, epoch loss: 0.8147, accuracy: 64.5000\n",
      "Epoch: 2, Phase: train, epoch loss: 0.6870, accuracy: 70.5770\n",
      "Epoch: 2, Phase: validate, epoch loss: 0.7996, accuracy: 64.6000\n",
      "Epoch: 3, Phase: train, epoch loss: 0.5890, accuracy: 75.6290\n",
      "Epoch: 3, Phase: validate, epoch loss: 0.8586, accuracy: 63.8000\n",
      "Epoch: 4, Phase: train, epoch loss: 0.4801, accuracy: 80.5780\n",
      "Epoch: 4, Phase: validate, epoch loss: 0.9348, accuracy: 62.4000\n",
      "Epoch: 5, Phase: train, epoch loss: 0.3760, accuracy: 85.2520\n",
      "Epoch: 5, Phase: validate, epoch loss: 1.1406, accuracy: 63.0000\n",
      "Epoch: 6, Phase: train, epoch loss: 0.2964, accuracy: 88.6390\n",
      "Epoch: 6, Phase: validate, epoch loss: 1.2587, accuracy: 61.7000\n",
      "Epoch: 7, Phase: train, epoch loss: 0.2328, accuracy: 91.2130\n",
      "Epoch: 7, Phase: validate, epoch loss: 1.4701, accuracy: 60.9000\n",
      "Epoch: 8, Phase: train, epoch loss: 0.1917, accuracy: 92.8990\n",
      "Epoch: 8, Phase: validate, epoch loss: 1.6298, accuracy: 60.8000\n",
      "Epoch: 9, Phase: train, epoch loss: 0.1612, accuracy: 94.0690\n",
      "Epoch: 9, Phase: validate, epoch loss: 1.7959, accuracy: 60.8000\n",
      "Best val dice loss: 0.799580, Best Accuracy: 64.600000\n"
     ]
    }
   ],
   "source": [
    "model = CNN(300, 3, words_to_load+2,300,100).cuda()\n",
    "criterion = torch.nn.CrossEntropyLoss()  \n",
    "optimizer = torch.optim.Adam(model.parameters(), lr = 0.0005)\n",
    "print(model)\n",
    "\n",
    "m_save, loss_hists,acc_hist = training(model,criterion,optimizer,\"model_cnn2\",10)"
   ]
  },
  {
   "cell_type": "code",
   "execution_count": 45,
   "metadata": {},
   "outputs": [
    {
     "name": "stdout",
     "output_type": "stream",
     "text": [
      "30703003\n"
     ]
    },
    {
     "data": {
      "image/png": "[encoded data removed]",
      "text/plain": [
       "<matplotlib.figure.Figure at 0x2b9de56daba8>"
      ]
     },
     "metadata": {},
     "output_type": "display_data"
    },
    {
     "data": {
      "image/png": "[encoded data removed]",
      "text/plain": [
       "<matplotlib.figure.Figure at 0x2b9de55c3f98>"
      ]
     },
     "metadata": {},
     "output_type": "display_data"
    }
   ],
   "source": [
    "print(count_parameters(model))\n",
    "plt.plot(loss_hists['train'],label=\"train loss\")\n",
    "plt.plot(loss_hists['validate'],label=\"val loss\")\n",
    "plt.legend()\n",
    "plt.show()\n",
    "\n",
    "plt.plot(acc_hist['train'],label=\"train acc\")\n",
    "plt.plot(acc_hist['validate'],label=\"val acc\")\n",
    "plt.legend()\n",
    "plt.show()"
   ]
  },
  {
   "cell_type": "markdown",
   "metadata": {},
   "source": [
    "## kernel=5, feature_maps=200, n_channels2=100"
   ]
  },
  {
   "cell_type": "code",
   "execution_count": 46,
   "metadata": {},
   "outputs": [
    {
     "name": "stdout",
     "output_type": "stream",
     "text": [
      "CNN(\n",
      "  (embedding): Embedding(100002, 300, padding_idx=0)\n",
      "  (conv1): Conv2d(1, 200, kernel_size=(5, 300), stride=(1, 1))\n",
      "  (conv2): Conv2d(200, 100, kernel_size=(5, 1), stride=(1, 1))\n",
      "  (max1): MaxPool2d(kernel_size=(10, 1), stride=(10, 1), padding=0, dilation=1, ceil_mode=False)\n",
      "  (linear1): Linear(in_features=200, out_features=500, bias=True)\n",
      "  (linear2): Linear(in_features=500, out_features=3, bias=True)\n",
      "  (dp1): Dropout(p=0.8)\n",
      ")\n"
     ]
    },
    {
     "name": "stderr",
     "output_type": "stream",
     "text": [
      "/home/cvh255/pyenv/py3.6.3/lib/python3.6/site-packages/ipykernel_launcher.py:38: UserWarning: invalid index of a 0-dim tensor. This will be an error in PyTorch 0.5. Use tensor.item() to convert a 0-dim tensor to a Python number\n"
     ]
    },
    {
     "name": "stdout",
     "output_type": "stream",
     "text": [
      "Epoch: 0, Phase: train, epoch loss: 0.9020, accuracy: 57.2890\n",
      "Epoch: 0, Phase: validate, epoch loss: 0.8233, accuracy: 62.8000\n"
     ]
    },
    {
     "name": "stderr",
     "output_type": "stream",
     "text": [
      "/home/cvh255/pyenv/py3.6.3/lib/python3.6/site-packages/torch/serialization.py:241: UserWarning: Couldn't retrieve source code for container of type CNN. It won't be checked for correctness upon loading.\n",
      "  \"type \" + obj.__name__ + \". It won't be checked \"\n"
     ]
    },
    {
     "name": "stdout",
     "output_type": "stream",
     "text": [
      "Epoch: 1, Phase: train, epoch loss: 0.7827, accuracy: 65.2270\n",
      "Epoch: 1, Phase: validate, epoch loss: 0.8020, accuracy: 64.1000\n",
      "Epoch: 2, Phase: train, epoch loss: 0.7027, accuracy: 69.8270\n",
      "Epoch: 2, Phase: validate, epoch loss: 0.8134, accuracy: 65.6000\n",
      "Epoch: 3, Phase: train, epoch loss: 0.6178, accuracy: 74.2470\n",
      "Epoch: 3, Phase: validate, epoch loss: 0.8433, accuracy: 63.2000\n",
      "Epoch: 4, Phase: train, epoch loss: 0.5248, accuracy: 78.5590\n",
      "Epoch: 4, Phase: validate, epoch loss: 0.9446, accuracy: 64.0000\n",
      "Epoch: 5, Phase: train, epoch loss: 0.4294, accuracy: 83.0010\n",
      "Epoch: 5, Phase: validate, epoch loss: 1.0753, accuracy: 64.2000\n",
      "Epoch: 6, Phase: train, epoch loss: 0.3460, accuracy: 86.5910\n",
      "Epoch: 6, Phase: validate, epoch loss: 1.1973, accuracy: 61.9000\n",
      "Epoch: 7, Phase: train, epoch loss: 0.2800, accuracy: 89.2520\n",
      "Epoch: 7, Phase: validate, epoch loss: 1.4307, accuracy: 62.2000\n",
      "Epoch: 8, Phase: train, epoch loss: 0.2271, accuracy: 91.3680\n",
      "Epoch: 8, Phase: validate, epoch loss: 1.6567, accuracy: 61.6000\n",
      "Epoch: 9, Phase: train, epoch loss: 0.1876, accuracy: 92.9550\n",
      "Epoch: 9, Phase: validate, epoch loss: 1.8074, accuracy: 60.6000\n",
      "Best val dice loss: 0.813414, Best Accuracy: 65.600000\n"
     ]
    }
   ],
   "source": [
    "model = CNN(300, 3, words_to_load+2,200,100).cuda()\n",
    "criterion = torch.nn.CrossEntropyLoss()  \n",
    "optimizer = torch.optim.Adam(model.parameters(), lr = 0.0005)\n",
    "print(model)\n",
    "\n",
    "m_save, loss_hists,acc_hist = training(model,criterion,optimizer,\"model_cnn2\",10)"
   ]
  },
  {
   "cell_type": "code",
   "execution_count": 47,
   "metadata": {},
   "outputs": [
    {
     "data": {
      "text/plain": [
       "30502903"
      ]
     },
     "execution_count": 47,
     "metadata": {},
     "output_type": "execute_result"
    }
   ],
   "source": [
    "count_parameters(model)"
   ]
  },
  {
   "cell_type": "code",
   "execution_count": 48,
   "metadata": {},
   "outputs": [
    {
     "data": {
      "image/png": "[encoded data removed]",
      "text/plain": [
       "<matplotlib.figure.Figure at 0x2b9de5694748>"
      ]
     },
     "metadata": {},
     "output_type": "display_data"
    },
    {
     "data": {
      "image/png": "[encoded data removed]",
      "text/plain": [
       "<matplotlib.figure.Figure at 0x2b9de575ecc0>"
      ]
     },
     "metadata": {},
     "output_type": "display_data"
    }
   ],
   "source": [
    "plt.plot(loss_hists['train'],label=\"train loss\")\n",
    "plt.plot(loss_hists['validate'],label=\"val loss\")\n",
    "plt.legend()\n",
    "plt.show()\n",
    "\n",
    "plt.plot(acc_hist['train'],label=\"train acc\")\n",
    "plt.plot(acc_hist['validate'],label=\"val acc\")\n",
    "plt.legend()\n",
    "plt.show()"
   ]
  },
  {
   "cell_type": "markdown",
   "metadata": {},
   "source": [
    "## kernel=5, feature_maps=600, n_channels2=100"
   ]
  },
  {
   "cell_type": "code",
   "execution_count": 49,
   "metadata": {},
   "outputs": [
    {
     "name": "stdout",
     "output_type": "stream",
     "text": [
      "CNN(\n",
      "  (embedding): Embedding(100002, 300, padding_idx=0)\n",
      "  (conv1): Conv2d(1, 600, kernel_size=(5, 300), stride=(1, 1))\n",
      "  (conv2): Conv2d(600, 100, kernel_size=(5, 1), stride=(1, 1))\n",
      "  (max1): MaxPool2d(kernel_size=(10, 1), stride=(10, 1), padding=0, dilation=1, ceil_mode=False)\n",
      "  (linear1): Linear(in_features=200, out_features=500, bias=True)\n",
      "  (linear2): Linear(in_features=500, out_features=3, bias=True)\n",
      "  (dp1): Dropout(p=0.8)\n",
      ")\n"
     ]
    },
    {
     "name": "stderr",
     "output_type": "stream",
     "text": [
      "/home/cvh255/pyenv/py3.6.3/lib/python3.6/site-packages/ipykernel_launcher.py:38: UserWarning: invalid index of a 0-dim tensor. This will be an error in PyTorch 0.5. Use tensor.item() to convert a 0-dim tensor to a Python number\n"
     ]
    },
    {
     "name": "stdout",
     "output_type": "stream",
     "text": [
      "Epoch: 0, Phase: train, epoch loss: 0.8984, accuracy: 57.6820\n",
      "Epoch: 0, Phase: validate, epoch loss: 0.8606, accuracy: 60.5000\n"
     ]
    },
    {
     "name": "stderr",
     "output_type": "stream",
     "text": [
      "/home/cvh255/pyenv/py3.6.3/lib/python3.6/site-packages/torch/serialization.py:241: UserWarning: Couldn't retrieve source code for container of type CNN. It won't be checked for correctness upon loading.\n",
      "  \"type \" + obj.__name__ + \". It won't be checked \"\n"
     ]
    },
    {
     "name": "stdout",
     "output_type": "stream",
     "text": [
      "Epoch: 1, Phase: train, epoch loss: 0.7743, accuracy: 65.8170\n",
      "Epoch: 1, Phase: validate, epoch loss: 0.8212, accuracy: 64.1000\n",
      "Epoch: 2, Phase: train, epoch loss: 0.6853, accuracy: 70.6450\n",
      "Epoch: 2, Phase: validate, epoch loss: 0.8291, accuracy: 63.7000\n",
      "Epoch: 3, Phase: train, epoch loss: 0.5789, accuracy: 75.9340\n",
      "Epoch: 3, Phase: validate, epoch loss: 0.8797, accuracy: 62.8000\n",
      "Epoch: 4, Phase: train, epoch loss: 0.4572, accuracy: 81.7150\n",
      "Epoch: 4, Phase: validate, epoch loss: 0.9621, accuracy: 63.8000\n",
      "Epoch: 5, Phase: train, epoch loss: 0.3441, accuracy: 86.6900\n",
      "Epoch: 5, Phase: validate, epoch loss: 1.1767, accuracy: 63.6000\n",
      "Epoch: 6, Phase: train, epoch loss: 0.2621, accuracy: 90.0300\n",
      "Epoch: 6, Phase: validate, epoch loss: 1.5239, accuracy: 62.8000\n",
      "Epoch: 7, Phase: train, epoch loss: 0.2046, accuracy: 92.4250\n",
      "Epoch: 7, Phase: validate, epoch loss: 1.5853, accuracy: 63.2000\n",
      "Epoch: 8, Phase: train, epoch loss: 0.1669, accuracy: 93.7690\n",
      "Epoch: 8, Phase: validate, epoch loss: 1.6922, accuracy: 63.8000\n",
      "Epoch: 9, Phase: train, epoch loss: 0.1410, accuracy: 94.8200\n",
      "Epoch: 9, Phase: validate, epoch loss: 1.9076, accuracy: 63.4000\n",
      "Best val dice loss: 0.821218, Best Accuracy: 64.100000\n"
     ]
    }
   ],
   "source": [
    "model = CNN(300, 3, words_to_load+2,600,100).cuda()\n",
    "criterion = torch.nn.CrossEntropyLoss()  \n",
    "optimizer = torch.optim.Adam(model.parameters(), lr = 0.0005)\n",
    "print(model)\n",
    "\n",
    "m_save, loss_hists,acc_hist = training(model,criterion,optimizer,\"model_cnn4\",10)"
   ]
  },
  {
   "cell_type": "code",
   "execution_count": 50,
   "metadata": {},
   "outputs": [
    {
     "name": "stdout",
     "output_type": "stream",
     "text": [
      "31303303\n"
     ]
    },
    {
     "data": {
      "image/png": "[encoded data removed]",
      "text/plain": [
       "<matplotlib.figure.Figure at 0x2b9de5430b38>"
      ]
     },
     "metadata": {},
     "output_type": "display_data"
    },
    {
     "data": {
      "image/png": "[encoded data removed]",
      "text/plain": [
       "<matplotlib.figure.Figure at 0x2b9de582f748>"
      ]
     },
     "metadata": {},
     "output_type": "display_data"
    }
   ],
   "source": [
    "print(count_parameters(model))\n",
    "plt.plot(loss_hists['train'],label=\"train loss\")\n",
    "plt.plot(loss_hists['validate'],label=\"val loss\")\n",
    "plt.legend()\n",
    "plt.show()\n",
    "\n",
    "plt.plot(acc_hist['train'],label=\"train acc\")\n",
    "plt.plot(acc_hist['validate'],label=\"val acc\")\n",
    "plt.legend()\n",
    "plt.show()"
   ]
  },
  {
   "cell_type": "markdown",
   "metadata": {},
   "source": [
    "## kernel=5, feature_maps=300, n_channels2=200"
   ]
  },
  {
   "cell_type": "code",
   "execution_count": 51,
   "metadata": {},
   "outputs": [
    {
     "name": "stdout",
     "output_type": "stream",
     "text": [
      "CNN(\n",
      "  (embedding): Embedding(100002, 300, padding_idx=0)\n",
      "  (conv1): Conv2d(1, 300, kernel_size=(5, 300), stride=(1, 1))\n",
      "  (conv2): Conv2d(300, 200, kernel_size=(5, 1), stride=(1, 1))\n",
      "  (max1): MaxPool2d(kernel_size=(10, 1), stride=(10, 1), padding=0, dilation=1, ceil_mode=False)\n",
      "  (linear1): Linear(in_features=400, out_features=500, bias=True)\n",
      "  (linear2): Linear(in_features=500, out_features=3, bias=True)\n",
      "  (dp1): Dropout(p=0.8)\n",
      ")\n"
     ]
    },
    {
     "name": "stderr",
     "output_type": "stream",
     "text": [
      "/home/cvh255/pyenv/py3.6.3/lib/python3.6/site-packages/ipykernel_launcher.py:38: UserWarning: invalid index of a 0-dim tensor. This will be an error in PyTorch 0.5. Use tensor.item() to convert a 0-dim tensor to a Python number\n"
     ]
    },
    {
     "name": "stdout",
     "output_type": "stream",
     "text": [
      "Epoch: 0, Phase: train, epoch loss: 0.8974, accuracy: 57.7920\n",
      "Epoch: 0, Phase: validate, epoch loss: 0.8472, accuracy: 61.6000\n"
     ]
    },
    {
     "name": "stderr",
     "output_type": "stream",
     "text": [
      "/home/cvh255/pyenv/py3.6.3/lib/python3.6/site-packages/torch/serialization.py:241: UserWarning: Couldn't retrieve source code for container of type CNN. It won't be checked for correctness upon loading.\n",
      "  \"type \" + obj.__name__ + \". It won't be checked \"\n"
     ]
    },
    {
     "name": "stdout",
     "output_type": "stream",
     "text": [
      "Epoch: 1, Phase: train, epoch loss: 0.7741, accuracy: 65.8050\n",
      "Epoch: 1, Phase: validate, epoch loss: 0.8183, accuracy: 63.3000\n",
      "Epoch: 2, Phase: train, epoch loss: 0.6864, accuracy: 70.6400\n",
      "Epoch: 2, Phase: validate, epoch loss: 0.8154, accuracy: 64.0000\n",
      "Epoch: 3, Phase: train, epoch loss: 0.5842, accuracy: 75.5520\n",
      "Epoch: 3, Phase: validate, epoch loss: 0.8899, accuracy: 63.9000\n",
      "Epoch: 4, Phase: train, epoch loss: 0.4696, accuracy: 81.0720\n",
      "Epoch: 4, Phase: validate, epoch loss: 1.0037, accuracy: 61.3000\n",
      "Epoch: 5, Phase: train, epoch loss: 0.3607, accuracy: 85.6920\n",
      "Epoch: 5, Phase: validate, epoch loss: 1.2337, accuracy: 61.3000\n",
      "Epoch: 6, Phase: train, epoch loss: 0.2762, accuracy: 89.4330\n",
      "Epoch: 6, Phase: validate, epoch loss: 1.4165, accuracy: 62.3000\n",
      "Epoch: 7, Phase: train, epoch loss: 0.2185, accuracy: 91.6510\n",
      "Epoch: 7, Phase: validate, epoch loss: 1.6499, accuracy: 61.2000\n",
      "Epoch: 8, Phase: train, epoch loss: 0.1746, accuracy: 93.5000\n",
      "Epoch: 8, Phase: validate, epoch loss: 1.8992, accuracy: 61.8000\n",
      "Epoch: 9, Phase: train, epoch loss: 0.1483, accuracy: 94.4600\n",
      "Epoch: 9, Phase: validate, epoch loss: 2.0551, accuracy: 61.2000\n",
      "Best val dice loss: 0.815374, Best Accuracy: 64.000000\n"
     ]
    }
   ],
   "source": [
    "model = CNN(300, 3, words_to_load+2,300, 200).cuda()\n",
    "criterion = torch.nn.CrossEntropyLoss()  \n",
    "optimizer = torch.optim.Adam(model.parameters(), lr = 0.0005)\n",
    "print(model)\n",
    "\n",
    "m_save, loss_hists,acc_hist = training(model,criterion,optimizer,\"model_cnn5\",10)"
   ]
  },
  {
   "cell_type": "code",
   "execution_count": 52,
   "metadata": {},
   "outputs": [
    {
     "name": "stdout",
     "output_type": "stream",
     "text": [
      "30953103\n"
     ]
    },
    {
     "data": {
      "image/png": "[encoded data removed]",
      "text/plain": [
       "<matplotlib.figure.Figure at 0x2b9de581bf60>"
      ]
     },
     "metadata": {},
     "output_type": "display_data"
    },
    {
     "data": {
      "image/png": "[encoded data removed]",
      "text/plain": [
       "<matplotlib.figure.Figure at 0x2b9de59ed400>"
      ]
     },
     "metadata": {},
     "output_type": "display_data"
    }
   ],
   "source": [
    "print(count_parameters(model))\n",
    "import matplotlib.pyplot as plt\n",
    "plt.plot(loss_hists['train'],label=\"train loss\")\n",
    "plt.plot(loss_hists['validate'],label=\"val loss\")\n",
    "plt.legend()\n",
    "plt.show()\n",
    "\n",
    "plt.plot(acc_hist['train'],label=\"train acc\")\n",
    "plt.plot(acc_hist['validate'],label=\"val acc\")\n",
    "plt.legend()\n",
    "plt.show()"
   ]
  },
  {
   "cell_type": "markdown",
   "metadata": {},
   "source": [
    "## kernel=5, feature_maps=300, n_channels2=300"
   ]
  },
  {
   "cell_type": "code",
   "execution_count": 53,
   "metadata": {},
   "outputs": [
    {
     "name": "stdout",
     "output_type": "stream",
     "text": [
      "CNN(\n",
      "  (embedding): Embedding(100002, 300, padding_idx=0)\n",
      "  (conv1): Conv2d(1, 300, kernel_size=(5, 300), stride=(1, 1))\n",
      "  (conv2): Conv2d(300, 300, kernel_size=(5, 1), stride=(1, 1))\n",
      "  (max1): MaxPool2d(kernel_size=(10, 1), stride=(10, 1), padding=0, dilation=1, ceil_mode=False)\n",
      "  (linear1): Linear(in_features=600, out_features=500, bias=True)\n",
      "  (linear2): Linear(in_features=500, out_features=3, bias=True)\n",
      "  (dp1): Dropout(p=0.8)\n",
      ")\n"
     ]
    },
    {
     "name": "stderr",
     "output_type": "stream",
     "text": [
      "/home/cvh255/pyenv/py3.6.3/lib/python3.6/site-packages/ipykernel_launcher.py:38: UserWarning: invalid index of a 0-dim tensor. This will be an error in PyTorch 0.5. Use tensor.item() to convert a 0-dim tensor to a Python number\n"
     ]
    },
    {
     "name": "stdout",
     "output_type": "stream",
     "text": [
      "Epoch: 0, Phase: train, epoch loss: 0.8959, accuracy: 57.9550\n",
      "Epoch: 0, Phase: validate, epoch loss: 0.8490, accuracy: 61.2000\n"
     ]
    },
    {
     "name": "stderr",
     "output_type": "stream",
     "text": [
      "/home/cvh255/pyenv/py3.6.3/lib/python3.6/site-packages/torch/serialization.py:241: UserWarning: Couldn't retrieve source code for container of type CNN. It won't be checked for correctness upon loading.\n",
      "  \"type \" + obj.__name__ + \". It won't be checked \"\n"
     ]
    },
    {
     "name": "stdout",
     "output_type": "stream",
     "text": [
      "Epoch: 1, Phase: train, epoch loss: 0.7720, accuracy: 65.9210\n",
      "Epoch: 1, Phase: validate, epoch loss: 0.8090, accuracy: 65.4000\n",
      "Epoch: 2, Phase: train, epoch loss: 0.6787, accuracy: 70.9610\n",
      "Epoch: 2, Phase: validate, epoch loss: 0.8142, accuracy: 65.0000\n",
      "Epoch: 3, Phase: train, epoch loss: 0.5711, accuracy: 76.2690\n",
      "Epoch: 3, Phase: validate, epoch loss: 0.9211, accuracy: 63.4000\n",
      "Epoch: 4, Phase: train, epoch loss: 0.4494, accuracy: 81.9270\n",
      "Epoch: 4, Phase: validate, epoch loss: 1.0465, accuracy: 62.5000\n",
      "Epoch: 5, Phase: train, epoch loss: 0.3365, accuracy: 86.8230\n",
      "Epoch: 5, Phase: validate, epoch loss: 1.3507, accuracy: 60.6000\n",
      "Epoch: 6, Phase: train, epoch loss: 0.2555, accuracy: 90.2050\n",
      "Epoch: 6, Phase: validate, epoch loss: 1.5412, accuracy: 62.2000\n",
      "Epoch: 7, Phase: train, epoch loss: 0.2035, accuracy: 92.2880\n",
      "Epoch: 7, Phase: validate, epoch loss: 1.9435, accuracy: 59.8000\n",
      "Epoch: 8, Phase: train, epoch loss: 0.1638, accuracy: 93.8430\n",
      "Epoch: 8, Phase: validate, epoch loss: 2.1046, accuracy: 59.7000\n",
      "Epoch: 9, Phase: train, epoch loss: 0.1394, accuracy: 94.7810\n",
      "Epoch: 9, Phase: validate, epoch loss: 2.1224, accuracy: 61.4000\n",
      "Best val dice loss: 0.809049, Best Accuracy: 65.400000\n"
     ]
    }
   ],
   "source": [
    "model = CNN(300, 3, words_to_load+2,300, 300).cuda()\n",
    "criterion = torch.nn.CrossEntropyLoss()  \n",
    "optimizer = torch.optim.Adam(model.parameters(), lr = 0.0005)\n",
    "print(model)\n",
    "\n",
    "m_save, loss_hists,acc_hist = training(model,criterion,optimizer,\"model_cnn6\",10)"
   ]
  },
  {
   "cell_type": "code",
   "execution_count": 54,
   "metadata": {},
   "outputs": [
    {
     "name": "stdout",
     "output_type": "stream",
     "text": [
      "31203203\n"
     ]
    },
    {
     "data": {
      "image/png": "[encoded data removed]",
      "text/plain": [
       "<matplotlib.figure.Figure at 0x2b9de59b0eb8>"
      ]
     },
     "metadata": {},
     "output_type": "display_data"
    },
    {
     "data": {
      "image/png": "[encoded data removed]",
      "text/plain": [
       "<matplotlib.figure.Figure at 0x2b9de5acc2e8>"
      ]
     },
     "metadata": {},
     "output_type": "display_data"
    }
   ],
   "source": [
    "print(count_parameters(model))\n",
    "import matplotlib.pyplot as plt\n",
    "plt.plot(loss_hists['train'],label=\"train loss\")\n",
    "plt.plot(loss_hists['validate'],label=\"val loss\")\n",
    "plt.legend()\n",
    "plt.show()\n",
    "\n",
    "plt.plot(acc_hist['train'],label=\"train acc\")\n",
    "plt.plot(acc_hist['validate'],label=\"val acc\")\n",
    "plt.legend()\n",
    "plt.show()"
   ]
  },
  {
   "cell_type": "markdown",
   "metadata": {},
   "source": [
    "## kernel=5, feature_maps=200, n_channels2=100, weight_decay = 0.00001"
   ]
  },
  {
   "cell_type": "code",
   "execution_count": 55,
   "metadata": {},
   "outputs": [
    {
     "name": "stdout",
     "output_type": "stream",
     "text": [
      "CNN(\n",
      "  (embedding): Embedding(100002, 300, padding_idx=0)\n",
      "  (conv1): Conv2d(1, 200, kernel_size=(5, 300), stride=(1, 1))\n",
      "  (conv2): Conv2d(200, 100, kernel_size=(5, 1), stride=(1, 1))\n",
      "  (max1): MaxPool2d(kernel_size=(10, 1), stride=(10, 1), padding=0, dilation=1, ceil_mode=False)\n",
      "  (linear1): Linear(in_features=200, out_features=500, bias=True)\n",
      "  (linear2): Linear(in_features=500, out_features=3, bias=True)\n",
      "  (dp1): Dropout(p=0.8)\n",
      ")\n"
     ]
    },
    {
     "name": "stderr",
     "output_type": "stream",
     "text": [
      "/home/cvh255/pyenv/py3.6.3/lib/python3.6/site-packages/ipykernel_launcher.py:38: UserWarning: invalid index of a 0-dim tensor. This will be an error in PyTorch 0.5. Use tensor.item() to convert a 0-dim tensor to a Python number\n"
     ]
    },
    {
     "name": "stdout",
     "output_type": "stream",
     "text": [
      "Epoch: 0, Phase: train, epoch loss: 0.8993, accuracy: 57.5680\n",
      "Epoch: 0, Phase: validate, epoch loss: 0.8535, accuracy: 61.5000\n"
     ]
    },
    {
     "name": "stderr",
     "output_type": "stream",
     "text": [
      "/home/cvh255/pyenv/py3.6.3/lib/python3.6/site-packages/torch/serialization.py:241: UserWarning: Couldn't retrieve source code for container of type CNN. It won't be checked for correctness upon loading.\n",
      "  \"type \" + obj.__name__ + \". It won't be checked \"\n"
     ]
    },
    {
     "name": "stdout",
     "output_type": "stream",
     "text": [
      "Epoch: 1, Phase: train, epoch loss: 0.7890, accuracy: 64.9610\n",
      "Epoch: 1, Phase: validate, epoch loss: 0.8068, accuracy: 62.7000\n",
      "Epoch: 2, Phase: train, epoch loss: 0.7287, accuracy: 68.4110\n",
      "Epoch: 2, Phase: validate, epoch loss: 0.8176, accuracy: 62.7000\n",
      "Epoch: 3, Phase: train, epoch loss: 0.6773, accuracy: 71.1970\n",
      "Epoch: 3, Phase: validate, epoch loss: 0.8141, accuracy: 63.5000\n",
      "Epoch: 4, Phase: train, epoch loss: 0.6256, accuracy: 73.5930\n",
      "Epoch: 4, Phase: validate, epoch loss: 0.8187, accuracy: 65.9000\n",
      "Epoch: 5, Phase: train, epoch loss: 0.5707, accuracy: 76.3720\n",
      "Epoch: 5, Phase: validate, epoch loss: 0.8847, accuracy: 65.1000\n",
      "Epoch: 6, Phase: train, epoch loss: 0.5126, accuracy: 78.9680\n",
      "Epoch: 6, Phase: validate, epoch loss: 0.8947, accuracy: 64.0000\n",
      "Epoch: 7, Phase: train, epoch loss: 0.4517, accuracy: 81.8360\n",
      "Epoch: 7, Phase: validate, epoch loss: 1.0152, accuracy: 63.9000\n",
      "Epoch: 8, Phase: train, epoch loss: 0.3966, accuracy: 84.1800\n",
      "Epoch: 8, Phase: validate, epoch loss: 1.1075, accuracy: 62.3000\n",
      "Epoch: 9, Phase: train, epoch loss: 0.3442, accuracy: 86.4450\n",
      "Epoch: 9, Phase: validate, epoch loss: 1.2289, accuracy: 63.0000\n",
      "Best val dice loss: 0.818669, Best Accuracy: 65.900000\n"
     ]
    }
   ],
   "source": [
    "model = CNN(300, 3, words_to_load+2,200,100).cuda()\n",
    "criterion = torch.nn.CrossEntropyLoss()  \n",
    "optimizer = torch.optim.Adam(model.parameters(), lr = 0.0005, weight_decay=0.00001)\n",
    "print(model)\n",
    "\n",
    "m_save, loss_hists,acc_hist = training(model,criterion,optimizer,\"model_cnn7\",10)"
   ]
  },
  {
   "cell_type": "markdown",
   "metadata": {},
   "source": [
    "## kernel=5, feature_maps=300, n_channels2=300,weight_decay=0.00001"
   ]
  },
  {
   "cell_type": "code",
   "execution_count": 56,
   "metadata": {},
   "outputs": [
    {
     "name": "stdout",
     "output_type": "stream",
     "text": [
      "CNN(\n",
      "  (embedding): Embedding(100002, 300, padding_idx=0)\n",
      "  (conv1): Conv2d(1, 300, kernel_size=(5, 300), stride=(1, 1))\n",
      "  (conv2): Conv2d(300, 300, kernel_size=(5, 1), stride=(1, 1))\n",
      "  (max1): MaxPool2d(kernel_size=(10, 1), stride=(10, 1), padding=0, dilation=1, ceil_mode=False)\n",
      "  (linear1): Linear(in_features=600, out_features=500, bias=True)\n",
      "  (linear2): Linear(in_features=500, out_features=3, bias=True)\n",
      "  (dp1): Dropout(p=0.8)\n",
      ")\n"
     ]
    },
    {
     "name": "stderr",
     "output_type": "stream",
     "text": [
      "/home/cvh255/pyenv/py3.6.3/lib/python3.6/site-packages/ipykernel_launcher.py:38: UserWarning: invalid index of a 0-dim tensor. This will be an error in PyTorch 0.5. Use tensor.item() to convert a 0-dim tensor to a Python number\n"
     ]
    },
    {
     "name": "stdout",
     "output_type": "stream",
     "text": [
      "Epoch: 0, Phase: train, epoch loss: 0.8964, accuracy: 57.8500\n",
      "Epoch: 0, Phase: validate, epoch loss: 0.8415, accuracy: 61.9000\n"
     ]
    },
    {
     "name": "stderr",
     "output_type": "stream",
     "text": [
      "/home/cvh255/pyenv/py3.6.3/lib/python3.6/site-packages/torch/serialization.py:241: UserWarning: Couldn't retrieve source code for container of type CNN. It won't be checked for correctness upon loading.\n",
      "  \"type \" + obj.__name__ + \". It won't be checked \"\n"
     ]
    },
    {
     "name": "stdout",
     "output_type": "stream",
     "text": [
      "Epoch: 1, Phase: train, epoch loss: 0.7835, accuracy: 65.4670\n",
      "Epoch: 1, Phase: validate, epoch loss: 0.8044, accuracy: 65.7000\n",
      "Epoch: 2, Phase: train, epoch loss: 0.7237, accuracy: 68.6620\n",
      "Epoch: 2, Phase: validate, epoch loss: 0.7943, accuracy: 64.9000\n",
      "Epoch: 3, Phase: train, epoch loss: 0.6686, accuracy: 71.5950\n",
      "Epoch: 3, Phase: validate, epoch loss: 0.8158, accuracy: 64.4000\n",
      "Epoch: 4, Phase: train, epoch loss: 0.6092, accuracy: 74.4680\n",
      "Epoch: 4, Phase: validate, epoch loss: 0.8402, accuracy: 65.1000\n",
      "Epoch: 5, Phase: train, epoch loss: 0.5427, accuracy: 77.8100\n",
      "Epoch: 5, Phase: validate, epoch loss: 0.8706, accuracy: 64.2000\n",
      "Epoch: 6, Phase: train, epoch loss: 0.4714, accuracy: 80.9430\n",
      "Epoch: 6, Phase: validate, epoch loss: 0.9678, accuracy: 63.2000\n",
      "Epoch: 7, Phase: train, epoch loss: 0.4024, accuracy: 83.9790\n",
      "Epoch: 7, Phase: validate, epoch loss: 1.1284, accuracy: 61.3000\n",
      "Epoch: 8, Phase: train, epoch loss: 0.3395, accuracy: 86.6310\n",
      "Epoch: 8, Phase: validate, epoch loss: 1.1862, accuracy: 63.4000\n",
      "Epoch: 9, Phase: train, epoch loss: 0.2902, accuracy: 88.6310\n",
      "Epoch: 9, Phase: validate, epoch loss: 1.3520, accuracy: 63.1000\n",
      "Best val dice loss: 0.804449, Best Accuracy: 65.700000\n"
     ]
    }
   ],
   "source": [
    "model = CNN(300, 3, words_to_load+2,300, 300).cuda()\n",
    "criterion = torch.nn.CrossEntropyLoss()  \n",
    "optimizer = torch.optim.Adam(model.parameters(), lr = 0.0005,weight_decay=0.00001)\n",
    "print(model)\n",
    "\n",
    "m_save, loss_hists,acc_hist = training(model,criterion,optimizer,\"model_cnn6\",10)"
   ]
  },
  {
   "cell_type": "code",
   "execution_count": 57,
   "metadata": {},
   "outputs": [
    {
     "name": "stdout",
     "output_type": "stream",
     "text": [
      "31203203\n"
     ]
    },
    {
     "data": {
      "image/png": "[encoded data removed]",
      "text/plain": [
       "<matplotlib.figure.Figure at 0x2b9de5ca3438>"
      ]
     },
     "metadata": {},
     "output_type": "display_data"
    },
    {
     "data": {
      "image/png": "[encoded data removed]",
      "text/plain": [
       "<matplotlib.figure.Figure at 0x2b9de53f08d0>"
      ]
     },
     "metadata": {},
     "output_type": "display_data"
    }
   ],
   "source": [
    "print(count_parameters(model))\n",
    "import matplotlib.pyplot as plt\n",
    "plt.plot(loss_hists['train'],label=\"train loss\")\n",
    "plt.plot(loss_hists['validate'],label=\"val loss\")\n",
    "plt.legend()\n",
    "plt.show()\n",
    "\n",
    "plt.plot(acc_hist['train'],label=\"train acc\")\n",
    "plt.plot(acc_hist['validate'],label=\"val acc\")\n",
    "plt.legend()\n",
    "plt.show()"
   ]
  },
  {
   "cell_type": "markdown",
   "metadata": {},
   "source": [
    "## kernel=5, feature_maps=200, n_channels2=100,weight_decay=0.00005"
   ]
  },
  {
   "cell_type": "code",
   "execution_count": 58,
   "metadata": {},
   "outputs": [
    {
     "name": "stdout",
     "output_type": "stream",
     "text": [
      "CNN(\n",
      "  (embedding): Embedding(100002, 300, padding_idx=0)\n",
      "  (conv1): Conv2d(1, 200, kernel_size=(5, 300), stride=(1, 1))\n",
      "  (conv2): Conv2d(200, 100, kernel_size=(5, 1), stride=(1, 1))\n",
      "  (max1): MaxPool2d(kernel_size=(10, 1), stride=(10, 1), padding=0, dilation=1, ceil_mode=False)\n",
      "  (linear1): Linear(in_features=200, out_features=500, bias=True)\n",
      "  (linear2): Linear(in_features=500, out_features=3, bias=True)\n",
      "  (dp1): Dropout(p=0.8)\n",
      ")\n"
     ]
    },
    {
     "name": "stderr",
     "output_type": "stream",
     "text": [
      "/home/cvh255/pyenv/py3.6.3/lib/python3.6/site-packages/ipykernel_launcher.py:38: UserWarning: invalid index of a 0-dim tensor. This will be an error in PyTorch 0.5. Use tensor.item() to convert a 0-dim tensor to a Python number\n"
     ]
    },
    {
     "name": "stdout",
     "output_type": "stream",
     "text": [
      "Epoch: 0, Phase: train, epoch loss: 0.9086, accuracy: 57.0860\n",
      "Epoch: 0, Phase: validate, epoch loss: 0.8498, accuracy: 61.3000\n"
     ]
    },
    {
     "name": "stderr",
     "output_type": "stream",
     "text": [
      "/home/cvh255/pyenv/py3.6.3/lib/python3.6/site-packages/torch/serialization.py:241: UserWarning: Couldn't retrieve source code for container of type CNN. It won't be checked for correctness upon loading.\n",
      "  \"type \" + obj.__name__ + \". It won't be checked \"\n"
     ]
    },
    {
     "name": "stdout",
     "output_type": "stream",
     "text": [
      "Epoch: 1, Phase: train, epoch loss: 0.8095, accuracy: 63.6240\n",
      "Epoch: 1, Phase: validate, epoch loss: 0.8248, accuracy: 61.2000\n",
      "Epoch: 2, Phase: train, epoch loss: 0.7661, accuracy: 66.1390\n",
      "Epoch: 2, Phase: validate, epoch loss: 0.7960, accuracy: 65.2000\n",
      "Epoch: 3, Phase: train, epoch loss: 0.7370, accuracy: 67.8730\n",
      "Epoch: 3, Phase: validate, epoch loss: 0.8063, accuracy: 65.2000\n",
      "Epoch: 4, Phase: train, epoch loss: 0.7095, accuracy: 69.3570\n",
      "Epoch: 4, Phase: validate, epoch loss: 0.8215, accuracy: 64.5000\n",
      "Epoch: 5, Phase: train, epoch loss: 0.6796, accuracy: 70.8020\n",
      "Epoch: 5, Phase: validate, epoch loss: 0.8504, accuracy: 62.8000\n",
      "Epoch: 6, Phase: train, epoch loss: 0.6493, accuracy: 72.4850\n",
      "Epoch: 6, Phase: validate, epoch loss: 0.8103, accuracy: 65.1000\n",
      "Epoch: 7, Phase: train, epoch loss: 0.6153, accuracy: 74.2300\n",
      "Epoch: 7, Phase: validate, epoch loss: 0.8270, accuracy: 63.1000\n",
      "Epoch: 9, Phase: train, epoch loss: 0.5366, accuracy: 77.8870\n",
      "Epoch: 9, Phase: validate, epoch loss: 0.8519, accuracy: 63.3000\n",
      "Best val dice loss: 0.796035, Best Accuracy: 65.200000\n"
     ]
    }
   ],
   "source": [
    "model = CNN(300, 3, words_to_load+2,200,100).cuda()\n",
    "criterion = torch.nn.CrossEntropyLoss()  \n",
    "optimizer = torch.optim.Adam(model.parameters(), lr = 0.0005, weight_decay=0.00005)\n",
    "print(model)\n",
    "\n",
    "m_save, loss_hists,acc_hist = training(model,criterion,optimizer,\"model_cnn8\",10)"
   ]
  },
  {
   "cell_type": "code",
   "execution_count": 59,
   "metadata": {},
   "outputs": [
    {
     "name": "stdout",
     "output_type": "stream",
     "text": [
      "30502903\n"
     ]
    },
    {
     "data": {
      "image/png": "[encoded data removed]",
      "text/plain": [
       "<matplotlib.figure.Figure at 0x2b9de5b69780>"
      ]
     },
     "metadata": {},
     "output_type": "display_data"
    },
    {
     "data": {
      "image/png": "[encoded data removed]",
      "text/plain": [
       "<matplotlib.figure.Figure at 0x2b9de5d21c88>"
      ]
     },
     "metadata": {},
     "output_type": "display_data"
    }
   ],
   "source": [
    "print(count_parameters(model))\n",
    "import matplotlib.pyplot as plt\n",
    "plt.plot(loss_hists['train'],label=\"train loss\")\n",
    "plt.plot(loss_hists['validate'],label=\"val loss\")\n",
    "plt.legend()\n",
    "plt.show()\n",
    "\n",
    "plt.plot(acc_hist['train'],label=\"train acc\")\n",
    "plt.plot(acc_hist['validate'],label=\"val acc\")\n",
    "plt.legend()\n",
    "plt.show()"
   ]
  },
  {
   "cell_type": "code",
   "execution_count": 64,
   "metadata": {},
   "outputs": [],
   "source": [
    "class CNN2(nn.Module):\n",
    "    def __init__(self, emb_size, num_classes, vocab_size,n_feat,n_channel,dp):\n",
    "        super(CNN2, self).__init__()\n",
    "        self.embedding = nn.Embedding(vocab_size, emb_size, padding_idx = PAD_IDX)\n",
    "        self.embedding.from_pretrained(torch.from_numpy(loaded_embeddings), freeze=False)\n",
    "        self.n_channel =n_channel\n",
    "        self.conv1 = nn.Conv2d(1,n_feat,kernel_size=(3,300),stride=(1,1))\n",
    "        self.conv2 = nn.Conv2d(n_feat,self.n_channel,kernel_size=(5,1),stride=(1,1))\n",
    "        \n",
    "        self.max1 = nn.MaxPool2d(kernel_size=(10,1))\n",
    "        self.linear1 = nn.Linear(2*self.n_channel, 500)\n",
    "        self.linear2 = nn.Linear(500,num_classes)\n",
    "        self.dp1 = nn.Dropout(p=dp)\n",
    "\n",
    "    def forward(self, data_s1, length1, data_s2, length2):\n",
    "\n",
    "        embed1 = torch.unsqueeze(self.embedding(data_s1),dim=1)\n",
    "        embed2 = torch.unsqueeze(self.embedding(data_s2),dim=1)\n",
    "        \n",
    "        out1 = F.relu(self.conv1(embed1))\n",
    "        out2 = F.relu(self.conv1(embed2))\n",
    "        \n",
    "        out1 = F.relu(self.conv2(out1))\n",
    "        out2 = F.relu(self.conv2(out2))\n",
    "\n",
    "#         print(\"out\",out1.size())\n",
    "        mout1 = self.max1(out1)\n",
    "        mout2 = self.max1(out2)\n",
    "#         print(\"mout\",mout1.size())\n",
    "        \n",
    "        sum1 = torch.squeeze(torch.sum(mout1,dim=2))\n",
    "        sum2 = torch.squeeze(torch.sum(mout2,dim=2))\n",
    "#         print(\"sum\",sum1.size())\n",
    "#         combined_out = torch.squeeze(torch.cat([mout1, mout2], dim=1))\n",
    "        combined_out = torch.cat([sum1,sum2],dim=1)\n",
    "#         print(\"comb\",combined_out.size())\n",
    "        \n",
    "        logits = F.relu(self.linear1(self.dp1(combined_out)))\n",
    "        res = self.linear2(logits)\n",
    "        \n",
    "        return res\n",
    "\n",
    "\n"
   ]
  },
  {
   "cell_type": "markdown",
   "metadata": {},
   "source": [
    "## kernel=3, feature_maps=200, n_channels2=100,weight_decay=0.00001"
   ]
  },
  {
   "cell_type": "code",
   "execution_count": 62,
   "metadata": {},
   "outputs": [
    {
     "name": "stdout",
     "output_type": "stream",
     "text": [
      "CNN2(\n",
      "  (embedding): Embedding(100002, 300, padding_idx=0)\n",
      "  (conv1): Conv2d(1, 200, kernel_size=(3, 300), stride=(1, 1))\n",
      "  (conv2): Conv2d(200, 100, kernel_size=(5, 1), stride=(1, 1))\n",
      "  (max1): MaxPool2d(kernel_size=(10, 1), stride=(10, 1), padding=0, dilation=1, ceil_mode=False)\n",
      "  (linear1): Linear(in_features=200, out_features=500, bias=True)\n",
      "  (linear2): Linear(in_features=500, out_features=3, bias=True)\n",
      "  (dp1): Dropout(p=0.8)\n",
      ")\n"
     ]
    },
    {
     "name": "stderr",
     "output_type": "stream",
     "text": [
      "/home/cvh255/pyenv/py3.6.3/lib/python3.6/site-packages/ipykernel_launcher.py:38: UserWarning: invalid index of a 0-dim tensor. This will be an error in PyTorch 0.5. Use tensor.item() to convert a 0-dim tensor to a Python number\n"
     ]
    },
    {
     "name": "stdout",
     "output_type": "stream",
     "text": [
      "Epoch: 0, Phase: train, epoch loss: 0.8961, accuracy: 57.7650\n",
      "Epoch: 0, Phase: validate, epoch loss: 0.8536, accuracy: 61.4000\n"
     ]
    },
    {
     "name": "stderr",
     "output_type": "stream",
     "text": [
      "/home/cvh255/pyenv/py3.6.3/lib/python3.6/site-packages/torch/serialization.py:241: UserWarning: Couldn't retrieve source code for container of type CNN2. It won't be checked for correctness upon loading.\n",
      "  \"type \" + obj.__name__ + \". It won't be checked \"\n"
     ]
    },
    {
     "name": "stdout",
     "output_type": "stream",
     "text": [
      "Epoch: 1, Phase: train, epoch loss: 0.7830, accuracy: 65.4830\n",
      "Epoch: 1, Phase: validate, epoch loss: 0.8036, accuracy: 65.2000\n",
      "Epoch: 2, Phase: train, epoch loss: 0.7228, accuracy: 68.8320\n",
      "Epoch: 2, Phase: validate, epoch loss: 0.7891, accuracy: 66.2000\n",
      "Epoch: 3, Phase: train, epoch loss: 0.6717, accuracy: 71.5790\n",
      "Epoch: 3, Phase: validate, epoch loss: 0.7897, accuracy: 65.4000\n",
      "Epoch: 4, Phase: train, epoch loss: 0.6253, accuracy: 73.8680\n",
      "Epoch: 4, Phase: validate, epoch loss: 0.8080, accuracy: 64.6000\n",
      "Epoch: 5, Phase: train, epoch loss: 0.5807, accuracy: 76.1470\n",
      "Epoch: 5, Phase: validate, epoch loss: 0.8020, accuracy: 66.8000\n",
      "Epoch: 6, Phase: train, epoch loss: 0.5317, accuracy: 78.3650\n",
      "Epoch: 6, Phase: validate, epoch loss: 0.8531, accuracy: 64.9000\n",
      "Epoch: 7, Phase: train, epoch loss: 0.4809, accuracy: 80.6600\n",
      "Epoch: 7, Phase: validate, epoch loss: 0.9020, accuracy: 65.5000\n",
      "Epoch: 8, Phase: train, epoch loss: 0.4285, accuracy: 82.9440\n",
      "Epoch: 8, Phase: validate, epoch loss: 1.0134, accuracy: 63.3000\n",
      "Epoch: 9, Phase: train, epoch loss: 0.3787, accuracy: 85.0920\n",
      "Epoch: 9, Phase: validate, epoch loss: 1.0154, accuracy: 64.5000\n",
      "Best val dice loss: 0.801956, Best Accuracy: 66.800000\n"
     ]
    }
   ],
   "source": [
    "model = CNN2(300, 3, words_to_load+2,200,100,0).cuda()\n",
    "criterion = torch.nn.CrossEntropyLoss()  \n",
    "optimizer = torch.optim.Adam(model.parameters(), lr = 0.0005, weight_decay=0.00001)\n",
    "print(model)\n",
    "\n",
    "m_save, loss_hists,acc_hist = training(model,criterion,optimizer,\"model_cnn9\",10)"
   ]
  },
  {
   "cell_type": "code",
   "execution_count": 63,
   "metadata": {},
   "outputs": [
    {
     "name": "stdout",
     "output_type": "stream",
     "text": [
      "30382903\n"
     ]
    },
    {
     "data": {
      "image/png": "[encoded data removed]",
      "text/plain": [
       "<matplotlib.figure.Figure at 0x2b9de5923240>"
      ]
     },
     "metadata": {},
     "output_type": "display_data"
    },
    {
     "data": {
      "image/png": "[encoded data removed]",
      "text/plain": [
       "<matplotlib.figure.Figure at 0x2b9de5ee3240>"
      ]
     },
     "metadata": {},
     "output_type": "display_data"
    }
   ],
   "source": [
    "print(count_parameters(model))\n",
    "import matplotlib.pyplot as plt\n",
    "plt.plot(loss_hists['train'],label=\"train loss\")\n",
    "plt.plot(loss_hists['validate'],label=\"val loss\")\n",
    "plt.legend()\n",
    "plt.show()\n",
    "\n",
    "plt.plot(acc_hist['train'],label=\"train acc\")\n",
    "plt.plot(acc_hist['validate'],label=\"val acc\")\n",
    "plt.legend()\n",
    "plt.show()"
   ]
  },
  {
   "cell_type": "markdown",
   "metadata": {},
   "source": [
    "## kernel=3, feature_maps=200, n_channels2=100,drop_out =0.5"
   ]
  },
  {
   "cell_type": "code",
   "execution_count": 65,
   "metadata": {},
   "outputs": [
    {
     "name": "stdout",
     "output_type": "stream",
     "text": [
      "CNN2(\n",
      "  (embedding): Embedding(100002, 300, padding_idx=0)\n",
      "  (conv1): Conv2d(1, 200, kernel_size=(3, 300), stride=(1, 1))\n",
      "  (conv2): Conv2d(200, 100, kernel_size=(5, 1), stride=(1, 1))\n",
      "  (max1): MaxPool2d(kernel_size=(10, 1), stride=(10, 1), padding=0, dilation=1, ceil_mode=False)\n",
      "  (linear1): Linear(in_features=200, out_features=500, bias=True)\n",
      "  (linear2): Linear(in_features=500, out_features=3, bias=True)\n",
      "  (dp1): Dropout(p=0.5)\n",
      ")\n"
     ]
    },
    {
     "name": "stderr",
     "output_type": "stream",
     "text": [
      "/home/cvh255/pyenv/py3.6.3/lib/python3.6/site-packages/ipykernel_launcher.py:38: UserWarning: invalid index of a 0-dim tensor. This will be an error in PyTorch 0.5. Use tensor.item() to convert a 0-dim tensor to a Python number\n"
     ]
    },
    {
     "name": "stdout",
     "output_type": "stream",
     "text": [
      "Epoch: 0, Phase: train, epoch loss: 0.9322, accuracy: 55.5280\n",
      "Epoch: 0, Phase: validate, epoch loss: 0.8646, accuracy: 62.8000\n"
     ]
    },
    {
     "name": "stderr",
     "output_type": "stream",
     "text": [
      "/home/cvh255/pyenv/py3.6.3/lib/python3.6/site-packages/torch/serialization.py:241: UserWarning: Couldn't retrieve source code for container of type CNN2. It won't be checked for correctness upon loading.\n",
      "  \"type \" + obj.__name__ + \". It won't be checked \"\n"
     ]
    },
    {
     "name": "stdout",
     "output_type": "stream",
     "text": [
      "Epoch: 1, Phase: train, epoch loss: 0.8249, accuracy: 63.0950\n",
      "Epoch: 1, Phase: validate, epoch loss: 0.8173, accuracy: 64.3000\n",
      "Epoch: 2, Phase: train, epoch loss: 0.7724, accuracy: 66.1070\n",
      "Epoch: 2, Phase: validate, epoch loss: 0.8192, accuracy: 63.6000\n",
      "Epoch: 3, Phase: train, epoch loss: 0.7302, accuracy: 68.4840\n",
      "Epoch: 3, Phase: validate, epoch loss: 0.7998, accuracy: 65.9000\n",
      "Epoch: 4, Phase: train, epoch loss: 0.6909, accuracy: 70.6390\n",
      "Epoch: 4, Phase: validate, epoch loss: 0.7926, accuracy: 66.1000\n",
      "Epoch: 5, Phase: train, epoch loss: 0.6517, accuracy: 72.5370\n",
      "Epoch: 5, Phase: validate, epoch loss: 0.8053, accuracy: 65.1000\n",
      "Epoch: 6, Phase: train, epoch loss: 0.6125, accuracy: 74.4340\n",
      "Epoch: 6, Phase: validate, epoch loss: 0.8094, accuracy: 64.2000\n",
      "Epoch: 7, Phase: train, epoch loss: 0.5772, accuracy: 76.2300\n",
      "Epoch: 7, Phase: validate, epoch loss: 0.8225, accuracy: 65.7000\n",
      "Epoch: 8, Phase: train, epoch loss: 0.5404, accuracy: 77.9610\n",
      "Epoch: 8, Phase: validate, epoch loss: 0.8553, accuracy: 64.5000\n",
      "Epoch: 9, Phase: train, epoch loss: 0.5107, accuracy: 79.3610\n",
      "Epoch: 9, Phase: validate, epoch loss: 0.8625, accuracy: 64.0000\n",
      "Best val dice loss: 0.792558, Best Accuracy: 66.100000\n"
     ]
    }
   ],
   "source": [
    "model = CNN2(300, 3, words_to_load+2,200,100,0.5).cuda()\n",
    "criterion = torch.nn.CrossEntropyLoss()  \n",
    "optimizer = torch.optim.Adam(model.parameters(), lr = 0.0005)\n",
    "print(model)\n",
    "\n",
    "m_save, loss_hists,acc_hist = training(model,criterion,optimizer,\"model_cnn10\",10)"
   ]
  },
  {
   "cell_type": "code",
   "execution_count": 66,
   "metadata": {},
   "outputs": [
    {
     "name": "stdout",
     "output_type": "stream",
     "text": [
      "30382903\n"
     ]
    },
    {
     "data": {
      "image/png": "[encoded data removed]",
      "text/plain": [
       "<matplotlib.figure.Figure at 0x2b9de5e1c358>"
      ]
     },
     "metadata": {},
     "output_type": "display_data"
    },
    {
     "data": {
      "image/png": "[encoded data removed]",
      "text/plain": [
       "<matplotlib.figure.Figure at 0x2b9de59333c8>"
      ]
     },
     "metadata": {},
     "output_type": "display_data"
    }
   ],
   "source": [
    "print(count_parameters(model))\n",
    "import matplotlib.pyplot as plt\n",
    "plt.plot(loss_hists['train'],label=\"train loss\")\n",
    "plt.plot(loss_hists['validate'],label=\"val loss\")\n",
    "plt.legend()\n",
    "plt.show()\n",
    "\n",
    "plt.plot(acc_hist['train'],label=\"train acc\")\n",
    "plt.plot(acc_hist['validate'],label=\"val acc\")\n",
    "plt.legend()\n",
    "plt.show()"
   ]
  },
  {
   "cell_type": "markdown",
   "metadata": {},
   "source": [
    "## kernel=3, feature_maps=200, n_channels2=100,drop_out =0.3"
   ]
  },
  {
   "cell_type": "code",
   "execution_count": 67,
   "metadata": {},
   "outputs": [
    {
     "name": "stdout",
     "output_type": "stream",
     "text": [
      "CNN2(\n",
      "  (embedding): Embedding(100002, 300, padding_idx=0)\n",
      "  (conv1): Conv2d(1, 200, kernel_size=(3, 300), stride=(1, 1))\n",
      "  (conv2): Conv2d(200, 100, kernel_size=(5, 1), stride=(1, 1))\n",
      "  (max1): MaxPool2d(kernel_size=(10, 1), stride=(10, 1), padding=0, dilation=1, ceil_mode=False)\n",
      "  (linear1): Linear(in_features=200, out_features=500, bias=True)\n",
      "  (linear2): Linear(in_features=500, out_features=3, bias=True)\n",
      "  (dp1): Dropout(p=0.3)\n",
      ")\n"
     ]
    },
    {
     "name": "stderr",
     "output_type": "stream",
     "text": [
      "/home/cvh255/pyenv/py3.6.3/lib/python3.6/site-packages/ipykernel_launcher.py:38: UserWarning: invalid index of a 0-dim tensor. This will be an error in PyTorch 0.5. Use tensor.item() to convert a 0-dim tensor to a Python number\n"
     ]
    },
    {
     "name": "stdout",
     "output_type": "stream",
     "text": [
      "Epoch: 0, Phase: train, epoch loss: 0.9141, accuracy: 56.7140\n",
      "Epoch: 0, Phase: validate, epoch loss: 0.8577, accuracy: 62.0000\n"
     ]
    },
    {
     "name": "stderr",
     "output_type": "stream",
     "text": [
      "/home/cvh255/pyenv/py3.6.3/lib/python3.6/site-packages/torch/serialization.py:241: UserWarning: Couldn't retrieve source code for container of type CNN2. It won't be checked for correctness upon loading.\n",
      "  \"type \" + obj.__name__ + \". It won't be checked \"\n"
     ]
    },
    {
     "name": "stdout",
     "output_type": "stream",
     "text": [
      "Epoch: 1, Phase: train, epoch loss: 0.8055, accuracy: 64.3590\n",
      "Epoch: 1, Phase: validate, epoch loss: 0.8211, accuracy: 64.6000\n",
      "Epoch: 2, Phase: train, epoch loss: 0.7453, accuracy: 67.7470\n",
      "Epoch: 2, Phase: validate, epoch loss: 0.8001, accuracy: 65.7000\n",
      "Epoch: 3, Phase: train, epoch loss: 0.6939, accuracy: 70.4650\n",
      "Epoch: 3, Phase: validate, epoch loss: 0.7928, accuracy: 67.2000\n",
      "Epoch: 4, Phase: train, epoch loss: 0.6443, accuracy: 72.9160\n",
      "Epoch: 4, Phase: validate, epoch loss: 0.8277, accuracy: 64.3000\n",
      "Epoch: 5, Phase: train, epoch loss: 0.5963, accuracy: 75.1910\n",
      "Epoch: 5, Phase: validate, epoch loss: 0.8313, accuracy: 63.5000\n",
      "Epoch: 6, Phase: train, epoch loss: 0.5490, accuracy: 77.7080\n",
      "Epoch: 6, Phase: validate, epoch loss: 0.8443, accuracy: 66.0000\n",
      "Epoch: 7, Phase: train, epoch loss: 0.5024, accuracy: 79.6110\n",
      "Epoch: 7, Phase: validate, epoch loss: 0.9358, accuracy: 66.6000\n",
      "Epoch: 8, Phase: train, epoch loss: 0.4622, accuracy: 81.3440\n",
      "Epoch: 8, Phase: validate, epoch loss: 0.9548, accuracy: 64.6000\n",
      "Epoch: 9, Phase: train, epoch loss: 0.4223, accuracy: 83.2280\n",
      "Epoch: 9, Phase: validate, epoch loss: 1.0003, accuracy: 62.4000\n",
      "Best val dice loss: 0.792768, Best Accuracy: 67.200000\n"
     ]
    }
   ],
   "source": [
    "model = CNN2(300, 3, words_to_load+2,200,100,0.3).cuda()\n",
    "criterion = torch.nn.CrossEntropyLoss()  \n",
    "optimizer = torch.optim.Adam(model.parameters(), lr = 0.0005)\n",
    "print(model)\n",
    "\n",
    "m_save, loss_hists,acc_hist = training(model,criterion,optimizer,\"model_cnn11\",10)"
   ]
  },
  {
   "cell_type": "code",
   "execution_count": 68,
   "metadata": {},
   "outputs": [
    {
     "name": "stdout",
     "output_type": "stream",
     "text": [
      "30382903\n"
     ]
    },
    {
     "data": {
      "image/png": "[encoded data removed]",
      "text/plain": [
       "<matplotlib.figure.Figure at 0x2b9de5d2f320>"
      ]
     },
     "metadata": {},
     "output_type": "display_data"
    },
    {
     "data": {
      "image/png": "[encoded data removed]",
      "text/plain": [
       "<matplotlib.figure.Figure at 0x2b9de5f98da0>"
      ]
     },
     "metadata": {},
     "output_type": "display_data"
    }
   ],
   "source": [
    "print(count_parameters(model))\n",
    "import matplotlib.pyplot as plt\n",
    "plt.plot(loss_hists['train'],label=\"train loss\")\n",
    "plt.plot(loss_hists['validate'],label=\"val loss\")\n",
    "plt.legend()\n",
    "plt.show()\n",
    "\n",
    "plt.plot(acc_hist['train'],label=\"train acc\")\n",
    "plt.plot(acc_hist['validate'],label=\"val acc\")\n",
    "plt.legend()\n",
    "plt.show()"
   ]
  },
  {
   "cell_type": "markdown",
   "metadata": {},
   "source": [
    "## kernel=3, feature_maps=200, n_channels2=100,drop_out =0.2"
   ]
  },
  {
   "cell_type": "code",
   "execution_count": 69,
   "metadata": {},
   "outputs": [
    {
     "name": "stdout",
     "output_type": "stream",
     "text": [
      "CNN2(\n",
      "  (embedding): Embedding(100002, 300, padding_idx=0)\n",
      "  (conv1): Conv2d(1, 200, kernel_size=(3, 300), stride=(1, 1))\n",
      "  (conv2): Conv2d(200, 100, kernel_size=(5, 1), stride=(1, 1))\n",
      "  (max1): MaxPool2d(kernel_size=(10, 1), stride=(10, 1), padding=0, dilation=1, ceil_mode=False)\n",
      "  (linear1): Linear(in_features=200, out_features=500, bias=True)\n",
      "  (linear2): Linear(in_features=500, out_features=3, bias=True)\n",
      "  (dp1): Dropout(p=0.2)\n",
      ")\n"
     ]
    },
    {
     "name": "stderr",
     "output_type": "stream",
     "text": [
      "/home/cvh255/pyenv/py3.6.3/lib/python3.6/site-packages/ipykernel_launcher.py:38: UserWarning: invalid index of a 0-dim tensor. This will be an error in PyTorch 0.5. Use tensor.item() to convert a 0-dim tensor to a Python number\n"
     ]
    },
    {
     "name": "stdout",
     "output_type": "stream",
     "text": [
      "Epoch: 0, Phase: train, epoch loss: 0.9058, accuracy: 57.2590\n",
      "Epoch: 0, Phase: validate, epoch loss: 0.8478, accuracy: 61.3000\n"
     ]
    },
    {
     "name": "stderr",
     "output_type": "stream",
     "text": [
      "/home/cvh255/pyenv/py3.6.3/lib/python3.6/site-packages/torch/serialization.py:241: UserWarning: Couldn't retrieve source code for container of type CNN2. It won't be checked for correctness upon loading.\n",
      "  \"type \" + obj.__name__ + \". It won't be checked \"\n"
     ]
    },
    {
     "name": "stdout",
     "output_type": "stream",
     "text": [
      "Epoch: 1, Phase: train, epoch loss: 0.7941, accuracy: 64.8270\n",
      "Epoch: 1, Phase: validate, epoch loss: 0.8308, accuracy: 61.4000\n",
      "Epoch: 2, Phase: train, epoch loss: 0.7300, accuracy: 68.2340\n",
      "Epoch: 2, Phase: validate, epoch loss: 0.8133, accuracy: 64.2000\n",
      "Epoch: 3, Phase: train, epoch loss: 0.6753, accuracy: 71.2910\n",
      "Epoch: 3, Phase: validate, epoch loss: 0.8113, accuracy: 64.8000\n",
      "Epoch: 4, Phase: train, epoch loss: 0.6184, accuracy: 74.1370\n",
      "Epoch: 4, Phase: validate, epoch loss: 0.8392, accuracy: 65.0000\n",
      "Epoch: 5, Phase: train, epoch loss: 0.5615, accuracy: 76.8140\n",
      "Epoch: 5, Phase: validate, epoch loss: 0.8887, accuracy: 64.9000\n",
      "Epoch: 6, Phase: train, epoch loss: 0.5084, accuracy: 79.4050\n",
      "Epoch: 6, Phase: validate, epoch loss: 0.9379, accuracy: 63.8000\n",
      "Epoch: 7, Phase: train, epoch loss: 0.4586, accuracy: 81.6120\n",
      "Epoch: 7, Phase: validate, epoch loss: 0.9744, accuracy: 62.7000\n",
      "Epoch: 8, Phase: train, epoch loss: 0.4166, accuracy: 83.2900\n",
      "Epoch: 8, Phase: validate, epoch loss: 1.0359, accuracy: 62.7000\n",
      "Epoch: 9, Phase: train, epoch loss: 0.3758, accuracy: 85.1860\n",
      "Epoch: 9, Phase: validate, epoch loss: 1.1449, accuracy: 63.4000\n",
      "Best val dice loss: 0.839154, Best Accuracy: 65.000000\n"
     ]
    }
   ],
   "source": [
    "model = CNN2(300, 3, words_to_load+2,200,100,0.2).cuda()\n",
    "criterion = torch.nn.CrossEntropyLoss()  \n",
    "optimizer = torch.optim.Adam(model.parameters(), lr = 0.0005)\n",
    "print(model)\n",
    "\n",
    "m_save, loss_hists,acc_hist = training(model,criterion,optimizer,\"model_cnn12\",10)"
   ]
  },
  {
   "cell_type": "code",
   "execution_count": 70,
   "metadata": {},
   "outputs": [
    {
     "name": "stdout",
     "output_type": "stream",
     "text": [
      "30382903\n"
     ]
    },
    {
     "data": {
      "image/png": "[encoded data removed]",
      "text/plain": [
       "<matplotlib.figure.Figure at 0x2b9de5ec5e80>"
      ]
     },
     "metadata": {},
     "output_type": "display_data"
    },
    {
     "data": {
      "image/png": "[encoded data removed]",
      "text/plain": [
       "<matplotlib.figure.Figure at 0x2b9de5e95160>"
      ]
     },
     "metadata": {},
     "output_type": "display_data"
    }
   ],
   "source": [
    "print(count_parameters(model))\n",
    "import matplotlib.pyplot as plt\n",
    "plt.plot(loss_hists['train'],label=\"train loss\")\n",
    "plt.plot(loss_hists['validate'],label=\"val loss\")\n",
    "plt.legend()\n",
    "plt.show()\n",
    "\n",
    "plt.plot(acc_hist['train'],label=\"train acc\")\n",
    "plt.plot(acc_hist['validate'],label=\"val acc\")\n",
    "plt.legend()\n",
    "plt.show()"
   ]
  },
  {
   "cell_type": "markdown",
   "metadata": {},
   "source": []
  },
  {
   "cell_type": "code",
   "execution_count": 71,
   "metadata": {},
   "outputs": [],
   "source": [
    "class CNN3(nn.Module):\n",
    "    def __init__(self, emb_size, num_classes, vocab_size,n_feat,n_channel,dp):\n",
    "        super(CNN3, self).__init__()\n",
    "        self.embedding = nn.Embedding(vocab_size, emb_size, padding_idx = PAD_IDX)\n",
    "        self.embedding.from_pretrained(torch.from_numpy(loaded_embeddings), freeze=False)\n",
    "        self.n_channel =n_channel\n",
    "        self.conv1 = nn.Conv2d(1,n_feat,kernel_size=(7,300),stride=(1,1))\n",
    "        self.conv2 = nn.Conv2d(n_feat,self.n_channel,kernel_size=(5,1),stride=(1,1))\n",
    "        \n",
    "        self.max1 = nn.MaxPool2d(kernel_size=(10,1))\n",
    "        self.linear1 = nn.Linear(2*self.n_channel, 500)\n",
    "        self.linear2 = nn.Linear(500,num_classes)\n",
    "        self.dp1 = nn.Dropout(p=dp)\n",
    "\n",
    "    def forward(self, data_s1, length1, data_s2, length2):\n",
    "\n",
    "        embed1 = torch.unsqueeze(self.embedding(data_s1),dim=1)\n",
    "        embed2 = torch.unsqueeze(self.embedding(data_s2),dim=1)\n",
    "        \n",
    "        out1 = F.relu(self.conv1(embed1))\n",
    "        out2 = F.relu(self.conv1(embed2))\n",
    "        \n",
    "        out1 = F.relu(self.conv2(out1))\n",
    "        out2 = F.relu(self.conv2(out2))\n",
    "\n",
    "#         print(\"out\",out1.size())\n",
    "        mout1 = self.max1(out1)\n",
    "        mout2 = self.max1(out2)\n",
    "#         print(\"mout\",mout1.size())\n",
    "        \n",
    "        sum1 = torch.squeeze(torch.sum(mout1,dim=2))\n",
    "        sum2 = torch.squeeze(torch.sum(mout2,dim=2))\n",
    "#         print(\"sum\",sum1.size())\n",
    "#         combined_out = torch.squeeze(torch.cat([mout1, mout2], dim=1))\n",
    "        combined_out = torch.cat([sum1,sum2],dim=1)\n",
    "#         print(\"comb\",combined_out.size())\n",
    "        \n",
    "        logits = F.relu(self.linear1(self.dp1(combined_out)))\n",
    "        res = self.linear2(logits)\n",
    "        \n",
    "        return res\n",
    "\n",
    "\n",
    "\n"
   ]
  },
  {
   "cell_type": "markdown",
   "metadata": {},
   "source": [
    "## kernel=7, feature_maps=200, n_channels2=100,drop_out =0.3"
   ]
  },
  {
   "cell_type": "code",
   "execution_count": 76,
   "metadata": {},
   "outputs": [
    {
     "name": "stdout",
     "output_type": "stream",
     "text": [
      "CNN3(\n",
      "  (embedding): Embedding(100002, 300, padding_idx=0)\n",
      "  (conv1): Conv2d(1, 200, kernel_size=(7, 300), stride=(1, 1))\n",
      "  (conv2): Conv2d(200, 100, kernel_size=(5, 1), stride=(1, 1))\n",
      "  (max1): MaxPool2d(kernel_size=(10, 1), stride=(10, 1), padding=0, dilation=1, ceil_mode=False)\n",
      "  (linear1): Linear(in_features=200, out_features=500, bias=True)\n",
      "  (linear2): Linear(in_features=500, out_features=3, bias=True)\n",
      "  (dp1): Dropout(p=0.3)\n",
      ")\n"
     ]
    },
    {
     "name": "stderr",
     "output_type": "stream",
     "text": [
      "/home/cvh255/pyenv/py3.6.3/lib/python3.6/site-packages/ipykernel_launcher.py:38: UserWarning: invalid index of a 0-dim tensor. This will be an error in PyTorch 0.5. Use tensor.item() to convert a 0-dim tensor to a Python number\n"
     ]
    },
    {
     "name": "stdout",
     "output_type": "stream",
     "text": [
      "Epoch: 0, Phase: train, epoch loss: 0.9199, accuracy: 56.2680\n",
      "Epoch: 0, Phase: validate, epoch loss: 0.8610, accuracy: 60.6000\n"
     ]
    },
    {
     "name": "stderr",
     "output_type": "stream",
     "text": [
      "/home/cvh255/pyenv/py3.6.3/lib/python3.6/site-packages/torch/serialization.py:241: UserWarning: Couldn't retrieve source code for container of type CNN3. It won't be checked for correctness upon loading.\n",
      "  \"type \" + obj.__name__ + \". It won't be checked \"\n"
     ]
    },
    {
     "name": "stdout",
     "output_type": "stream",
     "text": [
      "Epoch: 1, Phase: train, epoch loss: 0.8030, accuracy: 64.0630\n",
      "Epoch: 1, Phase: validate, epoch loss: 0.8230, accuracy: 64.7000\n",
      "Epoch: 2, Phase: train, epoch loss: 0.7338, accuracy: 68.0340\n",
      "Epoch: 2, Phase: validate, epoch loss: 0.8164, accuracy: 63.6000\n",
      "Epoch: 3, Phase: train, epoch loss: 0.6592, accuracy: 71.9990\n",
      "Epoch: 3, Phase: validate, epoch loss: 0.8651, accuracy: 63.3000\n",
      "Epoch: 4, Phase: train, epoch loss: 0.5840, accuracy: 75.7510\n",
      "Epoch: 4, Phase: validate, epoch loss: 0.9200, accuracy: 62.5000\n",
      "Epoch: 5, Phase: train, epoch loss: 0.5032, accuracy: 79.6450\n",
      "Epoch: 5, Phase: validate, epoch loss: 0.9756, accuracy: 61.6000\n",
      "Epoch: 6, Phase: train, epoch loss: 0.4345, accuracy: 82.7350\n",
      "Epoch: 6, Phase: validate, epoch loss: 1.1021, accuracy: 61.9000\n",
      "Epoch: 7, Phase: train, epoch loss: 0.3730, accuracy: 85.4220\n",
      "Epoch: 7, Phase: validate, epoch loss: 1.1571, accuracy: 60.5000\n",
      "Epoch: 8, Phase: train, epoch loss: 0.3231, accuracy: 87.4140\n",
      "Epoch: 8, Phase: validate, epoch loss: 1.3389, accuracy: 60.0000\n",
      "Epoch: 9, Phase: train, epoch loss: 0.2839, accuracy: 89.0430\n",
      "Epoch: 9, Phase: validate, epoch loss: 1.3861, accuracy: 61.0000\n",
      "Best val dice loss: 0.822983, Best Accuracy: 64.700000\n"
     ]
    }
   ],
   "source": [
    "model = CNN3(300, 3, words_to_load+2,200,100,0.3).cuda()\n",
    "criterion = torch.nn.CrossEntropyLoss()  \n",
    "optimizer = torch.optim.Adam(model.parameters(), lr = 0.0005)\n",
    "print(model)\n",
    "\n",
    "m_save, loss_hists,acc_hist = training(model,criterion,optimizer,\"model_cnn13\",10)"
   ]
  },
  {
   "cell_type": "code",
   "execution_count": 77,
   "metadata": {},
   "outputs": [
    {
     "name": "stdout",
     "output_type": "stream",
     "text": [
      "30622903\n"
     ]
    },
    {
     "data": {
      "image/png": "[encoded data removed]",
      "text/plain": [
       "<matplotlib.figure.Figure at 0x2b9de5efd978>"
      ]
     },
     "metadata": {},
     "output_type": "display_data"
    },
    {
     "data": {
      "image/png": "[encoded data removed]",
      "text/plain": [
       "<matplotlib.figure.Figure at 0x2b9defd44860>"
      ]
     },
     "metadata": {},
     "output_type": "display_data"
    }
   ],
   "source": [
    "print(count_parameters(model))\n",
    "import matplotlib.pyplot as plt\n",
    "plt.plot(loss_hists['train'],label=\"train loss\")\n",
    "plt.plot(loss_hists['validate'],label=\"val loss\")\n",
    "plt.legend()\n",
    "plt.show()\n",
    "\n",
    "plt.plot(acc_hist['train'],label=\"train acc\")\n",
    "plt.plot(acc_hist['validate'],label=\"val acc\")\n",
    "plt.legend()\n",
    "plt.show()"
   ]
  },
  {
   "cell_type": "markdown",
   "metadata": {},
   "source": [
    "## kernel=3, feature_maps=200, n_channels2=100,drop_out =0.2,weight_decay=0.000001"
   ]
  },
  {
   "cell_type": "code",
   "execution_count": 74,
   "metadata": {},
   "outputs": [
    {
     "name": "stdout",
     "output_type": "stream",
     "text": [
      "CNN2(\n",
      "  (embedding): Embedding(100002, 300, padding_idx=0)\n",
      "  (conv1): Conv2d(1, 200, kernel_size=(3, 300), stride=(1, 1))\n",
      "  (conv2): Conv2d(200, 100, kernel_size=(5, 1), stride=(1, 1))\n",
      "  (max1): MaxPool2d(kernel_size=(10, 1), stride=(10, 1), padding=0, dilation=1, ceil_mode=False)\n",
      "  (linear1): Linear(in_features=200, out_features=500, bias=True)\n",
      "  (linear2): Linear(in_features=500, out_features=3, bias=True)\n",
      "  (dp1): Dropout(p=0.2)\n",
      ")\n"
     ]
    },
    {
     "name": "stderr",
     "output_type": "stream",
     "text": [
      "/home/cvh255/pyenv/py3.6.3/lib/python3.6/site-packages/ipykernel_launcher.py:38: UserWarning: invalid index of a 0-dim tensor. This will be an error in PyTorch 0.5. Use tensor.item() to convert a 0-dim tensor to a Python number\n"
     ]
    },
    {
     "name": "stdout",
     "output_type": "stream",
     "text": [
      "Epoch: 0, Phase: train, epoch loss: 0.9047, accuracy: 57.3710\n",
      "Epoch: 0, Phase: validate, epoch loss: 0.8261, accuracy: 62.2000\n"
     ]
    },
    {
     "name": "stderr",
     "output_type": "stream",
     "text": [
      "/home/cvh255/pyenv/py3.6.3/lib/python3.6/site-packages/torch/serialization.py:241: UserWarning: Couldn't retrieve source code for container of type CNN2. It won't be checked for correctness upon loading.\n",
      "  \"type \" + obj.__name__ + \". It won't be checked \"\n"
     ]
    },
    {
     "name": "stdout",
     "output_type": "stream",
     "text": [
      "Epoch: 1, Phase: train, epoch loss: 0.7988, accuracy: 64.4350\n",
      "Epoch: 1, Phase: validate, epoch loss: 0.7971, accuracy: 64.5000\n",
      "Epoch: 2, Phase: train, epoch loss: 0.7399, accuracy: 67.9640\n",
      "Epoch: 2, Phase: validate, epoch loss: 0.7948, accuracy: 63.7000\n",
      "Epoch: 3, Phase: train, epoch loss: 0.6893, accuracy: 70.5660\n",
      "Epoch: 3, Phase: validate, epoch loss: 0.7904, accuracy: 65.8000\n",
      "Epoch: 4, Phase: train, epoch loss: 0.6429, accuracy: 72.9190\n",
      "Epoch: 4, Phase: validate, epoch loss: 0.8078, accuracy: 67.0000\n",
      "Epoch: 5, Phase: train, epoch loss: 0.5950, accuracy: 75.1510\n",
      "Epoch: 5, Phase: validate, epoch loss: 0.7886, accuracy: 67.4000\n",
      "Epoch: 6, Phase: train, epoch loss: 0.5491, accuracy: 77.4380\n",
      "Epoch: 6, Phase: validate, epoch loss: 0.8373, accuracy: 65.6000\n",
      "Epoch: 7, Phase: train, epoch loss: 0.5020, accuracy: 79.6230\n",
      "Epoch: 7, Phase: validate, epoch loss: 0.9046, accuracy: 64.8000\n",
      "Epoch: 8, Phase: train, epoch loss: 0.4601, accuracy: 81.4960\n",
      "Epoch: 8, Phase: validate, epoch loss: 0.9578, accuracy: 63.2000\n",
      "Epoch: 9, Phase: train, epoch loss: 0.4195, accuracy: 83.1730\n",
      "Epoch: 9, Phase: validate, epoch loss: 1.0297, accuracy: 64.9000\n",
      "Best val dice loss: 0.788608, Best Accuracy: 67.400000\n"
     ]
    }
   ],
   "source": [
    "model = CNN2(300, 3, words_to_load+2,200,100,0.2).cuda()\n",
    "criterion = torch.nn.CrossEntropyLoss()  \n",
    "optimizer = torch.optim.Adam(model.parameters(), lr = 0.0005,weight_decay=0.000001)\n",
    "print(model)\n",
    "\n",
    "m_save, loss_hists,acc_hist = training(model,criterion,optimizer,\"model_cnn14\",10)"
   ]
  },
  {
   "cell_type": "code",
   "execution_count": 75,
   "metadata": {},
   "outputs": [
    {
     "name": "stdout",
     "output_type": "stream",
     "text": [
      "30382903\n"
     ]
    },
    {
     "data": {
      "image/png": "[encoded data removed]",
      "text/plain": [
       "<matplotlib.figure.Figure at 0x2b9defc2c2e8>"
      ]
     },
     "metadata": {},
     "output_type": "display_data"
    },
    {
     "data": {
      "image/png": "[encoded data removed]",
      "text/plain": [
       "<matplotlib.figure.Figure at 0x2b9defd7b470>"
      ]
     },
     "metadata": {},
     "output_type": "display_data"
    }
   ],
   "source": [
    "print(count_parameters(model))\n",
    "import matplotlib.pyplot as plt\n",
    "plt.plot(loss_hists['train'],label=\"train loss\")\n",
    "plt.plot(loss_hists['validate'],label=\"val loss\")\n",
    "plt.legend()\n",
    "plt.show()\n",
    "\n",
    "plt.plot(acc_hist['train'],label=\"train acc\")\n",
    "plt.plot(acc_hist['validate'],label=\"val acc\")\n",
    "plt.legend()\n",
    "plt.show()"
   ]
  },
  {
   "cell_type": "code",
   "execution_count": null,
   "metadata": {},
   "outputs": [],
   "source": []
  }
 ],
 "metadata": {
  "kernelspec": {
   "display_name": "Python 3",
   "language": "python",
   "name": "python3"
  },
  "language_info": {
   "codemirror_mode": {
    "name": "ipython",
    "version": 3
   },
   "file_extension": ".py",
   "mimetype": "text/x-python",
   "name": "python",
   "nbconvert_exporter": "python",
   "pygments_lexer": "ipython3",
   "version": "3.6.3"
  }
 },
 "nbformat": 4,
 "nbformat_minor": 2
}
